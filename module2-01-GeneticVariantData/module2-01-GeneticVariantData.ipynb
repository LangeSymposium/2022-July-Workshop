{
 "cells": [
  {
   "cell_type": "markdown",
   "id": "d94f462c",
   "metadata": {},
   "source": [
    "# Easy Manipulation of Genetic Variant Data"
   ]
  },
  {
   "cell_type": "markdown",
   "id": "f17ba94c",
   "metadata": {},
   "source": [
    "For analysis of genetic variants, single nucleotide polymorphism (SNP) information is widely used. \n",
    "\n",
    "- A SNP corresponds to a nucleotide position on the genome where some degree of variation has been observed in a population, with each individual have one of several possible alleles at that position on each of a pair of chromosomes. \n",
    "- The alleles are often classified as a reference allele (REF, allele on the [reference genome](https://en.wikipedia.org/wiki/Reference_genome)) and alternative alleles (ALT).  \n",
    "- The most widely used repository for SNP information is [dbSNP](https://www.ncbi.nlm.nih.gov/snp/), where each SNP is indexed by an identifier beginning with `rs` (\"rsID\"). \n",
    "- We commonly use biallelic SNPs for many analyses. We will assume biallelic SNPs for this tutorial.\n",
    "\n",
    "\n",
    "The _genotypes_ of each sample for each variant is commonly coded in:\n",
    "\n",
    "| value | genotype |\n",
    "|:---:|:---:|\n",
    "| 0 | homozygous REF |\n",
    "| 1 | heterozyguous REF/ALT |\n",
    "| 2 | homozygous ALT |\n",
    "\n",
    "Sometimes, when the genotype has uncertainties, it is represented in _dosage_ after imputation. Given the posterior probabilities of each genotype, dosage is computed as \n",
    "$$\\mathrm{dosage = 0 \\cdot Prob(REF/REF) + 1 \\cdot Prob(REF/ALT) + 2 \\cdot Prob(ALT/ALT)}$$\n",
    "and have values in $[0, 2]$. \n",
    "\n",
    "\n",
    "\n",
    "Often, the data formats for genetic variants include\n",
    "- Information of $m$ samples (identifier, sex, phenotypes, etc.)\n",
    "- Information of $n$ SNPs (identifier, chromosome, position, REF/ALT alleles, etc.)\n",
    "- An $m \\times n$ table or matrix containing the observed allelic type at $n$  positions for $m$ individuals.\n",
    "\n",
    "A common type of analysis for this data is [genome-wide association studies (GWAS)](https://en.wikipedia.org/wiki/Genome-wide_association_study), often testing a statistical hypothesis variant by variant. Significance of each SNP is assessed by some type of regression:\n",
    "$$\n",
    "\\mathrm{trait ∼ SNP + age + sex +  principal\\;components + other\\;covariates }\n",
    "$$\n",
    "\n",
    "In this workshop, we learn four widely-used file types for genetic variants and how to manipulate them in Julia. We focus on accessing genotype information variant by varint, as it is a common workflow for a GWAS-based application. We learn also try to compute some simple properties of SNPs such as minor allele frequencies (MAF). \n",
    "\n",
    "__Why there are so many formats...__\n",
    "\n",
    "Genetics is a fast-moving subject driven by academics. In the early stage, they devise format that best suit their needs, rather than using what is out there. As the field matures, it converges to a couple of dominant formats. The formats covered in this workshop are considered to be a relatively dominant ones. There are many, many more out there. "
   ]
  },
  {
   "cell_type": "markdown",
   "id": "5eaa3c89",
   "metadata": {},
   "source": [
    "## Genetic Variant File Formats\n",
    "\n",
    "\n",
    "### Variant Call Format (`.vcf`)\n",
    "Text-based format is the most intuitive to represent genetic variants. It is the most flexible format to include diverse information on the samples and variants.\n",
    "\n",
    "(For raw text format)\n",
    "- __Pros__: Highly flexible, easy to parse and interpret\n",
    "- __Cons__: Large file size\n",
    "\n",
    "With the scale of recent genetic data, with data set like UK Biobank having near a million subjects and millions of variants, the storage needed for storing a raw VCF file is prohibitively huge. A common approach to remedy this is storing the data in a compressed form (such as `.gz` file) and decompress it at analysis time as a stream. However, there is a trade-off between stored file size and time needed for decompression.\n",
    "\n",
    "(For compressed format)\n",
    "- __Pros__: Reasonable file size with flexible representation\n",
    "- __Cons__: Takes too long to decompress\n",
    "\n",
    "\n",
    "\n"
   ]
  },
  {
   "cell_type": "markdown",
   "id": "761f5d82",
   "metadata": {},
   "source": [
    "#### Basic usage: `VCFTools.jl`"
   ]
  },
  {
   "cell_type": "code",
   "execution_count": null,
   "id": "e74e60ca",
   "metadata": {},
   "outputs": [],
   "source": [
    "using VCFTools\n",
    "\n",
    "fh = openvcf(\"test_vcf.vcf.gz\", \"r\")\n",
    "for l in 1:35\n",
    "    println(readline(fh))\n",
    "end\n",
    "close(fh)"
   ]
  },
  {
   "cell_type": "markdown",
   "id": "95145579",
   "metadata": {},
   "source": [
    "As in typical VCF files, it has a bunch of meta-information lines, one header line for column names, and then one line for each marker. In this VCF, genetic data has fields GT (genotype), DS (dosage), and GL (genotype likelihood)."
   ]
  },
  {
   "cell_type": "markdown",
   "id": "fc5fbe6e",
   "metadata": {},
   "source": [
    "To access number of records and samples (individuals):"
   ]
  },
  {
   "cell_type": "code",
   "execution_count": null,
   "id": "e6db307c",
   "metadata": {},
   "outputs": [],
   "source": [
    "records = nrecords(\"test_vcf.vcf.gz\")"
   ]
  },
  {
   "cell_type": "code",
   "execution_count": null,
   "id": "03b376e2",
   "metadata": {},
   "outputs": [],
   "source": [
    "samples = nsamples(\"test_vcf.vcf.gz\")"
   ]
  },
  {
   "cell_type": "markdown",
   "id": "dae9c416",
   "metadata": {},
   "source": [
    "Information on samples and variants can be retrieved using the `VariantCallFormat` package:"
   ]
  },
  {
   "cell_type": "markdown",
   "id": "0ccf0591",
   "metadata": {},
   "source": [
    "Sample names can be retrieved by: "
   ]
  },
  {
   "cell_type": "code",
   "execution_count": null,
   "id": "f73c6e3b",
   "metadata": {},
   "outputs": [],
   "source": [
    "using VariantCallFormat\n",
    "reader = VCF.Reader(openvcf(\"test_vcf.vcf.gz\"))\n",
    "h = header(reader)\n",
    "h.sampleID"
   ]
  },
  {
   "cell_type": "markdown",
   "id": "ed42c536",
   "metadata": {},
   "source": [
    "Information of each variant is accessible by:"
   ]
  },
  {
   "cell_type": "code",
   "execution_count": null,
   "id": "ae950702",
   "metadata": {},
   "outputs": [],
   "source": [
    "reader = VCF.Reader(openvcf(\"test_vcf.vcf.gz\"))\n",
    "println(\"chrom\\tposition\\tids\\t\\treference\\talternative\")\n",
    "cnt = 0\n",
    "for record in reader\n",
    "    println(\"$(VCF.chrom(record))\\t$(VCF.pos(record))\\t$(try VCF.id(record) catch; [\".\"] end)\\t$(VCF.ref(record))\\t\\t$(VCF.alt(record))\")\n",
    "    cnt += 1\n",
    "    if cnt == 30\n",
    "        break\n",
    "    end\n",
    "end"
   ]
  },
  {
   "cell_type": "markdown",
   "id": "9ff8e4a2",
   "metadata": {},
   "source": [
    "Each row of a VCF file represents a single variant, so it is natural to parse the genotypes or dosages variant-by-variant. The function `copy_gt!()` computes genotypes of each variant, and `copy_ds!()` computes dosages of each variant, represented by values in $[0, 2]$. \n",
    "\n"
   ]
  },
  {
   "cell_type": "code",
   "execution_count": null,
   "id": "7c7b5f33",
   "metadata": {},
   "outputs": [],
   "source": [
    "using VariantCallFormat\n",
    "using Statistics\n",
    "using StatsBase\n",
    "# initialize VCF reader\n",
    "people, snps = nsamples(\"test_vcf.vcf.gz\"), nrecords(\"test_vcf.vcf.gz\")\n",
    "reader = VCF.Reader(openvcf(\"test_vcf.vcf.gz\"))\n",
    "\n",
    "# pre-allocate vector for marker data\n",
    "g = zeros(Union{Missing, Float64}, people)\n",
    "sampleID = Vector{String}(undef, people)\n",
    "rec_chr = Vector{String}(undef, 1)\n",
    "rec_pos = Vector{Any}(undef, 1)\n",
    "rec_ids = Vector{Vector{String}}(undef, 1)\n",
    "rec_ref = Vector{String}(undef, 1)\n",
    "rec_alt = Vector{Vector{String}}(undef, 1)\n",
    "\n",
    "for j = 1:30\n",
    "    copy_gt!(g, reader; model = :additive, impute = true, \n",
    "        sampleID=sampleID,\n",
    "        record_chr=rec_chr,\n",
    "        record_pos=rec_pos,\n",
    "        record_ids=rec_pos,\n",
    "        record_ref=rec_ref,\n",
    "        record_alt=rec_alt)\n",
    "    # Do some statistical analysis. Just for simple illustration, we show the mean of the genotype values.\n",
    "    println(mean(g))\n",
    "end\n",
    "close(reader)"
   ]
  },
  {
   "cell_type": "markdown",
   "id": "ed1170ae",
   "metadata": {},
   "source": [
    "The keyword arguments: \n",
    "- `model` defines which genotype model to use. The common choice is `:additive` for 0/1/2 encoding. \n",
    "- `impute` sets whether to impute the missing values with the mean of nonmissing values.\n",
    "- `sampleID` stores the list of sample ID.\n",
    "-`record_chr`, `record_pos`, `record_ids`, `record_ref`, and `record_ref` stores chromosome, position, identifiers, reference allele, and alternative alleles, respectively.  "
   ]
  },
  {
   "cell_type": "markdown",
   "id": "a97e1416",
   "metadata": {},
   "source": [
    "### PLINK 1 BED format (`.bed` + `.bim` and `.fam`)\n",
    "\n",
    "In order to rapidly process the variant information while keeping the file size small, various binary file types are devised. This format is basically a compact array of two-bit representation of genotypes. \n",
    "This is the native format of the well-celebrated large-scale GWAS tool, [PLINK 1](https://www.cog-genomics.org/plink/). \n",
    "This is suitable for high-performance applications directly dealing with genotype matrices such as [iterative hard thresholding](https://github.com/OpenMendel/MendelIHT.jl) and [admixture analysis](https://github.com/OpenMendel/OpenADMIXTURE.jl).  Major weakness of this format is that it cannot contain imputed information when there is uncertainty in genotypes.\n",
    "\n",
    "| Genotype | Plink/SnpArray (hexadecimal byte) |  binary | numeric |\n",
    "|:---:|:---:|:---:|:---:|\n",
    "| A1,A1 | `0x00` | `0b00` | `0` |\n",
    "| missing | `0x01` | `0b01` | `1` |\n",
    "| A1,A2 | `0x02` | `0b10` | `2` |\n",
    "| A2,A2 | `0x03` | `0b11` | `3` |\n",
    "\n",
    "\n",
    "- __Pros__: \n",
    "    - Small size. 1/32, 1/16, 1/4 compared to double-precision/single-precision/single character representation\n",
    "    - Fixed-width format suitable for massively accelerated computation (e.g. GPU acceleration)\n",
    "    - Only takes $O(n)$ time to parse $n$ variants of a single sample\n",
    "- __Cons__: \n",
    "    - Only contains hard-called genotypes (0, 1, 2, or missing), and cannot contain imputed values\n",
    "    - Need external files for variant (`.bim`) and sample (`.fam`) information\n",
    "    - REF/ALT designation unsupported\n",
    "    \n",
    "#### Basic usage: `SnpArrays.jl`"
   ]
  },
  {
   "cell_type": "code",
   "execution_count": null,
   "id": "fa7abcb0",
   "metadata": {},
   "outputs": [],
   "source": [
    "using SnpArrays\n",
    "d = SnpData(\"test_bed\")"
   ]
  },
  {
   "cell_type": "markdown",
   "id": "27fd0e6a",
   "metadata": {},
   "source": [
    "Information of i-th sample is accessible by:"
   ]
  },
  {
   "cell_type": "code",
   "execution_count": null,
   "id": "5ad9e533",
   "metadata": {},
   "outputs": [],
   "source": [
    "i = 20\n",
    "d.person_info[i, :]"
   ]
  },
  {
   "cell_type": "markdown",
   "id": "e40f976b",
   "metadata": {},
   "source": [
    "Information of j-th variant is accessible by:"
   ]
  },
  {
   "cell_type": "code",
   "execution_count": null,
   "id": "88ff4de4",
   "metadata": {},
   "outputs": [],
   "source": [
    "j = 7\n",
    "d.snp_info[j, :]"
   ]
  },
  {
   "cell_type": "markdown",
   "id": "82e7aae2",
   "metadata": {},
   "source": [
    "Genotype of sample $i$, variant $j$ is accessible by:"
   ]
  },
  {
   "cell_type": "code",
   "execution_count": null,
   "id": "a4a688fa",
   "metadata": {},
   "outputs": [],
   "source": [
    "d.snparray[i, j]"
   ]
  },
  {
   "cell_type": "markdown",
   "id": "7bfc3462",
   "metadata": {},
   "source": [
    "Note that this is the encoding defined by the table above. If converted numerically in `0`, `1`, `2`-encoding, it corresponds to `2`. "
   ]
  },
  {
   "cell_type": "markdown",
   "id": "1740c4b5",
   "metadata": {},
   "source": [
    "Genotypes of each variant in numeric form can be accessed by:"
   ]
  },
  {
   "cell_type": "code",
   "execution_count": null,
   "id": "c617b424",
   "metadata": {},
   "outputs": [],
   "source": [
    "g = Vector{Float64}(undef, d.people)\n",
    "cnt = 0\n",
    "for j in 1:30\n",
    "    copyto!(g, @view(d.snparray[:, j]); impute=true, \n",
    "        model=ADDITIVE_MODEL, \n",
    "        center=false, scale=false)\n",
    "    # Do some statistical analyses\n",
    "    println(mean(g))\n",
    "end"
   ]
  },
  {
   "cell_type": "markdown",
   "id": "126e9e34",
   "metadata": {},
   "source": [
    "Note that the count of the second allele is encoded, and it is often the reference allele. If it is desired to run the analyses based on the alternative allele count, the values have to be reversed (subtracted from `2.0`). This has led to a lot of confusion, and some later projects began to put the reference allele first (most notably, UK Biobank). "
   ]
  },
  {
   "cell_type": "markdown",
   "id": "af35f9b7",
   "metadata": {},
   "source": [
    "### Oxford BGEN format (`.bgen` + optional `.sample`)\n",
    "The BGEN format is native to Oxford statistical genetics tools, such as [IMPUTE2](https://mathgen.stats.ox.ac.uk/impute/impute_v2.html) and [SNPTEST](https://www.well.ox.ac.uk/~gav/snptest/). This format employs variant-by-variant compression scheme, well-tailored for GWAS applications. The UK Biobank imputed data is distributed in this format. Compression algorithms supported are [Gzip](https://www.gnu.org/software/gzip/) (used in `.gz` files) and [Zstandard](https://facebook.github.io/zstd/) (used in `.zst` files)\n",
    "\n",
    "- __Pros__: \n",
    "    - Very small file size. Further compression from the fixed-width genotype representation\n",
    "    - Admits variable precision.\n",
    "    - Variant-by-variant compression suitable for GWAS\n",
    "    - Allows dosage and phase information\n",
    "- __Cons__: \n",
    "    - Needs an external index for random access\n",
    "    - Compression not tailored for genetic context, very slow to access genotypes of a single individual\n",
    "    - REF/ALT designation unsupported\n",
    "    \n",
    "#### Basic usage (`BGEN.jl`)"
   ]
  },
  {
   "cell_type": "code",
   "execution_count": null,
   "id": "87f3d7d6",
   "metadata": {},
   "outputs": [],
   "source": [
    "using BGEN\n",
    "b = Bgen(\"test_bgen.bgen\")"
   ]
  },
  {
   "cell_type": "markdown",
   "id": "39a99bca",
   "metadata": {},
   "source": [
    "Sample names are accessible by: "
   ]
  },
  {
   "cell_type": "code",
   "execution_count": null,
   "id": "fc0b5dc1",
   "metadata": {},
   "outputs": [],
   "source": [
    "BGEN.samples(b)"
   ]
  },
  {
   "cell_type": "markdown",
   "id": "75ca743f",
   "metadata": {},
   "source": [
    "Since how to iterate across the variants in BGEN files depend on if the index file is provided, we support an iterator interface for variants. If you are familiar with Python, it is an interface similar to generator defined using `yield` statement in Python. This iterator is accessible by the function `iterator()`. "
   ]
  },
  {
   "cell_type": "code",
   "execution_count": null,
   "id": "8dc9d0b0",
   "metadata": {},
   "outputs": [],
   "source": [
    "println(\"rsid\\t\\tchrom\\tpos\\t\\t#alleles\\tlist of alleles\")\n",
    "for (i, v) in enumerate(BGEN.iterator(b))\n",
    "    println(\"$(rsid(v))\\t$(chrom(v))\\t$(pos(v))\\t$(n_alleles(v))\\t\\t$(alleles(v))\")\n",
    "    if i == 30\n",
    "        break\n",
    "    end\n",
    "end"
   ]
  },
  {
   "cell_type": "markdown",
   "id": "13aecf82",
   "metadata": {},
   "source": [
    "Dosage of each variant is accssible by: "
   ]
  },
  {
   "cell_type": "code",
   "execution_count": null,
   "id": "c353baac",
   "metadata": {},
   "outputs": [],
   "source": [
    "for (i, v) in enumerate(BGEN.iterator(b))\n",
    "    g = first_allele_dosage!(b, v) # first allele is the ALT allele in this file.\n",
    "    println(mean(g))\n",
    "    if i == 30\n",
    "        break\n",
    "    end\n",
    "end"
   ]
  },
  {
   "cell_type": "markdown",
   "id": "983134f0",
   "metadata": {},
   "source": [
    "### PLINK 2 PGEN format (`.pgen` + `.pvar` and `.psam`)\n",
    "\n",
    "PGEN is a backward-compatible extension of the BED format for [PLINK 2](https://www.cog-genomics.org/plink/2.0/) under development. It tries to overcome the limitation of the BED format, and can incorporate phase and dosage information. Cutting-edge GWAS tools now support this format. \n",
    "\n",
    "- __Pros__: \n",
    "    - Very small file size, similar to BGEN.\n",
    "    - Variant-by-variant compression suitable for GWAS. \n",
    "    - Allows dosage and phase information\n",
    "    - Difflist or patch list: genetics-inspired compression incorporating linkage disequillibrium\n",
    "        - 4x Faster than reading in `BGEN` with similar precision\n",
    "- __Cons__: \n",
    "    - Still under development\n",
    "    - Difficult to write a parser by admitting too many forms, including the whole BED format.\n",
    "    - Requires external variant (`.pvar`) and sample (`.psam`) files. \n",
    "    \n",
    "Note: [Linkage disequilibrium](https://www.sciencedirect.com/topics/neuroscience/linkage-disequilibrium)\n",
    "\n",
    "> Linkage disequilibrium (LD) is the correlation between nearby variants such that the alleles at neighboring polymorphisms (observed on the same chromosome) are associated within a population more often than if they were unlinked.\n",
    "\n",
    "#### Basic usage"
   ]
  },
  {
   "cell_type": "code",
   "execution_count": null,
   "id": "9ec6c979",
   "metadata": {},
   "outputs": [],
   "source": [
    "using PGENFiles"
   ]
  },
  {
   "cell_type": "code",
   "execution_count": null,
   "id": "2dcaca10",
   "metadata": {},
   "outputs": [],
   "source": [
    "p = Pgen(\"test_pgen.pgen\");"
   ]
  },
  {
   "cell_type": "code",
   "execution_count": null,
   "id": "a3fd819d",
   "metadata": {},
   "outputs": [],
   "source": [
    "print(PGENFiles.n_variants(p)) "
   ]
  },
  {
   "cell_type": "code",
   "execution_count": null,
   "id": "bad153f6",
   "metadata": {},
   "outputs": [],
   "source": [
    "print(PGENFiles.n_samples(p))"
   ]
  },
  {
   "cell_type": "code",
   "execution_count": null,
   "id": "fc7c9ad9",
   "metadata": {},
   "outputs": [],
   "source": [
    "v_iter = PGENFiles.iterator(p);"
   ]
  },
  {
   "cell_type": "code",
   "execution_count": null,
   "id": "1312a521",
   "metadata": {},
   "outputs": [],
   "source": [
    "v = first(v_iter)\n",
    "g, _... = get_genotypes(p, v)"
   ]
  },
  {
   "cell_type": "markdown",
   "id": "f2fbe42b",
   "metadata": {},
   "source": [
    "`g` is the genotype vector."
   ]
  },
  {
   "cell_type": "code",
   "execution_count": null,
   "id": "49e3d9d8",
   "metadata": {},
   "outputs": [],
   "source": [
    "g"
   ]
  },
  {
   "cell_type": "markdown",
   "id": "f1722d11",
   "metadata": {},
   "source": [
    "The encoding is as follows:\n",
    "\n",
    "| genotype code |\tgenotype category |\n",
    "|:---:|:---:|\n",
    "| `0x00` | \thomozygous REF |\n",
    "| `0x01` |\theterozygous REF-ALT |\n",
    "| `0x02` |\thomozygous ALT |\n",
    "| `0x03` |\tmissing |"
   ]
  },
  {
   "cell_type": "markdown",
   "id": "f23f84c9",
   "metadata": {},
   "source": [
    "To avoid array allocations for iterative genotype extraction, one may preallocate `g` and reuse it."
   ]
  },
  {
   "cell_type": "code",
   "execution_count": null,
   "id": "8144feb3",
   "metadata": {},
   "outputs": [],
   "source": [
    "g = Vector{UInt8}(undef, PGENFiles.n_samples(p))\n",
    "for (i, v) in enumerate(PGENFiles.iterator(p))\n",
    "    get_genotypes!(g, p, v)\n",
    "    println(mean(g))\n",
    "    # do someting with genotypes in `g`...\n",
    "    if i == 30\n",
    "        break\n",
    "    end\n",
    "end"
   ]
  },
  {
   "cell_type": "markdown",
   "id": "5bec1602",
   "metadata": {},
   "source": [
    "Similarly, ALT allele dosages are available through the functions `alt_allele_dosage()` and `alt_allele_dosage!()`. As genotype information is required to retrieve dosages, space for genotypes are also required for `alt_allele_dosage!()`. These functions return dosages, parsed genotypes, and endpoint of the dosage information in the current variant record."
   ]
  },
  {
   "cell_type": "code",
   "execution_count": null,
   "id": "7139e283",
   "metadata": {},
   "outputs": [],
   "source": [
    "d = Vector{Float32}(undef, PGENFiles.n_samples(p))\n",
    "g = Vector{UInt8}(undef, PGENFiles.n_samples(p))\n",
    "g_ld = similar(g)\n",
    "for (i, v) in enumerate(v_iter)\n",
    "    alt_allele_dosage!(d, g, p, v)\n",
    "    # do someting with dosage values in `d`...\n",
    "    println(mean(d))\n",
    "    if i == 30\n",
    "        break\n",
    "    end\n",
    "end"
   ]
  },
  {
   "cell_type": "markdown",
   "id": "387a26d9",
   "metadata": {},
   "source": [
    "Information of each sample and variant is available by reading in `.psam` and `.pvar` file as a `DataFrame` (not yet supported by `PGENFiles.jl`). `.pvar` format admits regular `.vcf` format."
   ]
  },
  {
   "cell_type": "code",
   "execution_count": null,
   "id": "37d6aa7e",
   "metadata": {},
   "outputs": [],
   "source": [
    "using DataFrames, CSV"
   ]
  },
  {
   "cell_type": "code",
   "execution_count": null,
   "id": "5d479456",
   "metadata": {},
   "outputs": [],
   "source": [
    "sample_info = CSV.read(\"test_pgen.psam\", DataFrame)\n",
    "first(sample_info, 5)"
   ]
  },
  {
   "cell_type": "markdown",
   "id": "889b950a",
   "metadata": {},
   "source": [
    "For `.pvar` file, all the lines starting with `#` is header, ending with the column names. For `test_pgen.pvar`, it is the 26th line. "
   ]
  },
  {
   "cell_type": "code",
   "execution_count": null,
   "id": "8f71271f",
   "metadata": {},
   "outputs": [],
   "source": [
    "variant_info = CSV.read(\"test_pgen.pvar\", DataFrame; delim=\"\\t\", header=26)\n",
    "first(variant_info, 5)"
   ]
  },
  {
   "cell_type": "markdown",
   "id": "aee7d153",
   "metadata": {},
   "source": [
    "## Exercise"
   ]
  },
  {
   "cell_type": "markdown",
   "id": "14bd20aa",
   "metadata": {},
   "source": [
    "[Minor allele frequency](https://en.wikipedia.org/wiki/Minor_allele_frequency) (MAF) is widely used for determining if a variant is rare or frequent, and in GWAS, it is used for measuring information content of a variant. One such measure is the ratio of actual numerical variance and expected variance from the binomial model ($2 \\hat{p}(1-\\hat{p})$, where $\\hat{p}$ is the MAF in $[0, 1]$). \n",
    "\n",
    "By modifying the code cells above...\n",
    "1. Compute minor allele frequencies using the packages we used. \n",
    "2. Determine the minor/major allele.\n",
    "3. Compute the variance ratio measure? \n",
    "4. Print out the minor allele, MAF, and the variance ratio for each variant."
   ]
  },
  {
   "cell_type": "markdown",
   "id": "b6b7249b",
   "metadata": {},
   "source": [
    "## File format transformation\n",
    "\n",
    "The file formats can be transformed between each other using plink2 on the command line. For example, the files used in this workshop is transformed from a VCF file using the following commands."
   ]
  },
  {
   "cell_type": "code",
   "execution_count": null,
   "id": "8521d1a2",
   "metadata": {},
   "outputs": [],
   "source": [
    "run(`plink2 --vcf test_vcf.vcf.gz --export bgen-1.3 --out test_bgen`) # ALT allele comes first"
   ]
  },
  {
   "cell_type": "code",
   "execution_count": null,
   "id": "06318266",
   "metadata": {},
   "outputs": [],
   "source": [
    "run(`plink2 --vcf test_vcf.vcf.gz --make-bed --out test_bed`) # ALT allele comes first"
   ]
  },
  {
   "cell_type": "code",
   "execution_count": null,
   "id": "146a9b54",
   "metadata": {},
   "outputs": [],
   "source": [
    "run(`plink2 --vcf test_vcf.vcf.gz --make-pgen --out test_pgen`)"
   ]
  },
  {
   "cell_type": "markdown",
   "id": "65007448",
   "metadata": {},
   "source": [
    "## Concluding Remarks: Applications in OpenMendel\n",
    "\n",
    "While we focused on variant-by-variant access of the genetic variant data, many of the packages we have seen has various utility functionalities such as filtering out the variants with low MAF or low genotype success rate, filter by chromosome, and merge. In case of the BED format (`SnpArrays.jl`), we support high-performance linear algebra on the genotype matrix which supports multithreading and GPU (graphics programming unit) computation. "
   ]
  },
  {
   "cell_type": "markdown",
   "id": "cff4a1f5",
   "metadata": {},
   "source": [
    "### GWAS application\n",
    "\n",
    "- `OrdinalGWAS.jl` : GWAS for ordered categorical trait, e.g. disease status (undiagnosed, pre-disease, mild, moderate, severe)\n",
    "- `TrajGWAS.jl` : GWAS for continuous longitudinal phenotypes using a modified linear mixed effects model. Tests both mean effect and within-subject variability effect.\n",
    "\n",
    "\n",
    "### High-performance applications using fixed-width BED format\n",
    "\n",
    "- `MendelIHT.jl` : Rather than GWAS with variant-by-variant testing, uses penalized regression model. \n",
    "- `OpenADMIXTURE.jl` : Estimates ancestry of samples. Julia reimplementation of highly celebrated ADMIXTURE software in C++, 8x faster in multi-threaded setting and 35x faster using GPU.\n",
    "\n",
    "\n",
    "### Others\n",
    "- `VarianceComponentModels.jl` : Fitting and testing variance component models\n",
    "- `MendelImpute.jl` : Fast phase inference and genotype imputation\n",
    "- `TraitSimulation.jl` : Quickly simulate phenotypes under a variety of genetic architectures.\n",
    "- `QuasiCopula.jl` : Analysis of correlated data with specified marginals with a flexible quasi-copula distribution"
   ]
  }
 ],
 "metadata": {
  "kernelspec": {
   "display_name": "Julia 1.7.1",
   "language": "julia",
   "name": "julia-1.7"
  },
  "language_info": {
   "file_extension": ".jl",
   "mimetype": "application/julia",
   "name": "julia",
   "version": "1.7.1"
  }
 },
 "nbformat": 4,
 "nbformat_minor": 5
}
