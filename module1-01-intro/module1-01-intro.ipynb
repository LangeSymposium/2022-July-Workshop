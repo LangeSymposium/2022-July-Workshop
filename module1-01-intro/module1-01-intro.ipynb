{
 "cells": [
  {
   "cell_type": "markdown",
   "metadata": {},
   "source": [
    "# Introduction to Data Science"
   ]
  },
  {
   "cell_type": "markdown",
   "metadata": {},
   "source": [
    "## Data science\n",
    "\n",
    "- Data science, the science of _data analysis_, is the applied mathematics in the 21st century.\n",
    "\n",
    "    <p align=\"center\">\n",
    "    <img src=\"./data-scientist-datacamp.png\" width=\"400\">\n",
    "    </p>\n",
    "    \n",
    "    Source: [DataCamp](https://www.datacamp.com/).\n",
    "\n",
    "- Data is increasing in [volume, variety, velocity, variety](http://www.forbes.com/sites/oreillymedia/2012/01/19/volume-velocity-variety-what-you-need-to-know-about-big-data/).\n",
    "\n",
    "    <p align=\"center\">\n",
    "      <img src=\"./4-Vs-of-big-data.jpg\" width=\"500\">\n",
    "    </p>\n",
    "    \n",
    "    Source: [IBM](https://www.ibm.com/blogs/watson-health/the-5-vs-of-big-data/).\n",
    "\n",
    "- My favorite definition of a _data scientist_:\n",
    "\n",
    "> A data scientist is someone who is better at statistics than any software engineer and better at software engineering than any statistician."
   ]
  },
  {
   "cell_type": "markdown",
   "metadata": {},
   "source": [
    "## Who are hiring?\n",
    "\n",
    "Following tables are based on a survey of 403 students who earned a master’s degree in statistics, biostatistics, or a related field (actuarial science, data science, informatics, math with stats focus) during the 2019–2020 academic year. \n",
    "\n",
    "<p align=\"center\">\n",
    "<img src=\"./ms-employment-sector.png\" width=\"500\">\n",
    "</p>\n",
    "\n",
    "Source: [AmStat News (2021 Nov)](https://magazine.amstat.org/wp-content/uploads/2021/11/AmstatNewsNov2021-updated.pdf).\n",
    "\n",
    "> there were more than 109 unique—although similar—job titles. The most\n",
    "common were data scientist (20), biostatistician\n",
    "(18), data analyst (9), biostatistician I (7), and\n",
    "statistician (5). "
   ]
  },
  {
   "cell_type": "markdown",
   "metadata": {},
   "source": [
    "## A typical data scientist on LinkedIn\n",
    "\n",
    "A position posted by Genetech.\n",
    "<p align=\"center\">\n",
    "  <img src=\"./genetech.png\" height=\"450\" width=\"700\">\n",
    "</p>"
   ]
  },
  {
   "cell_type": "markdown",
   "metadata": {},
   "source": [
    "## Why Jupyter (**Ju**lia/**Pyt**hon/**R**)?\n",
    "\n",
    "<p align=\"center\">\n",
    "  <img src=\"./ms-employment-software.png\" width=\"500\">\n",
    "</p>\n",
    "\n",
    "**Julia**: _Walk Like Python; Run Like C._"
   ]
  },
  {
   "cell_type": "markdown",
   "metadata": {},
   "source": [
    "## What's this workshop about? \n",
    "\n",
    "Hands-on experience on a typical data science workflow using Julia, Python, and R. \n",
    "\n",
    "data ingestion (from text files or databases) -> data wrangling (filtering, selecting, merging, pivoting) -> data visualization (static, interactive) -> data analytics"
   ]
  },
  {
   "cell_type": "markdown",
   "metadata": {},
   "source": [
    "## How to get started\n",
    "\n",
    "Steps: \n",
    "\n",
    "1. Log into server: <>. \n",
    "\n",
    "2. Git clone tutorials: type `git clone https://github.com/LangeSymposium/2022-July-Workshop.git` at terminal.\n",
    "\n",
    "3. In JupyterLab, navigate to the Jupyter notebook and run code chunks."
   ]
  }
 ],
 "metadata": {
  "kernelspec": {
   "display_name": "Julia 1.7.1",
   "language": "julia",
   "name": "julia-1.7"
  },
  "language_info": {
   "file_extension": ".jl",
   "mimetype": "application/julia",
   "name": "julia",
   "version": "1.7.1"
  },
  "toc-autonumbering": true
 },
 "nbformat": 4,
 "nbformat_minor": 4
}
