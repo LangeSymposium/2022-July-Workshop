{
 "cells": [
  {
   "cell_type": "markdown",
   "metadata": {},
   "source": [
    "# Introduction to Data Science"
   ]
  },
  {
   "cell_type": "markdown",
   "metadata": {},
   "source": [
    "## Data science\n",
    "\n",
    "- Data science, the science of _data analysis_, is the applied mathematics in the 21st century.\n",
    "\n",
    "    <p align=\"center\">\n",
    "    <img src=\"./data-scientist-datacamp.png\" width=\"400\">\n",
    "    </p>\n",
    "    \n",
    "    Source: [DataCamp](https://www.datacamp.com/).\n",
    "\n",
    "- Data is increasing in [volume, variety, velocity, variety, and value](http://www.forbes.com/sites/oreillymedia/2012/01/19/volume-velocity-variety-what-you-need-to-know-about-big-data/) (5V).\n",
    "\n",
    "    <p align=\"center\">\n",
    "      <img src=\"./4-Vs-of-big-data.jpg\" width=\"500\">\n",
    "    </p>\n",
    "    \n",
    "    Source: [IBM](https://www.ibm.com/blogs/watson-health/the-5-vs-of-big-data/).\n",
    "\n",
    "- My favorite definition of a _data scientist_ (Josh Willis on Twitter?):\n",
    "\n",
    "> A data scientist is someone who is better at statistics than any software engineer and better at software engineering than any statistician.\n",
    "\n",
    "- [Glassdoor](https://www.glassdoor.com/List/Best-Jobs-in-America-LST_KQ0,20.htm) consistently ranks data scientists as the top 3 best jobs in America."
   ]
  },
  {
   "cell_type": "markdown",
   "metadata": {},
   "source": [
    "## Who are hiring?\n",
    "\n",
    "Following tables are based on a survey of 403 students who earned a master’s degree in statistics, biostatistics, or a related field (actuarial science, data science, informatics, math with stats focus) during the 2019–2020 academic year. \n",
    "\n",
    "<p align=\"center\">\n",
    "<img src=\"./ms-employment-sector.png\" width=\"500\">\n",
    "</p>\n",
    "\n",
    "Source: [AmStat News (2021 Nov)](https://magazine.amstat.org/wp-content/uploads/2021/11/AmstatNewsNov2021-updated.pdf).\n",
    "\n",
    "> there were more than 109 unique—although similar—job titles. The most\n",
    "common were data scientist (20), biostatistician\n",
    "(18), data analyst (9), biostatistician I (7), and\n",
    "statistician (5). "
   ]
  },
  {
   "cell_type": "markdown",
   "metadata": {},
   "source": [
    "## A typical data scientist on LinkedIn\n",
    "\n",
    "A position posted by Genetech.\n",
    "<p align=\"center\">\n",
    "  <img src=\"./genetech.png\" height=\"450\" width=\"700\">\n",
    "</p>"
   ]
  },
  {
   "cell_type": "markdown",
   "metadata": {},
   "source": [
    "## Why Jupyter (**Ju**lia/**Pyt**hon/**R**)?\n",
    "\n",
    "<p align=\"center\">\n",
    "  <img src=\"./ms-employment-software.png\" width=\"500\">\n",
    "</p>\n",
    "\n",
    "**Julia**: _Walk Like Python; Run Like C._"
   ]
  },
  {
   "cell_type": "markdown",
   "metadata": {},
   "source": [
    "## What's this workshop about? \n",
    "\n",
    "- Hands-on experience on a typical data science workflow using Julia, Python, and R. \n",
    "\n",
    "> data ingestion (from text files or databases) -> data wrangling (filtering, selecting, merging, pivoting) -> data visualization (static, interactive) -> data analytics\n",
    "\n",
    "- Module 1 practices the workflow starting from text files or databases.\n",
    "\n",
    "- Module 2 practices the workflow starting from genomic data.\n",
    "\n",
    "- The point is not to memorize all the commands, but to have a high-level understanding of the workflow and appreciate the ease of data manipulations using these languages."
   ]
  },
  {
   "cell_type": "markdown",
   "metadata": {},
   "source": [
    "## MIMIC data\n",
    "\n",
    "<p align=\"center\">\n",
    "  <img src=\"./bidmc.jpeg\" width=\"500\">\n",
    "</p>\n",
    "\n",
    "Source: [URL](https://www.healthcareitnews.com/news/beth-israel-deaconess-creates-homegrown-telehealth-help-amazon)\n",
    "\n",
    "- Tutorials in Module 1 use [MIMIC IV](https://physionet.org/content/mimiciv/1.0/), an intensive care electronic health record (EHR) dataset curated from over 40,000 patients in the Beth Israel Deaconess Medical Center (BIDMC) at Boston. \n",
    "\n",
    "- Suppose you are the chief data scientist at BIDMC and are tasked developing a predictive model to improve the **30-day mortality rate**, a key factor when ranking hospitals. \n",
    "\n",
    "- Given the basic characteristics (e.g., demographics), vital signs, and initial lab tests of a newly admitted ICU patient, can we predict the chance the patient dies within 30 days of the admission?\n",
    "\n",
    "    How to create a meaningful cohort for this predictive modeling? "
   ]
  },
  {
   "cell_type": "markdown",
   "metadata": {},
   "source": [
    "## How to get started\n",
    "\n",
    "1. Log into server: <>. \n",
    "\n",
    "2. Git clone tutorials: type `git clone https://github.com/LangeSymposium/2022-July-Workshop.git` at terminal.\n",
    "\n",
    "3. In JupyterLab, navigate to the Jupyter notebooks and run code chunks.\n",
    "\n",
    "4. Orientation to the JupyterLab interface."
   ]
  }
 ],
 "metadata": {
  "kernelspec": {
   "display_name": "Julia 1.7.1",
   "language": "julia",
   "name": "julia-1.7"
  },
  "language_info": {
   "file_extension": ".jl",
   "mimetype": "application/julia",
   "name": "julia",
   "version": "1.7.1"
  },
  "toc-autonumbering": true
 },
 "nbformat": 4,
 "nbformat_minor": 4
}
