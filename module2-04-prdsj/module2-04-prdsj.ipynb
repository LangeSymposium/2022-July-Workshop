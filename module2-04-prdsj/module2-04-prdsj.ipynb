{
 "cells": [
  {
   "cell_type": "markdown",
   "id": "fcbd506a",
   "metadata": {},
   "source": [
    "# Practicing Reproducible Data Science in Julia\n",
    "\n",
    "**Acknowledgements**\n",
    "\n",
    "- @oxinabox and contributors for [DataDeps.jl](https://github.com/oxinabox/DataDeps.jl). See the related paper [here](https://openresearchsoftware.metajnl.com/article/10.5334/jors.244/).\n",
    "- @JackDunnNZ for [UCIData.jl](https://github.com/JackDunnNZ/UCIData.jl), which uses DataDeps.jl. This helped me understand the usefulness of the package."
   ]
  },
  {
   "cell_type": "markdown",
   "id": "5c66ab03",
   "metadata": {},
   "source": [
    "# Table of Contents\n",
    "\n",
    "1. [Why DataDeps.jl?](#Why-DataDeps.jl?)\n",
    "1. [Overview](#Overview)\n",
    "1. [Creating a Data Dependency](#Creating-a-Data-Dependency)\n",
    "    1. [Example 1: Create a reproducible pipeline to retrieve public datasets](#Example-1:-Creating-a-reproducible-pipeline-to-retrieve-public-datasets)\n",
    "    1. [Example 2: Include a preprocessing step](#Example-2:-Include-a-preprocessing-step)\n",
    "    1. [Example 3: Reproducing datasets derived from simulations](#Example-3:-Reproducing-datasets-derived-from-simulations)\n",
    "        1. [Aside: Random Number Generation](#Aside:-Random-Number-Generation)\n",
    "1. [Integrating into a Project]()"
   ]
  },
  {
   "cell_type": "markdown",
   "id": "eed0b1ac",
   "metadata": {},
   "source": [
    "# Why DataDeps.jl?"
   ]
  },
  {
   "cell_type": "markdown",
   "id": "6f3880b9",
   "metadata": {},
   "source": [
    "Abstract:\n",
    "\n",
    "> We present DataDeps.jl: a julia package for the **reproducible handling of static datasets to enhance\n",
    "the repeatability of scripts used in the data and computational sciences**.\n",
    "> It is used to automate the data setup part of running software which accompanies a paper to replicate a result.\n",
    "> This step is commonly done manually, which expends time and allows for confusion.\n",
    "> This functionality is also useful for other packages which require data to function (e.g. a trained machine learning based model).\n",
    "> DataDeps.jl simplifies extending research software by automatically managing the dependencies and makes it easier\n",
    "to run another author’s code, thus enhancing the reproducibility of data science research."
   ]
  },
  {
   "cell_type": "markdown",
   "id": "461fc383",
   "metadata": {},
   "source": [
    "<img src=\"misc/datadeps-paper-1.1.png\"/>"
   ]
  },
  {
   "cell_type": "markdown",
   "id": "d025b7ac",
   "metadata": {},
   "source": [
    "### Why not store the data in Git?\n",
    "*Source*: [DataDeps.jl documentation](https://www.oxinabox.net/DataDeps.jl/stable/#Why-not-store-the-data-in-Git?-1)\n",
    "\n",
    "**Git is good for files that meet 3 requirements**:\n",
    "\n",
    "- Plain text (not binary)\n",
    "- Smallish (Github will not accept files >50Mb in size)\n",
    "- Dynamic (Git is version control, it is good at knowing about changes)\n",
    "\n",
    "There is certainly some room around the edges for this, like storing a few images in the repository is OK, but storing all of [ImageNet](https://en.wikipedia.org/wiki/ImageNet) is a no go.\n",
    "\n",
    "**DataDeps.jl is good for**:\n",
    "\n",
    "- Any file format (binary is OK)\n",
    "- Any size\n",
    "- Static (that is to say it doesn't change; DataDeps.jl does not do version control)\n",
    "\n",
    "The main use case is downloading large datasets for machine learning, and corpora for NLP.\n",
    "\n",
    "**In this case the data is not even normally yours to begin with.**\n",
    "\n",
    "It lives on some website somewhere.\n",
    "\n",
    "**You don't want to copy and redistribute it; and depending on liscensing you may not even be allowed to.**"
   ]
  },
  {
   "cell_type": "markdown",
   "id": "304368a8",
   "metadata": {},
   "source": [
    "# Overview"
   ]
  },
  {
   "cell_type": "markdown",
   "id": "ac62057c",
   "metadata": {},
   "source": [
    "The DataDeps.jl package makes it so that the special incantation\n",
    "\n",
    "```julia\n",
    "@datadep_str my_dataset\n",
    "```\n",
    "\n",
    "automatically resolves to a local filepath object where a dataset is stored.\n",
    "This means that\n",
    "\n",
    "- Your scripts are not littered with hardcoded paths just to access a data input into some analysis pipeline.\n",
    "- You do not spend time worrying about whether operating systems `xx` and `yy` will be able to handle the filepath.\n",
    "- You do not have to worry about where the dataset is stored. **If the object does not exist locally, DataDeps.jl uses a pre-specified pipeline to retrieve it.**"
   ]
  },
  {
   "cell_type": "markdown",
   "id": "45800562",
   "metadata": {},
   "source": [
    "Let's look at the interface for the [`DataDep`](https://www.oxinabox.net/DataDeps.jl/stable/z40-apiref/#DataDeps.DataDep) type:\n",
    "\n",
    "```julia\n",
    "DataDep(\n",
    "    name::String,\n",
    "    message::String,\n",
    "    remote_path::Union{String,Vector{String}...},\n",
    "    [checksum::Union{String,Vector{String}...},]; # Optional, generated if not provided\n",
    "    # Optional keyword arguments\n",
    "    fetch_method=fetch_default # (remote_filepath, local_directory)->local_filepath\n",
    "    post_fetch_method=identity # (local_filepath)->Any\n",
    ")\n",
    "```"
   ]
  },
  {
   "cell_type": "markdown",
   "id": "6b325afd",
   "metadata": {},
   "source": [
    "- Every `DataDep` has a `name`, which corresponds to a *parent* folder where data is to be stored.\n",
    "\n",
    "\n",
    "\n",
    "- Prior to downloading, a `message` is displayed to a user. This is a good place to make any acknowledgemets regarding the source, including important URLs, **papers that should be cited**, links to additional info, and license information (when applicable). Importantly, user's must consent to downloading the data at this stage.\n",
    "\n",
    "\n",
    "\n",
    "- The `remote_path` is the source associated with a `DataDep`. This can be a single path or multiple paths when given as a list.\n",
    "\n",
    "\n",
    "\n",
    "- The `checksum` is verified after downloading to guarantee that files associated with a `DataDep` are the same as those specified by the creator of the registration block. DataDeps.jl will help you generate a `checksum` that you can then paste into your registration block. Can be an single checksum or multiple checksums applied to each file in `remote_path`.\n",
    "\n",
    "    Not strictly required, but it is good practice!"
   ]
  },
  {
   "cell_type": "markdown",
   "id": "aea3d4d2",
   "metadata": {},
   "source": [
    "### Note\n",
    "\n",
    "If you just want to include a dataset in your project, without any preprocessing, the first four arguments are all you need."
   ]
  },
  {
   "cell_type": "markdown",
   "id": "10aeac1f",
   "metadata": {},
   "source": [
    "### Customizing the download process\n",
    "\n",
    "The `fetch_method` is a function that lets you override the initial download step at `remote_filepath`. Given a `local_directory`, this function must determine a local file name and return that name at the end.\n",
    "\n",
    "By default, the `fetch_method` simply uses `HTTP.jl` to handle URLs or `Base.download` to handle other filepaths.\n",
    "\n",
    "**You want to customize this if**:\n",
    "\n",
    "- you need to use a transfer protocol not covered by Base Julia,\n",
    "\n",
    "- accessing the source requires some form of authentication, or\n",
    "\n",
    "- **your dataset is generated by a simulation you wish to reproduce locally**."
   ]
  },
  {
   "cell_type": "markdown",
   "id": "72def446",
   "metadata": {},
   "source": [
    "The `post_fetch_method` is a function that allows one to manipulate the original data retrieved by the `fetch_method`.\n",
    "\n",
    "**You want to customize this if you want to do some processing of the data and use that version as the starting point in your project**. For example:\n",
    "    \n",
    "- If you are creating multiple `DataDep`s for tabular data in your project, you may want to set a standard format for column names (`x1`, `x2` or `gene1` `gene2`).\n",
    "\n",
    "- You want to screen for missing values, corrupted entries, and so on and have already determined a set of commands to do this automatically.\n",
    "\n",
    "- You want to apply some minor transformations to the data so that it is ready to use in your project immediately after loading it."
   ]
  },
  {
   "cell_type": "markdown",
   "id": "4674f536",
   "metadata": {},
   "source": [
    "# Creating a Data Dependency"
   ]
  },
  {
   "cell_type": "code",
   "execution_count": 1,
   "id": "93e85f0f",
   "metadata": {},
   "outputs": [],
   "source": [
    "# Reading, writing, manipulating, and compressing data\n",
    "using CSV, DataFrames, CodecZlib\n",
    "\n",
    "# Random number generation\n",
    "using Random, StableRNGs\n",
    "\n",
    "# Basic statistics functions\n",
    "using Statistics\n",
    "\n",
    "# Visualization\n",
    "using GLMakie\n",
    "\n",
    "# The star of the show: creating data dependencies\n",
    "using DataDeps"
   ]
  },
  {
   "cell_type": "code",
   "execution_count": 2,
   "id": "0f525bec",
   "metadata": {},
   "outputs": [
    {
     "data": {
      "text/plain": [
       "\"/home/alanderos/jl_i51M0P\""
      ]
     },
     "execution_count": 2,
     "metadata": {},
     "output_type": "execute_result"
    }
   ],
   "source": [
    "# Specify this environment variable to disable to default load paths in DataDeps.jl\n",
    "ENV[\"DATADEPS_NO_STANDARD_LOAD_PATH\"] = true\n",
    "\n",
    "# Specify the load path just for the purposes of this demo.\n",
    "if haskey(ENV, \"DATADEPS_LOAD_PATH\")\n",
    "    rm(ENV[\"DATADEPS_LOAD_PATH\"])\n",
    "end\n",
    "ENV[\"DATADEPS_LOAD_PATH\"] = mktempdir(\"/home/alanderos/\")"
   ]
  },
  {
   "cell_type": "markdown",
   "id": "d327c0d0",
   "metadata": {},
   "source": [
    "## Example 1: Creating a reproducible pipeline to retrieve public datasets"
   ]
  },
  {
   "cell_type": "code",
   "execution_count": 3,
   "id": "28f56f80",
   "metadata": {},
   "outputs": [
    {
     "data": {
      "text/plain": [
       "DataDep{Nothing, String, typeof(DataDeps.fetch_default), typeof(identity)}(\"iris\", \"http://archive.ics.uci.edu/ml/machine-learning-databases/iris/iris.data\", nothing, DataDeps.fetch_default, identity, \"Dataset: iris\\nAuthor: R. A. Fisher (donated by Michael Marshall)\\n\\nObservations: 150\\nFeatures:     4\\nClasses:      3\\n\\nPlease see https://archive.ics.uci.edu/ml/datasets/iris for additional information.\\n\")"
      ]
     },
     "execution_count": 3,
     "metadata": {},
     "output_type": "execute_result"
    }
   ],
   "source": [
    "datadep_iris = DataDep(\n",
    "    # 1. Call this datset \"iris\".\n",
    "    \"iris\",\n",
    "    # 2. Set the message to display when downloading.\n",
    "    \"\"\"\n",
    "    Dataset: iris\n",
    "    Author: R. A. Fisher (donated by Michael Marshall)\n",
    "    \n",
    "    Observations: 150\n",
    "    Features:     4\n",
    "    Classes:      3\n",
    "    \n",
    "    Please see https://archive.ics.uci.edu/ml/datasets/iris for additional information.\n",
    "    \"\"\",\n",
    "    # 3. Set the remote_path used to download data.\n",
    "    \"http://archive.ics.uci.edu/ml/machine-learning-databases/iris/iris.data\",\n",
    ")"
   ]
  },
  {
   "cell_type": "code",
   "execution_count": 4,
   "id": "17db2f8b",
   "metadata": {},
   "outputs": [
    {
     "data": {
      "text/plain": [
       "DataDep{Nothing, String, typeof(DataDeps.fetch_default), typeof(identity)}(\"iris\", \"http://archive.ics.uci.edu/ml/machine-learning-databases/iris/iris.data\", nothing, DataDeps.fetch_default, identity, \"Dataset: iris\\nAuthor: R. A. Fisher (donated by Michael Marshall)\\n\\nObservations: 150\\nFeatures:     4\\nClasses:      3\\n\\nPlease see https://archive.ics.uci.edu/ml/datasets/iris for additional information.\\n\")"
      ]
     },
     "execution_count": 4,
     "metadata": {},
     "output_type": "execute_result"
    }
   ],
   "source": [
    "register(datadep_iris)"
   ]
  },
  {
   "cell_type": "code",
   "execution_count": 5,
   "id": "cf66e6d1",
   "metadata": {},
   "outputs": [
    {
     "name": "stdout",
     "output_type": "stream",
     "text": [
      "This program has requested access to the data dependency iris.\n",
      "which is not currently installed. It can be installed automatically, and you will not see this message again.\n",
      "\n",
      "Dataset: iris\n",
      "Author: R. A. Fisher (donated by Michael Marshall)\n",
      "\n",
      "Observations: 150\n",
      "Features:     4\n",
      "Classes:      3\n",
      "\n",
      "Please see https://archive.ics.uci.edu/ml/datasets/iris for additional information.\n",
      "\n",
      "\n",
      "\n",
      "Do you want to download the dataset from http://archive.ics.uci.edu/ml/machine-learning-databases/iris/iris.data to \"/home/alanderos/jl_i51M0P/iris\"?\n",
      "[y/n]\n",
      "stdin> y\n"
     ]
    },
    {
     "name": "stderr",
     "output_type": "stream",
     "text": [
      "┌ Info: Downloading\n",
      "│   source = http://archive.ics.uci.edu/ml/machine-learning-databases/iris/iris.data\n",
      "│   dest = /home/alanderos/jl_i51M0P/iris/iris.data\n",
      "│   progress = 1.0\n",
      "│   time_taken = 0.03 s\n",
      "│   time_remaining = 0.0 s\n",
      "│   average_speed = 143.365 KiB/s\n",
      "│   downloaded = 4.444 KiB\n",
      "│   remaining = 0 bytes\n",
      "│   total = 4.444 KiB\n",
      "└ @ HTTP /home/alanderos/.julia/packages/HTTP/S5kNN/src/download.jl:132\n",
      "┌ Warning: Checksum not provided, add to the Datadep Registration the following hash line\n",
      "│   hash = 6f608b71a7317216319b4d27b4d9bc84e6abd734eda7872b71a458569e2656c0\n",
      "└ @ DataDeps /home/alanderos/.julia/packages/DataDeps/EDWdQ/src/verification.jl:44\n"
     ]
    },
    {
     "data": {
      "text/plain": [
       "\"/home/alanderos/jl_i51M0P/iris\""
      ]
     },
     "execution_count": 5,
     "metadata": {},
     "output_type": "execute_result"
    }
   ],
   "source": [
    "@datadep_str \"iris\""
   ]
  },
  {
   "cell_type": "markdown",
   "id": "83e4e64a",
   "metadata": {},
   "source": [
    "Note the file information in the help message:\n",
    "\n",
    "> Do you want to download the dataset from http://archive.ics.uci.edu/ml/machine-learning-databases/iris/iris.data to \"/home/alanderos/jl_81EctG/iris\"?\n",
    "\n",
    "This tells us that the file `iris.data` will be downloaded to a folder `iris` located in our DataDeps registry.\n",
    "\n",
    "Let's try reading in the file with CSV.jl and DataFrames.jl:"
   ]
  },
  {
   "cell_type": "code",
   "execution_count": 6,
   "id": "adacd64d",
   "metadata": {},
   "outputs": [
    {
     "data": {
      "text/html": [
       "<div class=\"data-frame\"><p>5 rows × 5 columns</p><table class=\"data-frame\"><thead><tr><th></th><th>5.1</th><th>3.5</th><th>1.4</th><th>0.2</th><th>Iris-setosa</th></tr><tr><th></th><th title=\"Float64\">Float64</th><th title=\"Float64\">Float64</th><th title=\"Float64\">Float64</th><th title=\"Float64\">Float64</th><th title=\"String15\">String15</th></tr></thead><tbody><tr><th>1</th><td>4.9</td><td>3.0</td><td>1.4</td><td>0.2</td><td>Iris-setosa</td></tr><tr><th>2</th><td>4.7</td><td>3.2</td><td>1.3</td><td>0.2</td><td>Iris-setosa</td></tr><tr><th>3</th><td>4.6</td><td>3.1</td><td>1.5</td><td>0.2</td><td>Iris-setosa</td></tr><tr><th>4</th><td>5.0</td><td>3.6</td><td>1.4</td><td>0.2</td><td>Iris-setosa</td></tr><tr><th>5</th><td>5.4</td><td>3.9</td><td>1.7</td><td>0.4</td><td>Iris-setosa</td></tr></tbody></table></div>"
      ],
      "text/latex": [
       "\\begin{tabular}{r|ccccc}\n",
       "\t& 5.1 & 3.5 & 1.4 & 0.2 & Iris-setosa\\\\\n",
       "\t\\hline\n",
       "\t& Float64 & Float64 & Float64 & Float64 & String15\\\\\n",
       "\t\\hline\n",
       "\t1 & 4.9 & 3.0 & 1.4 & 0.2 & Iris-setosa \\\\\n",
       "\t2 & 4.7 & 3.2 & 1.3 & 0.2 & Iris-setosa \\\\\n",
       "\t3 & 4.6 & 3.1 & 1.5 & 0.2 & Iris-setosa \\\\\n",
       "\t4 & 5.0 & 3.6 & 1.4 & 0.2 & Iris-setosa \\\\\n",
       "\t5 & 5.4 & 3.9 & 1.7 & 0.4 & Iris-setosa \\\\\n",
       "\\end{tabular}\n"
      ],
      "text/plain": [
       "\u001b[1m5×5 DataFrame\u001b[0m\n",
       "\u001b[1m Row \u001b[0m│\u001b[1m 5.1     \u001b[0m\u001b[1m 3.5     \u001b[0m\u001b[1m 1.4     \u001b[0m\u001b[1m 0.2     \u001b[0m\u001b[1m Iris-setosa \u001b[0m\n",
       "\u001b[1m     \u001b[0m│\u001b[90m Float64 \u001b[0m\u001b[90m Float64 \u001b[0m\u001b[90m Float64 \u001b[0m\u001b[90m Float64 \u001b[0m\u001b[90m String15    \u001b[0m\n",
       "─────┼─────────────────────────────────────────────────\n",
       "   1 │     4.9      3.0      1.4      0.2  Iris-setosa\n",
       "   2 │     4.7      3.2      1.3      0.2  Iris-setosa\n",
       "   3 │     4.6      3.1      1.5      0.2  Iris-setosa\n",
       "   4 │     5.0      3.6      1.4      0.2  Iris-setosa\n",
       "   5 │     5.4      3.9      1.7      0.4  Iris-setosa"
      ]
     },
     "execution_count": 6,
     "metadata": {},
     "output_type": "execute_result"
    }
   ],
   "source": [
    "df = CSV.read(@datadep_str(\"iris/iris.data\"), DataFrame)\n",
    "first(df, 5)"
   ]
  },
  {
   "cell_type": "markdown",
   "id": "29fe05b6",
   "metadata": {},
   "source": [
    "Note the columns. In this case CSV.jl accidentally detected a header. Fix this by specifying `header=false`."
   ]
  },
  {
   "cell_type": "code",
   "execution_count": 7,
   "id": "e4f79623",
   "metadata": {},
   "outputs": [
    {
     "data": {
      "text/html": [
       "<div class=\"data-frame\"><p>5 rows × 5 columns</p><table class=\"data-frame\"><thead><tr><th></th><th>Column1</th><th>Column2</th><th>Column3</th><th>Column4</th><th>Column5</th></tr><tr><th></th><th title=\"Float64\">Float64</th><th title=\"Float64\">Float64</th><th title=\"Float64\">Float64</th><th title=\"Float64\">Float64</th><th title=\"String15\">String15</th></tr></thead><tbody><tr><th>1</th><td>5.1</td><td>3.5</td><td>1.4</td><td>0.2</td><td>Iris-setosa</td></tr><tr><th>2</th><td>4.9</td><td>3.0</td><td>1.4</td><td>0.2</td><td>Iris-setosa</td></tr><tr><th>3</th><td>4.7</td><td>3.2</td><td>1.3</td><td>0.2</td><td>Iris-setosa</td></tr><tr><th>4</th><td>4.6</td><td>3.1</td><td>1.5</td><td>0.2</td><td>Iris-setosa</td></tr><tr><th>5</th><td>5.0</td><td>3.6</td><td>1.4</td><td>0.2</td><td>Iris-setosa</td></tr></tbody></table></div>"
      ],
      "text/latex": [
       "\\begin{tabular}{r|ccccc}\n",
       "\t& Column1 & Column2 & Column3 & Column4 & Column5\\\\\n",
       "\t\\hline\n",
       "\t& Float64 & Float64 & Float64 & Float64 & String15\\\\\n",
       "\t\\hline\n",
       "\t1 & 5.1 & 3.5 & 1.4 & 0.2 & Iris-setosa \\\\\n",
       "\t2 & 4.9 & 3.0 & 1.4 & 0.2 & Iris-setosa \\\\\n",
       "\t3 & 4.7 & 3.2 & 1.3 & 0.2 & Iris-setosa \\\\\n",
       "\t4 & 4.6 & 3.1 & 1.5 & 0.2 & Iris-setosa \\\\\n",
       "\t5 & 5.0 & 3.6 & 1.4 & 0.2 & Iris-setosa \\\\\n",
       "\\end{tabular}\n"
      ],
      "text/plain": [
       "\u001b[1m5×5 DataFrame\u001b[0m\n",
       "\u001b[1m Row \u001b[0m│\u001b[1m Column1 \u001b[0m\u001b[1m Column2 \u001b[0m\u001b[1m Column3 \u001b[0m\u001b[1m Column4 \u001b[0m\u001b[1m Column5     \u001b[0m\n",
       "\u001b[1m     \u001b[0m│\u001b[90m Float64 \u001b[0m\u001b[90m Float64 \u001b[0m\u001b[90m Float64 \u001b[0m\u001b[90m Float64 \u001b[0m\u001b[90m String15    \u001b[0m\n",
       "─────┼─────────────────────────────────────────────────\n",
       "   1 │     5.1      3.5      1.4      0.2  Iris-setosa\n",
       "   2 │     4.9      3.0      1.4      0.2  Iris-setosa\n",
       "   3 │     4.7      3.2      1.3      0.2  Iris-setosa\n",
       "   4 │     4.6      3.1      1.5      0.2  Iris-setosa\n",
       "   5 │     5.0      3.6      1.4      0.2  Iris-setosa"
      ]
     },
     "execution_count": 7,
     "metadata": {},
     "output_type": "execute_result"
    }
   ],
   "source": [
    "df = CSV.read(@datadep_str(\"iris/iris.data\"), DataFrame, header=false)\n",
    "first(df, 5)"
   ]
  },
  {
   "cell_type": "markdown",
   "id": "399c577e",
   "metadata": {},
   "source": [
    "The download information also mentioned a missing checksum:\n",
    "\n",
    "> ┌ Warning: Checksum not provided, add to the Datadep Registration the following hash line\n",
    ">\n",
    "> │   hash = 6f608b71a7317216319b4d27b4d9bc84e6abd734eda7872b71a458569e2656c0\n",
    ">\n",
    "> └ @ DataDeps /home/alanderos/.julia/packages/DataDeps/EDWdQ/src/verification.jl:44\n",
    "\n",
    "Let's try recreating the `DataDep` with the checksum and running the process again."
   ]
  },
  {
   "cell_type": "code",
   "execution_count": 8,
   "id": "c78a43de",
   "metadata": {},
   "outputs": [
    {
     "data": {
      "text/plain": [
       "DataDep{String, String, typeof(DataDeps.fetch_default), typeof(identity)}(\"iris\", \"http://archive.ics.uci.edu/ml/machine-learning-databases/iris/iris.data\", \"6f608b71a7317216319b4d27b4d9bc84e6abd734eda7872b71a458569e2656c0\", DataDeps.fetch_default, identity, \"Dataset: iris\\nAuthor: R. A. Fisher (donated by Michael Marshall)\\n\\nObservations: 150\\nFeatures:     4\\nClasses:      3\\n\\nPlease see https://archive.ics.uci.edu/ml/datasets/iris for additional information.\\n\")"
      ]
     },
     "execution_count": 8,
     "metadata": {},
     "output_type": "execute_result"
    }
   ],
   "source": [
    "datadep_iris = DataDep(\n",
    "    # 1. Call this datset \"iris\".\n",
    "    \"iris\",\n",
    "    # 2. Set the message to display when downloading.\n",
    "    \"\"\"\n",
    "    Dataset: iris\n",
    "    Author: R. A. Fisher (donated by Michael Marshall)\n",
    "    \n",
    "    Observations: 150\n",
    "    Features:     4\n",
    "    Classes:      3\n",
    "    \n",
    "    Please see https://archive.ics.uci.edu/ml/datasets/iris for additional information.\n",
    "    \"\"\",\n",
    "    # 3. Set the remote_path used to download data.\n",
    "    \"http://archive.ics.uci.edu/ml/machine-learning-databases/iris/iris.data\",\n",
    "    # 4. Set the checksum this time.\n",
    "    \"6f608b71a7317216319b4d27b4d9bc84e6abd734eda7872b71a458569e2656c0\",\n",
    ")"
   ]
  },
  {
   "cell_type": "code",
   "execution_count": 9,
   "id": "206f9089",
   "metadata": {},
   "outputs": [
    {
     "name": "stderr",
     "output_type": "stream",
     "text": [
      "┌ Warning: Over-writing registration of the datadep\n",
      "│   name = iris\n",
      "└ @ DataDeps /home/alanderos/.julia/packages/DataDeps/EDWdQ/src/registration.jl:15\n"
     ]
    },
    {
     "data": {
      "text/plain": [
       "DataDep{String, String, typeof(DataDeps.fetch_default), typeof(identity)}(\"iris\", \"http://archive.ics.uci.edu/ml/machine-learning-databases/iris/iris.data\", \"6f608b71a7317216319b4d27b4d9bc84e6abd734eda7872b71a458569e2656c0\", DataDeps.fetch_default, identity, \"Dataset: iris\\nAuthor: R. A. Fisher (donated by Michael Marshall)\\n\\nObservations: 150\\nFeatures:     4\\nClasses:      3\\n\\nPlease see https://archive.ics.uci.edu/ml/datasets/iris for additional information.\\n\")"
      ]
     },
     "execution_count": 9,
     "metadata": {},
     "output_type": "execute_result"
    }
   ],
   "source": [
    "register(datadep_iris)"
   ]
  },
  {
   "cell_type": "code",
   "execution_count": 10,
   "id": "f6c4e405",
   "metadata": {},
   "outputs": [],
   "source": [
    "rm(@datadep_str(\"iris\"); recursive=true)"
   ]
  },
  {
   "cell_type": "code",
   "execution_count": 11,
   "id": "c244df32",
   "metadata": {},
   "outputs": [
    {
     "name": "stdout",
     "output_type": "stream",
     "text": [
      "This program has requested access to the data dependency iris.\n",
      "which is not currently installed. It can be installed automatically, and you will not see this message again.\n",
      "\n",
      "Dataset: iris\n",
      "Author: R. A. Fisher (donated by Michael Marshall)\n",
      "\n",
      "Observations: 150\n",
      "Features:     4\n",
      "Classes:      3\n",
      "\n",
      "Please see https://archive.ics.uci.edu/ml/datasets/iris for additional information.\n",
      "\n",
      "\n",
      "\n",
      "Do you want to download the dataset from http://archive.ics.uci.edu/ml/machine-learning-databases/iris/iris.data to \"/home/alanderos/jl_i51M0P/iris\"?\n",
      "[y/n]\n",
      "stdin> y\n"
     ]
    },
    {
     "name": "stderr",
     "output_type": "stream",
     "text": [
      "┌ Info: Downloading\n",
      "│   source = http://archive.ics.uci.edu/ml/machine-learning-databases/iris/iris.data\n",
      "│   dest = /home/alanderos/jl_i51M0P/iris/iris.data\n",
      "│   progress = 1.0\n",
      "│   time_taken = 0.0 s\n",
      "│   time_remaining = 0.0 s\n",
      "│   average_speed = ∞ B/s\n",
      "│   downloaded = 4.444 KiB\n",
      "│   remaining = 0 bytes\n",
      "│   total = 4.444 KiB\n",
      "└ @ HTTP /home/alanderos/.julia/packages/HTTP/S5kNN/src/download.jl:132\n"
     ]
    },
    {
     "data": {
      "text/html": [
       "<div class=\"data-frame\"><p>5 rows × 5 columns</p><table class=\"data-frame\"><thead><tr><th></th><th>Column1</th><th>Column2</th><th>Column3</th><th>Column4</th><th>Column5</th></tr><tr><th></th><th title=\"Float64\">Float64</th><th title=\"Float64\">Float64</th><th title=\"Float64\">Float64</th><th title=\"Float64\">Float64</th><th title=\"String15\">String15</th></tr></thead><tbody><tr><th>1</th><td>5.1</td><td>3.5</td><td>1.4</td><td>0.2</td><td>Iris-setosa</td></tr><tr><th>2</th><td>4.9</td><td>3.0</td><td>1.4</td><td>0.2</td><td>Iris-setosa</td></tr><tr><th>3</th><td>4.7</td><td>3.2</td><td>1.3</td><td>0.2</td><td>Iris-setosa</td></tr><tr><th>4</th><td>4.6</td><td>3.1</td><td>1.5</td><td>0.2</td><td>Iris-setosa</td></tr><tr><th>5</th><td>5.0</td><td>3.6</td><td>1.4</td><td>0.2</td><td>Iris-setosa</td></tr></tbody></table></div>"
      ],
      "text/latex": [
       "\\begin{tabular}{r|ccccc}\n",
       "\t& Column1 & Column2 & Column3 & Column4 & Column5\\\\\n",
       "\t\\hline\n",
       "\t& Float64 & Float64 & Float64 & Float64 & String15\\\\\n",
       "\t\\hline\n",
       "\t1 & 5.1 & 3.5 & 1.4 & 0.2 & Iris-setosa \\\\\n",
       "\t2 & 4.9 & 3.0 & 1.4 & 0.2 & Iris-setosa \\\\\n",
       "\t3 & 4.7 & 3.2 & 1.3 & 0.2 & Iris-setosa \\\\\n",
       "\t4 & 4.6 & 3.1 & 1.5 & 0.2 & Iris-setosa \\\\\n",
       "\t5 & 5.0 & 3.6 & 1.4 & 0.2 & Iris-setosa \\\\\n",
       "\\end{tabular}\n"
      ],
      "text/plain": [
       "\u001b[1m5×5 DataFrame\u001b[0m\n",
       "\u001b[1m Row \u001b[0m│\u001b[1m Column1 \u001b[0m\u001b[1m Column2 \u001b[0m\u001b[1m Column3 \u001b[0m\u001b[1m Column4 \u001b[0m\u001b[1m Column5     \u001b[0m\n",
       "\u001b[1m     \u001b[0m│\u001b[90m Float64 \u001b[0m\u001b[90m Float64 \u001b[0m\u001b[90m Float64 \u001b[0m\u001b[90m Float64 \u001b[0m\u001b[90m String15    \u001b[0m\n",
       "─────┼─────────────────────────────────────────────────\n",
       "   1 │     5.1      3.5      1.4      0.2  Iris-setosa\n",
       "   2 │     4.9      3.0      1.4      0.2  Iris-setosa\n",
       "   3 │     4.7      3.2      1.3      0.2  Iris-setosa\n",
       "   4 │     4.6      3.1      1.5      0.2  Iris-setosa\n",
       "   5 │     5.0      3.6      1.4      0.2  Iris-setosa"
      ]
     },
     "execution_count": 11,
     "metadata": {},
     "output_type": "execute_result"
    }
   ],
   "source": [
    "df = CSV.read(@datadep_str(\"iris/iris.data\"), DataFrame, header=false)\n",
    "first(df, 5)"
   ]
  },
  {
   "cell_type": "markdown",
   "id": "ec0f291d",
   "metadata": {},
   "source": [
    "Everything work and there was no checksum warning this time."
   ]
  },
  {
   "cell_type": "markdown",
   "id": "2055f490",
   "metadata": {},
   "source": [
    "### Next Steps\n",
    "\n",
    "We now have an easy way to access the `iris` dataset but there a few improvements we could make.\n",
    "\n",
    "**Problem**: Remembering that the filename is `iris.data` is a bit annoying.\n",
    "   \n",
    "- Create a wrapper function that automatically retrieves the filename for your dataset.\n",
    "- *Not in the scope of DataDeps.jl*.\n",
    "\n",
    "**Problem**: For our project, we always want to load as a `DataFrame` (or some other format).\n",
    "\n",
    "- Again, create a wrapper function that will always load as a `DataFrame`.\n",
    "- *Not in the scope of DataDeps.jl*.\n",
    "\n",
    "**Problem**: We want to reorder the columns so that all our `DataDeps` have a common format.\n",
    "\n",
    "- Implement a custom `post_fetch_method`!"
   ]
  },
  {
   "cell_type": "markdown",
   "id": "8695d5ef",
   "metadata": {},
   "source": [
    "## Example 2: Include a preprocessing step"
   ]
  },
  {
   "cell_type": "markdown",
   "id": "370ae909",
   "metadata": {},
   "source": [
    "First, we define a function to help organize columns in a standard format.\n",
    "\n",
    "- In this example we assume we are dealing with labeled data.\n",
    "- The class label should be stored in the first column.\n",
    "- The remaining specified columns correspond to features/predictors.\n",
    "- Our helper function will allow us to specify whether the data file contains a header.\n",
    "\n",
    "**Important** The `post_fetch_method` will run inside the `DataDep` directory, so we can safely write to the folder `datadep_name` without worrying about filepaths."
   ]
  },
  {
   "cell_type": "code",
   "execution_count": 12,
   "id": "b581cc52",
   "metadata": {},
   "outputs": [
    {
     "data": {
      "text/plain": [
       "create_standard_df (generic function with 1 method)"
      ]
     },
     "execution_count": 12,
     "metadata": {},
     "output_type": "execute_result"
    }
   ],
   "source": [
    "function create_standard_df(\n",
    "        local_filepath;\n",
    "        header=false,\n",
    "        missingstring=\"\",\n",
    "        class_index::Integer=0,\n",
    "        feature_indices=1:0,\n",
    "    )\n",
    "    # Sanity checks.\n",
    "    if class_index < 1\n",
    "        error(\"class_index should be a positive integer.\")\n",
    "    end\n",
    "    if isempty(feature_indices) || any(<(0), feature_indices)\n",
    "        error(\"feature_indices should contain positive integers.\")\n",
    "    end\n",
    "    \n",
    "    # Read the input DataFrame.\n",
    "    input_df = CSV.read(local_filepath, DataFrame; header=header, missingstring=missingstring)\n",
    "    \n",
    "    # Initialize output DataFrame.\n",
    "    output_df = DataFrame()\n",
    "    \n",
    "    # Add the (first) column corresponding to class labels.\n",
    "    output_df[!, :class] = input_df[!, class_index]\n",
    "    \n",
    "    # Add the remaining columns corresponding to features/predictors.\n",
    "    for (i, feature_index) in enumerate(feature_indices)\n",
    "        column_name = Symbol(\"feature\", i)\n",
    "        output_df[!, column_name] = input_df[!, feature_index]\n",
    "    end\n",
    "\n",
    "    return output_df\n",
    "end"
   ]
  },
  {
   "cell_type": "markdown",
   "id": "4124aad7",
   "metadata": {},
   "source": [
    "Test the function on our `iris` example:"
   ]
  },
  {
   "cell_type": "code",
   "execution_count": 13,
   "id": "bea2555a",
   "metadata": {},
   "outputs": [
    {
     "data": {
      "text/html": [
       "<div class=\"data-frame\"><p>5 rows × 5 columns</p><table class=\"data-frame\"><thead><tr><th></th><th>class</th><th>feature1</th><th>feature2</th><th>feature3</th><th>feature4</th></tr><tr><th></th><th title=\"String15\">String15</th><th title=\"Float64\">Float64</th><th title=\"Float64\">Float64</th><th title=\"Float64\">Float64</th><th title=\"Float64\">Float64</th></tr></thead><tbody><tr><th>1</th><td>Iris-setosa</td><td>5.1</td><td>3.5</td><td>1.4</td><td>0.2</td></tr><tr><th>2</th><td>Iris-setosa</td><td>4.9</td><td>3.0</td><td>1.4</td><td>0.2</td></tr><tr><th>3</th><td>Iris-setosa</td><td>4.7</td><td>3.2</td><td>1.3</td><td>0.2</td></tr><tr><th>4</th><td>Iris-setosa</td><td>4.6</td><td>3.1</td><td>1.5</td><td>0.2</td></tr><tr><th>5</th><td>Iris-setosa</td><td>5.0</td><td>3.6</td><td>1.4</td><td>0.2</td></tr></tbody></table></div>"
      ],
      "text/latex": [
       "\\begin{tabular}{r|ccccc}\n",
       "\t& class & feature1 & feature2 & feature3 & feature4\\\\\n",
       "\t\\hline\n",
       "\t& String15 & Float64 & Float64 & Float64 & Float64\\\\\n",
       "\t\\hline\n",
       "\t1 & Iris-setosa & 5.1 & 3.5 & 1.4 & 0.2 \\\\\n",
       "\t2 & Iris-setosa & 4.9 & 3.0 & 1.4 & 0.2 \\\\\n",
       "\t3 & Iris-setosa & 4.7 & 3.2 & 1.3 & 0.2 \\\\\n",
       "\t4 & Iris-setosa & 4.6 & 3.1 & 1.5 & 0.2 \\\\\n",
       "\t5 & Iris-setosa & 5.0 & 3.6 & 1.4 & 0.2 \\\\\n",
       "\\end{tabular}\n"
      ],
      "text/plain": [
       "\u001b[1m5×5 DataFrame\u001b[0m\n",
       "\u001b[1m Row \u001b[0m│\u001b[1m class       \u001b[0m\u001b[1m feature1 \u001b[0m\u001b[1m feature2 \u001b[0m\u001b[1m feature3 \u001b[0m\u001b[1m feature4 \u001b[0m\n",
       "\u001b[1m     \u001b[0m│\u001b[90m String15    \u001b[0m\u001b[90m Float64  \u001b[0m\u001b[90m Float64  \u001b[0m\u001b[90m Float64  \u001b[0m\u001b[90m Float64  \u001b[0m\n",
       "─────┼─────────────────────────────────────────────────────\n",
       "   1 │ Iris-setosa       5.1       3.5       1.4       0.2\n",
       "   2 │ Iris-setosa       4.9       3.0       1.4       0.2\n",
       "   3 │ Iris-setosa       4.7       3.2       1.3       0.2\n",
       "   4 │ Iris-setosa       4.6       3.1       1.5       0.2\n",
       "   5 │ Iris-setosa       5.0       3.6       1.4       0.2"
      ]
     },
     "execution_count": 13,
     "metadata": {},
     "output_type": "execute_result"
    }
   ],
   "source": [
    "iris_df = create_standard_df(@datadep_str(\"iris/iris.data\");\n",
    "    header=false,        # source does not have a header\n",
    "    class_index=5,       # class labels are stored in Column 5\n",
    "    feature_indices=1:4  # features are stored in Columns 1-4\n",
    ")\n",
    "first(iris_df, 5)"
   ]
  },
  {
   "cell_type": "markdown",
   "id": "8ee0a6e1",
   "metadata": {},
   "source": [
    "Now let's define a helper function that processes the file `breast-cancer-wisconsin.data`.\n",
    "\n",
    "A few things to note (obtained from `breast-cancer.wisconsin.names`):\n",
    "   \n",
    "- There are 16 instances in Groups 1 to 6 that contain a single missing \n",
    "    (i.e., unavailable) attribute value, now denoted by \"?\".\n",
    "    \n",
    "- The structure of the `.data` file is:\n",
    "    >             #  Attribute                     Domain\n",
    "           -- -----------------------------------------\n",
    "           1. Sample code number            id number\n",
    "           2. Clump Thickness               1 - 10\n",
    "           3. Uniformity of Cell Size       1 - 10\n",
    "           4. Uniformity of Cell Shape      1 - 10\n",
    "           5. Marginal Adhesion             1 - 10\n",
    "           6. Single Epithelial Cell Size   1 - 10\n",
    "           7. Bare Nuclei                   1 - 10\n",
    "           8. Bland Chromatin               1 - 10\n",
    "           9. Normal Nucleoli               1 - 10\n",
    "          10. Mitoses                       1 - 10\n",
    "          11. Class:                        (2 for benign, 4 for malignant)"
   ]
  },
  {
   "cell_type": "code",
   "execution_count": 14,
   "id": "ecd37027",
   "metadata": {},
   "outputs": [
    {
     "data": {
      "text/plain": [
       "process_bcw (generic function with 1 method)"
      ]
     },
     "execution_count": 14,
     "metadata": {},
     "output_type": "execute_result"
    }
   ],
   "source": [
    "function process_bcw(local_filepath)\n",
    "    # First, let's standardize the DataFrame format. We'll drop the sample code number.\n",
    "    df = create_standard_df(local_filepath;\n",
    "        header=false,\n",
    "        missingstring=[\"?\",\"\"],\n",
    "        class_index=11,\n",
    "        feature_indices=2:10,\n",
    "    )\n",
    "    \n",
    "    # Next, change the class labels from 2 and 4 to benign and malignant, respectively.\n",
    "    # If we encounter another label, set it to missing.\n",
    "    new_label = Vector{Union{Missing,String}}(undef, length(df.class))\n",
    "    for (i, row) in enumerate(eachrow(df))\n",
    "        if row.class == 2\n",
    "            new_label[i] = \"benign\"\n",
    "        elseif row.class == 4\n",
    "            new_label[i] = \"malignant\"\n",
    "        else\n",
    "            new_label[i] = missing\n",
    "        end\n",
    "    end\n",
    "    df.class = new_label\n",
    "    \n",
    "    # Now drop any rows with missing values and set the type of every feature to Float64.\n",
    "    df = dropmissing(df)\n",
    "    for i in 2:ncol(df)\n",
    "        df[!,i] = map(xi -> Float64(xi), df[!,i])\n",
    "    end\n",
    "    \n",
    "    # Set column information.\n",
    "    column_info = Vector{String}(undef, 10)\n",
    "    column_info[1] = \"diagnosis\"\n",
    "    column_info[2] = \"clump_thickness\"\n",
    "    column_info[3] = \"cell_size_uniformity\"\n",
    "    column_info[4] = \"cell_shape_uniformity\"\n",
    "    column_info[5] = \"marginal_adhesion\"\n",
    "    column_info[6] = \"single_cell_epithelial_size\"\n",
    "    column_info[7] = \"bare_nuclei\"\n",
    "    column_info[8] = \"bland_chromatin\"\n",
    "    column_info[9] = \"normal_nucleoli\"\n",
    "    column_info[10] = \"mitoses\"\n",
    "    \n",
    "    column_info_df = DataFrame(columns=column_info)\n",
    "\n",
    "    # Finally, save our formatted data and remove the original source.\n",
    "    CSV.write(\"bcw.csv\", df; writeheader=true, delim=',')\n",
    "    CSV.write(\"bcw.info\", column_info_df; writeheader=false, delim=',')\n",
    "    rm(local_filepath)\n",
    "\n",
    "    return nothing\n",
    "end"
   ]
  },
  {
   "cell_type": "markdown",
   "id": "42a5dd79",
   "metadata": {},
   "source": [
    "Now let's do the same for the file `wdbc.data`.\n",
    "\n",
    "> 1) ID number\n",
    ">\n",
    "> 2) Diagnosis (M = malignant, B = benign)\n",
    ">\n",
    "> 3-32) Ten real-valued features are computed for each cell nucleus:\n",
    ">\n",
    ">    a) radius (mean of distances from center to points on the perimeter)\n",
    ">\n",
    ">    b) texture (standard deviation of gray-scale values)\n",
    ">\n",
    ">    c) perimeter\n",
    ">\n",
    ">    d) area\n",
    ">\n",
    ">    e) smoothness (local variation in radius lengths)\n",
    ">\n",
    ">    f) compactness (perimeter^2 / area - 1.0)\n",
    ">\n",
    ">    g) concavity (severity of concave portions of the contour)\n",
    ">\n",
    ">    h) concave points (number of concave portions of the contour)\n",
    ">\n",
    ">    i) symmetry \n",
    ">\n",
    ">    j) fractal dimension (\"coastline approximation\" - 1)\n",
    ">\n",
    "> The mean, standard error, and \"worst\" or largest (mean of the three\n",
    "largest values) of these features were computed for each image,\n",
    "resulting in 30 features.  For instance, field 3 is Mean Radius, field\n",
    "13 is Radius SE, field 23 is Worst Radius.\n",
    ">\n",
    "> All feature values are recoded with four significant digits."
   ]
  },
  {
   "cell_type": "code",
   "execution_count": 15,
   "id": "748dc438",
   "metadata": {},
   "outputs": [
    {
     "data": {
      "text/plain": [
       "process_wdbc (generic function with 1 method)"
      ]
     },
     "execution_count": 15,
     "metadata": {},
     "output_type": "execute_result"
    }
   ],
   "source": [
    "function process_wdbc(local_filepath)\n",
    "    # First, let's standardize the DataFrame format. We'll drop the ID number.\n",
    "    df = create_standard_df(local_filepath;\n",
    "        header=false,\n",
    "        missingstring=[\"?\",\"\"],\n",
    "        class_index=2,\n",
    "        feature_indices=3:32,\n",
    "    )\n",
    "    \n",
    "    # Next, change the class labels from 2 and 4 to benign and malignant, respectively.\n",
    "    # If we encounter another label, set it to missing.\n",
    "    new_label = Vector{Union{Missing,String}}(undef, length(df.class))\n",
    "    for (i, row) in enumerate(eachrow(df))\n",
    "        if row.class == \"B\"\n",
    "            new_label[i] = \"benign\"\n",
    "        elseif row.class == \"M\"\n",
    "            new_label[i] = \"malignant\"\n",
    "        else\n",
    "            new_label[i] = missing\n",
    "        end\n",
    "    end\n",
    "    df.class = new_label\n",
    "    \n",
    "    # Now drop any rows with missing values and set the type of every feature to Float64.\n",
    "    df = dropmissing(df)\n",
    "    for i in 2:ncol(df)\n",
    "        df[!,i] = map(xi -> Float64(xi), df[!,i])\n",
    "    end\n",
    "    \n",
    "    # Set column information. Columns are <feature>_<transformation>.\n",
    "    features = [\n",
    "        \"radius\",\n",
    "        \"texture\",\n",
    "        \"perimeter\",\n",
    "        \"area\",\n",
    "        \"smoothness\",\n",
    "        \"compactness\",\n",
    "        \"concavity\",\n",
    "        \"n_concave_pts\",\n",
    "        \"symmetry\",\n",
    "        \"fractal_dim\",\n",
    "    ]\n",
    "    transformations = [\"mean\", \"se\", \"worst\"]\n",
    "    \n",
    "    column_info = Vector{String}(undef, 31)\n",
    "    \n",
    "    idx = 1\n",
    "    column_info[idx] = \"diagnosis\"\n",
    "    idx += 1\n",
    "    \n",
    "    for transformation in transformations, feature in features\n",
    "        column_info[idx] = string(feature, \"_\", transformation)\n",
    "        idx += 1\n",
    "    end\n",
    "    \n",
    "    column_info_df = DataFrame(columns=column_info)\n",
    "    \n",
    "    # Finally, save our formatted data and remove the original source.\n",
    "    CSV.write(\"wdbc.csv\", df; writeheader=true, delim=',')\n",
    "    CSV.write(\"wdbc.info\", column_info_df; writeheader=false, delim=',')\n",
    "    rm(local_filepath)\n",
    "    \n",
    "    return nothing\n",
    "end"
   ]
  },
  {
   "cell_type": "markdown",
   "id": "d02777ff",
   "metadata": {},
   "source": [
    "Finally, because `post_fetch_method` only accepts a single function, let's stitch our functions together so that we can call the correct helper function."
   ]
  },
  {
   "cell_type": "code",
   "execution_count": 16,
   "id": "afd5fc52",
   "metadata": {},
   "outputs": [
    {
     "data": {
      "text/plain": [
       "custom_post_fetch_method (generic function with 1 method)"
      ]
     },
     "execution_count": 16,
     "metadata": {},
     "output_type": "execute_result"
    }
   ],
   "source": [
    "function custom_post_fetch_method(local_filepath)\n",
    "    filename = basename(local_filepath)\n",
    "    if filename == \"breast-cancer-wisconsin.data\"\n",
    "        process_bcw(local_filepath)\n",
    "    elseif filename == \"wdbc.data\"\n",
    "        process_wdbc(local_filepath)\n",
    "    else\n",
    "        error(\"Did not specify a branch for $(filename).\")\n",
    "    end\n",
    "end"
   ]
  },
  {
   "cell_type": "code",
   "execution_count": 17,
   "id": "4b7c7449",
   "metadata": {},
   "outputs": [
    {
     "data": {
      "text/plain": [
       "DataDep{String, Vector{String}, typeof(DataDeps.fetch_default), typeof(custom_post_fetch_method)}(\"breast-cancer-wisconsin\", [\"https://archive.ics.uci.edu/ml/machine-learning-databases/breast-cancer-wisconsin/breast-cancer-wisconsin.data\", \"https://archive.ics.uci.edu/ml/machine-learning-databases/breast-cancer-wisconsin/wdbc.data\"], \"962af71216fdc2cbd457539d59cbadf9fbdc352a01831d8d79a9c5d1509b742e\", DataDeps.fetch_default, custom_post_fetch_method, \"Dataset: breast-cancer-wisconsin\\nAuthor: Dr. WIlliam H. Wolberg\\nDonors: Olvi Mangasarian\\n    Received by David W. Aha\\n\\nThis dataset contains two files, \\\"bcw.data\\\" and \\\"wdbc.data\\\" corresponding to \\\"breast-cancer-wisconsin.data\\\"\\nand \\\"wdbc.data\\\", respectively, in the UCI Machine Learning Repository.\\n\\nSummary for \\\"bcw.data\\\":\\n    Observations: 699 (16 missing are dropped)\\n    Features:     9\\n    Classes:      2\\n    \\nSummary for \\\"wdbc.data\\\"\\n    Observations: 569 (0 missing)\\n    Features:     30\\n    Classes:      2\\n\\nPlease see https://archive.ics.uci.edu/ml/datasets/breast+cancer+wisconsin+(original).\\n\")"
      ]
     },
     "execution_count": 17,
     "metadata": {},
     "output_type": "execute_result"
    }
   ],
   "source": [
    "register(DataDep(\n",
    "    # 1. Set the DataDep's name.\n",
    "    \"breast-cancer-wisconsin\",\n",
    "    # 2. Set the message to display when downloading.\n",
    "    \"\"\"\n",
    "    Dataset: breast-cancer-wisconsin\n",
    "    Author: Dr. WIlliam H. Wolberg\n",
    "    Donors: Olvi Mangasarian\n",
    "        Received by David W. Aha\n",
    "\n",
    "    This dataset contains two files, \"bcw.data\" and \"wdbc.data\" corresponding to \"breast-cancer-wisconsin.data\"\n",
    "    and \"wdbc.data\", respectively, in the UCI Machine Learning Repository.\n",
    "    \n",
    "    Summary for \"bcw.data\":\n",
    "        Observations: 699 (16 missing are dropped)\n",
    "        Features:     9\n",
    "        Classes:      2\n",
    "        \n",
    "    Summary for \"wdbc.data\"\n",
    "        Observations: 569 (0 missing)\n",
    "        Features:     30\n",
    "        Classes:      2\n",
    "    \n",
    "    Please see https://archive.ics.uci.edu/ml/datasets/breast+cancer+wisconsin+(original).\n",
    "    \"\"\",\n",
    "    # 3. Set the remote_path used to download data.\n",
    "    [\n",
    "        \"https://archive.ics.uci.edu/ml/machine-learning-databases/breast-cancer-wisconsin/breast-cancer-wisconsin.data\",\n",
    "        \"https://archive.ics.uci.edu/ml/machine-learning-databases/breast-cancer-wisconsin/wdbc.data\",\n",
    "    ],\n",
    "    # 4. Set the checksum this time.\n",
    "    \"962af71216fdc2cbd457539d59cbadf9fbdc352a01831d8d79a9c5d1509b742e\";\n",
    "    # 5. Pass the functions to run after downloading files. Order is important here.\n",
    "    post_fetch_method=custom_post_fetch_method\n",
    "))"
   ]
  },
  {
   "cell_type": "code",
   "execution_count": 18,
   "id": "c2cd16d2",
   "metadata": {},
   "outputs": [
    {
     "name": "stdout",
     "output_type": "stream",
     "text": [
      "This program has requested access to the data dependency breast-cancer-wisconsin.\n",
      "which is not currently installed. It can be installed automatically, and you will not see this message again.\n",
      "\n",
      "Dataset: breast-cancer-wisconsin\n",
      "Author: Dr. WIlliam H. Wolberg\n",
      "Donors: Olvi Mangasarian\n",
      "    Received by David W. Aha\n",
      "\n",
      "This dataset contains two files, \"bcw.data\" and \"wdbc.data\" corresponding to \"breast-cancer-wisconsin.data\"\n",
      "and \"wdbc.data\", respectively, in the UCI Machine Learning Repository.\n",
      "\n",
      "Summary for \"bcw.data\":\n",
      "    Observations: 699 (16 missing are dropped)\n",
      "    Features:     9\n",
      "    Classes:      2\n",
      "    \n",
      "Summary for \"wdbc.data\"\n",
      "    Observations: 569 (0 missing)\n",
      "    Features:     30\n",
      "    Classes:      2\n",
      "\n",
      "Please see https://archive.ics.uci.edu/ml/datasets/breast+cancer+wisconsin+(original).\n",
      "\n",
      "\n",
      "\n",
      "Do you want to download the dataset from [\"https://archive.ics.uci.edu/ml/machine-learning-databases/breast-cancer-wisconsin/breast-cancer-wisconsin.data\", \"https://archive.ics.uci.edu/ml/machine-learning-databases/breast-cancer-wisconsin/wdbc.data\"] to \"/home/alanderos/jl_i51M0P/breast-cancer-wisconsin\"?\n",
      "[y/n]\n",
      "stdin> y\n"
     ]
    },
    {
     "name": "stderr",
     "output_type": "stream",
     "text": [
      "┌ Info: Downloading\n",
      "│   source = https://archive.ics.uci.edu/ml/machine-learning-databases/breast-cancer-wisconsin/breast-cancer-wisconsin.data\n",
      "│   dest = /home/alanderos/jl_i51M0P/breast-cancer-wisconsin/breast-cancer-wisconsin.data\n",
      "│   progress = 1.0\n",
      "│   time_taken = 0.0 s\n",
      "│   time_remaining = 0.0 s\n",
      "│   average_speed = 9.484 MiB/s\n",
      "│   downloaded = 19.423 KiB\n",
      "│   remaining = 0 bytes\n",
      "│   total = 19.423 KiB\n",
      "└ @ HTTP /home/alanderos/.julia/packages/HTTP/S5kNN/src/download.jl:132\n",
      "┌ Info: Downloading\n",
      "│   source = https://archive.ics.uci.edu/ml/machine-learning-databases/breast-cancer-wisconsin/wdbc.data\n",
      "│   dest = /home/alanderos/jl_i51M0P/breast-cancer-wisconsin/wdbc.data\n",
      "│   progress = 1.0\n",
      "│   time_taken = 0.04 s\n",
      "│   time_remaining = 0.0 s\n",
      "│   average_speed = 3.382 MiB/s\n",
      "│   downloaded = 121.194 KiB\n",
      "│   remaining = 0 bytes\n",
      "│   total = 121.194 KiB\n",
      "└ @ HTTP /home/alanderos/.julia/packages/HTTP/S5kNN/src/download.jl:132\n"
     ]
    },
    {
     "data": {
      "text/plain": [
       "\"/home/alanderos/jl_i51M0P/breast-cancer-wisconsin\""
      ]
     },
     "execution_count": 18,
     "metadata": {},
     "output_type": "execute_result"
    }
   ],
   "source": [
    "dir = @datadep_str \"breast-cancer-wisconsin\""
   ]
  },
  {
   "cell_type": "markdown",
   "id": "e573426a",
   "metadata": {},
   "source": [
    "What are the files inside the `DataDep`?"
   ]
  },
  {
   "cell_type": "code",
   "execution_count": 19,
   "id": "92d000e0",
   "metadata": {},
   "outputs": [
    {
     "name": "stdout",
     "output_type": "stream",
     "text": [
      "bcw.csv\n",
      "bcw.info\n",
      "wdbc.csv\n",
      "wdbc.info\n"
     ]
    },
    {
     "data": {
      "text/plain": [
       "Process(`\u001b[4mls\u001b[24m \u001b[4m/home/alanderos/jl_i51M0P/breast-cancer-wisconsin\u001b[24m`, ProcessExited(0))"
      ]
     },
     "execution_count": 19,
     "metadata": {},
     "output_type": "execute_result"
    }
   ],
   "source": [
    "run(`ls $(dir)`)"
   ]
  },
  {
   "cell_type": "code",
   "execution_count": 20,
   "id": "0fa2315c",
   "metadata": {},
   "outputs": [
    {
     "data": {
      "text/html": [
       "<div class=\"data-frame\"><p>10 rows × 10 columns (omitted printing of 2 columns)</p><table class=\"data-frame\"><thead><tr><th></th><th>class</th><th>feature1</th><th>feature2</th><th>feature3</th><th>feature4</th><th>feature5</th><th>feature6</th><th>feature7</th></tr><tr><th></th><th title=\"String15\">String15</th><th title=\"Float64\">Float64</th><th title=\"Float64\">Float64</th><th title=\"Float64\">Float64</th><th title=\"Float64\">Float64</th><th title=\"Float64\">Float64</th><th title=\"Float64\">Float64</th><th title=\"Float64\">Float64</th></tr></thead><tbody><tr><th>1</th><td>benign</td><td>5.0</td><td>1.0</td><td>1.0</td><td>1.0</td><td>2.0</td><td>1.0</td><td>3.0</td></tr><tr><th>2</th><td>benign</td><td>5.0</td><td>4.0</td><td>4.0</td><td>5.0</td><td>7.0</td><td>10.0</td><td>3.0</td></tr><tr><th>3</th><td>benign</td><td>3.0</td><td>1.0</td><td>1.0</td><td>1.0</td><td>2.0</td><td>2.0</td><td>3.0</td></tr><tr><th>4</th><td>benign</td><td>6.0</td><td>8.0</td><td>8.0</td><td>1.0</td><td>3.0</td><td>4.0</td><td>3.0</td></tr><tr><th>5</th><td>benign</td><td>4.0</td><td>1.0</td><td>1.0</td><td>3.0</td><td>2.0</td><td>1.0</td><td>3.0</td></tr><tr><th>6</th><td>malignant</td><td>8.0</td><td>10.0</td><td>10.0</td><td>8.0</td><td>7.0</td><td>10.0</td><td>9.0</td></tr><tr><th>7</th><td>benign</td><td>1.0</td><td>1.0</td><td>1.0</td><td>1.0</td><td>2.0</td><td>10.0</td><td>3.0</td></tr><tr><th>8</th><td>benign</td><td>2.0</td><td>1.0</td><td>2.0</td><td>1.0</td><td>2.0</td><td>1.0</td><td>3.0</td></tr><tr><th>9</th><td>benign</td><td>2.0</td><td>1.0</td><td>1.0</td><td>1.0</td><td>2.0</td><td>1.0</td><td>1.0</td></tr><tr><th>10</th><td>benign</td><td>4.0</td><td>2.0</td><td>1.0</td><td>1.0</td><td>2.0</td><td>1.0</td><td>2.0</td></tr></tbody></table></div>"
      ],
      "text/latex": [
       "\\begin{tabular}{r|ccccccccc}\n",
       "\t& class & feature1 & feature2 & feature3 & feature4 & feature5 & feature6 & feature7 & \\\\\n",
       "\t\\hline\n",
       "\t& String15 & Float64 & Float64 & Float64 & Float64 & Float64 & Float64 & Float64 & \\\\\n",
       "\t\\hline\n",
       "\t1 & benign & 5.0 & 1.0 & 1.0 & 1.0 & 2.0 & 1.0 & 3.0 & $\\dots$ \\\\\n",
       "\t2 & benign & 5.0 & 4.0 & 4.0 & 5.0 & 7.0 & 10.0 & 3.0 & $\\dots$ \\\\\n",
       "\t3 & benign & 3.0 & 1.0 & 1.0 & 1.0 & 2.0 & 2.0 & 3.0 & $\\dots$ \\\\\n",
       "\t4 & benign & 6.0 & 8.0 & 8.0 & 1.0 & 3.0 & 4.0 & 3.0 & $\\dots$ \\\\\n",
       "\t5 & benign & 4.0 & 1.0 & 1.0 & 3.0 & 2.0 & 1.0 & 3.0 & $\\dots$ \\\\\n",
       "\t6 & malignant & 8.0 & 10.0 & 10.0 & 8.0 & 7.0 & 10.0 & 9.0 & $\\dots$ \\\\\n",
       "\t7 & benign & 1.0 & 1.0 & 1.0 & 1.0 & 2.0 & 10.0 & 3.0 & $\\dots$ \\\\\n",
       "\t8 & benign & 2.0 & 1.0 & 2.0 & 1.0 & 2.0 & 1.0 & 3.0 & $\\dots$ \\\\\n",
       "\t9 & benign & 2.0 & 1.0 & 1.0 & 1.0 & 2.0 & 1.0 & 1.0 & $\\dots$ \\\\\n",
       "\t10 & benign & 4.0 & 2.0 & 1.0 & 1.0 & 2.0 & 1.0 & 2.0 & $\\dots$ \\\\\n",
       "\\end{tabular}\n"
      ],
      "text/plain": [
       "\u001b[1m10×10 DataFrame\u001b[0m\n",
       "\u001b[1m Row \u001b[0m│\u001b[1m class     \u001b[0m\u001b[1m feature1 \u001b[0m\u001b[1m feature2 \u001b[0m\u001b[1m feature3 \u001b[0m\u001b[1m feature4 \u001b[0m\u001b[1m feature5 \u001b[0m\u001b[1m feature6 \u001b[0m\u001b[1m \u001b[0m ⋯\n",
       "\u001b[1m     \u001b[0m│\u001b[90m String15  \u001b[0m\u001b[90m Float64  \u001b[0m\u001b[90m Float64  \u001b[0m\u001b[90m Float64  \u001b[0m\u001b[90m Float64  \u001b[0m\u001b[90m Float64  \u001b[0m\u001b[90m Float64  \u001b[0m\u001b[90m \u001b[0m ⋯\n",
       "─────┼──────────────────────────────────────────────────────────────────────────\n",
       "   1 │ benign          5.0       1.0       1.0       1.0       2.0       1.0   ⋯\n",
       "   2 │ benign          5.0       4.0       4.0       5.0       7.0      10.0\n",
       "   3 │ benign          3.0       1.0       1.0       1.0       2.0       2.0\n",
       "   4 │ benign          6.0       8.0       8.0       1.0       3.0       4.0\n",
       "   5 │ benign          4.0       1.0       1.0       3.0       2.0       1.0   ⋯\n",
       "   6 │ malignant       8.0      10.0      10.0       8.0       7.0      10.0\n",
       "   7 │ benign          1.0       1.0       1.0       1.0       2.0      10.0\n",
       "   8 │ benign          2.0       1.0       2.0       1.0       2.0       1.0\n",
       "   9 │ benign          2.0       1.0       1.0       1.0       2.0       1.0   ⋯\n",
       "  10 │ benign          4.0       2.0       1.0       1.0       2.0       1.0\n",
       "\u001b[36m                                                               3 columns omitted\u001b[0m"
      ]
     },
     "execution_count": 20,
     "metadata": {},
     "output_type": "execute_result"
    }
   ],
   "source": [
    "df = CSV.read(joinpath(dir, \"bcw.csv\"), DataFrame)\n",
    "first(df, 10)"
   ]
  },
  {
   "cell_type": "code",
   "execution_count": 21,
   "id": "4f053343",
   "metadata": {},
   "outputs": [
    {
     "name": "stdout",
     "output_type": "stream",
     "text": [
      "     1\tdiagnosis\n",
      "     2\tclump_thickness\n",
      "     3\tcell_size_uniformity\n",
      "     4\tcell_shape_uniformity\n",
      "     5\tmarginal_adhesion\n",
      "     6\tsingle_cell_epithelial_size\n",
      "     7\tbare_nuclei\n",
      "     8\tbland_chromatin\n",
      "     9\tnormal_nucleoli\n",
      "    10\tmitoses\n"
     ]
    },
    {
     "data": {
      "text/plain": [
       "Process(`\u001b[4mcat\u001b[24m \u001b[4m-n\u001b[24m \u001b[4m/home/alanderos/jl_i51M0P/breast-cancer-wisconsin/bcw.info\u001b[24m`, ProcessExited(0))"
      ]
     },
     "execution_count": 21,
     "metadata": {},
     "output_type": "execute_result"
    }
   ],
   "source": [
    "run(`cat -n $(joinpath(dir, \"bcw.info\"))`)"
   ]
  },
  {
   "cell_type": "code",
   "execution_count": 22,
   "id": "10649428",
   "metadata": {},
   "outputs": [
    {
     "data": {
      "text/html": [
       "<div class=\"data-frame\"><p>10 rows × 31 columns (omitted printing of 23 columns)</p><table class=\"data-frame\"><thead><tr><th></th><th>class</th><th>feature1</th><th>feature2</th><th>feature3</th><th>feature4</th><th>feature5</th><th>feature6</th><th>feature7</th></tr><tr><th></th><th title=\"String15\">String15</th><th title=\"Float64\">Float64</th><th title=\"Float64\">Float64</th><th title=\"Float64\">Float64</th><th title=\"Float64\">Float64</th><th title=\"Float64\">Float64</th><th title=\"Float64\">Float64</th><th title=\"Float64\">Float64</th></tr></thead><tbody><tr><th>1</th><td>malignant</td><td>17.99</td><td>10.38</td><td>122.8</td><td>1001.0</td><td>0.1184</td><td>0.2776</td><td>0.3001</td></tr><tr><th>2</th><td>malignant</td><td>20.57</td><td>17.77</td><td>132.9</td><td>1326.0</td><td>0.08474</td><td>0.07864</td><td>0.0869</td></tr><tr><th>3</th><td>malignant</td><td>19.69</td><td>21.25</td><td>130.0</td><td>1203.0</td><td>0.1096</td><td>0.1599</td><td>0.1974</td></tr><tr><th>4</th><td>malignant</td><td>11.42</td><td>20.38</td><td>77.58</td><td>386.1</td><td>0.1425</td><td>0.2839</td><td>0.2414</td></tr><tr><th>5</th><td>malignant</td><td>20.29</td><td>14.34</td><td>135.1</td><td>1297.0</td><td>0.1003</td><td>0.1328</td><td>0.198</td></tr><tr><th>6</th><td>malignant</td><td>12.45</td><td>15.7</td><td>82.57</td><td>477.1</td><td>0.1278</td><td>0.17</td><td>0.1578</td></tr><tr><th>7</th><td>malignant</td><td>18.25</td><td>19.98</td><td>119.6</td><td>1040.0</td><td>0.09463</td><td>0.109</td><td>0.1127</td></tr><tr><th>8</th><td>malignant</td><td>13.71</td><td>20.83</td><td>90.2</td><td>577.9</td><td>0.1189</td><td>0.1645</td><td>0.09366</td></tr><tr><th>9</th><td>malignant</td><td>13.0</td><td>21.82</td><td>87.5</td><td>519.8</td><td>0.1273</td><td>0.1932</td><td>0.1859</td></tr><tr><th>10</th><td>malignant</td><td>12.46</td><td>24.04</td><td>83.97</td><td>475.9</td><td>0.1186</td><td>0.2396</td><td>0.2273</td></tr></tbody></table></div>"
      ],
      "text/latex": [
       "\\begin{tabular}{r|ccccccccc}\n",
       "\t& class & feature1 & feature2 & feature3 & feature4 & feature5 & feature6 & feature7 & \\\\\n",
       "\t\\hline\n",
       "\t& String15 & Float64 & Float64 & Float64 & Float64 & Float64 & Float64 & Float64 & \\\\\n",
       "\t\\hline\n",
       "\t1 & malignant & 17.99 & 10.38 & 122.8 & 1001.0 & 0.1184 & 0.2776 & 0.3001 & $\\dots$ \\\\\n",
       "\t2 & malignant & 20.57 & 17.77 & 132.9 & 1326.0 & 0.08474 & 0.07864 & 0.0869 & $\\dots$ \\\\\n",
       "\t3 & malignant & 19.69 & 21.25 & 130.0 & 1203.0 & 0.1096 & 0.1599 & 0.1974 & $\\dots$ \\\\\n",
       "\t4 & malignant & 11.42 & 20.38 & 77.58 & 386.1 & 0.1425 & 0.2839 & 0.2414 & $\\dots$ \\\\\n",
       "\t5 & malignant & 20.29 & 14.34 & 135.1 & 1297.0 & 0.1003 & 0.1328 & 0.198 & $\\dots$ \\\\\n",
       "\t6 & malignant & 12.45 & 15.7 & 82.57 & 477.1 & 0.1278 & 0.17 & 0.1578 & $\\dots$ \\\\\n",
       "\t7 & malignant & 18.25 & 19.98 & 119.6 & 1040.0 & 0.09463 & 0.109 & 0.1127 & $\\dots$ \\\\\n",
       "\t8 & malignant & 13.71 & 20.83 & 90.2 & 577.9 & 0.1189 & 0.1645 & 0.09366 & $\\dots$ \\\\\n",
       "\t9 & malignant & 13.0 & 21.82 & 87.5 & 519.8 & 0.1273 & 0.1932 & 0.1859 & $\\dots$ \\\\\n",
       "\t10 & malignant & 12.46 & 24.04 & 83.97 & 475.9 & 0.1186 & 0.2396 & 0.2273 & $\\dots$ \\\\\n",
       "\\end{tabular}\n"
      ],
      "text/plain": [
       "\u001b[1m10×31 DataFrame\u001b[0m\n",
       "\u001b[1m Row \u001b[0m│\u001b[1m class     \u001b[0m\u001b[1m feature1 \u001b[0m\u001b[1m feature2 \u001b[0m\u001b[1m feature3 \u001b[0m\u001b[1m feature4 \u001b[0m\u001b[1m feature5 \u001b[0m\u001b[1m feature6 \u001b[0m\u001b[1m \u001b[0m ⋯\n",
       "\u001b[1m     \u001b[0m│\u001b[90m String15  \u001b[0m\u001b[90m Float64  \u001b[0m\u001b[90m Float64  \u001b[0m\u001b[90m Float64  \u001b[0m\u001b[90m Float64  \u001b[0m\u001b[90m Float64  \u001b[0m\u001b[90m Float64  \u001b[0m\u001b[90m \u001b[0m ⋯\n",
       "─────┼──────────────────────────────────────────────────────────────────────────\n",
       "   1 │ malignant     17.99     10.38    122.8     1001.0   0.1184    0.2776    ⋯\n",
       "   2 │ malignant     20.57     17.77    132.9     1326.0   0.08474   0.07864\n",
       "   3 │ malignant     19.69     21.25    130.0     1203.0   0.1096    0.1599\n",
       "   4 │ malignant     11.42     20.38     77.58     386.1   0.1425    0.2839\n",
       "   5 │ malignant     20.29     14.34    135.1     1297.0   0.1003    0.1328    ⋯\n",
       "   6 │ malignant     12.45     15.7      82.57     477.1   0.1278    0.17\n",
       "   7 │ malignant     18.25     19.98    119.6     1040.0   0.09463   0.109\n",
       "   8 │ malignant     13.71     20.83     90.2      577.9   0.1189    0.1645\n",
       "   9 │ malignant     13.0      21.82     87.5      519.8   0.1273    0.1932    ⋯\n",
       "  10 │ malignant     12.46     24.04     83.97     475.9   0.1186    0.2396\n",
       "\u001b[36m                                                              24 columns omitted\u001b[0m"
      ]
     },
     "execution_count": 22,
     "metadata": {},
     "output_type": "execute_result"
    }
   ],
   "source": [
    "df = CSV.read(@datadep_str(\"breast-cancer-wisconsin/wdbc.csv\"), DataFrame)\n",
    "first(df, 10)"
   ]
  },
  {
   "cell_type": "code",
   "execution_count": 23,
   "id": "bc98c4be",
   "metadata": {},
   "outputs": [
    {
     "name": "stdout",
     "output_type": "stream",
     "text": [
      "     1\tdiagnosis\n",
      "     2\tradius_mean\n",
      "     3\ttexture_mean\n",
      "     4\tperimeter_mean\n",
      "     5\tarea_mean\n",
      "     6\tsmoothness_mean\n",
      "     7\tcompactness_mean\n",
      "     8\tconcavity_mean\n",
      "     9\tn_concave_pts_mean\n",
      "    10\tsymmetry_mean\n",
      "    11\tfractal_dim_mean\n",
      "    12\tradius_se\n",
      "    13\ttexture_se\n",
      "    14\tperimeter_se\n",
      "    15\tarea_se\n",
      "    16\tsmoothness_se\n",
      "    17\tcompactness_se\n",
      "    18\tconcavity_se\n",
      "    19\tn_concave_pts_se\n",
      "    20\tsymmetry_se\n",
      "    21\tfractal_dim_se\n",
      "    22\tradius_worst\n",
      "    23\ttexture_worst\n",
      "    24\tperimeter_worst\n",
      "    25\tarea_worst\n",
      "    26\tsmoothness_worst\n",
      "    27\tcompactness_worst\n",
      "    28\tconcavity_worst\n",
      "    29\tn_concave_pts_worst\n",
      "    30\tsymmetry_worst\n",
      "    31\tfractal_dim_worst\n"
     ]
    },
    {
     "data": {
      "text/plain": [
       "Process(`\u001b[4mcat\u001b[24m \u001b[4m-n\u001b[24m \u001b[4m/home/alanderos/jl_i51M0P/breast-cancer-wisconsin/wdbc.info\u001b[24m`, ProcessExited(0))"
      ]
     },
     "execution_count": 23,
     "metadata": {},
     "output_type": "execute_result"
    }
   ],
   "source": [
    "run(`cat -n $(joinpath(dir, \"wdbc.info\"))`)"
   ]
  },
  {
   "cell_type": "markdown",
   "id": "ed682476",
   "metadata": {},
   "source": [
    "## Example 3: Reproducing datasets derived from simulations"
   ]
  },
  {
   "cell_type": "code",
   "execution_count": 24,
   "id": "cf639ecc",
   "metadata": {},
   "outputs": [
    {
     "data": {
      "text/plain": [
       "spirals (generic function with 1 method)"
      ]
     },
     "execution_count": 24,
     "metadata": {},
     "output_type": "execute_result"
    }
   ],
   "source": [
    "function spirals(class_sizes;\n",
    "        rng::AbstractRNG=StableRNG(1903),\n",
    "        max_radius::Real=7.0,\n",
    "        x0::Real=-3.5,\n",
    "        y0::Real=3.5,\n",
    "        angle_start::Real=π/8,\n",
    "        prob::Real=1.0,\n",
    "    )\n",
    "    if length(class_sizes) != 3\n",
    "        error(\"Must specify 3 classes (length(class_sizes)=$(length(class_sizes))).\")\n",
    "    end\n",
    "    if max_radius <= 0\n",
    "        error(\"Maximum radius (max_radius=$(max_radius)) must be > 0.\")\n",
    "    end\n",
    "    if angle_start < 0\n",
    "        error(\"Starting angle (angle_start=$(angle_start)) should satisfy 0 ≤ θ ≤ 2π.\")\n",
    "    end\n",
    "    if prob < 0 || prob > 1\n",
    "        error(\"Probability (prob=$(prob)) must satisfy 0 ≤ prob ≤ 1.\")\n",
    "    end\n",
    "\n",
    "    # Extract parameters.\n",
    "    N = sum(class_sizes)\n",
    "    max_A, max_B, max_C = class_sizes\n",
    "\n",
    "    # Simulate the data.\n",
    "    L, X = Vector{String}(undef, N), Matrix{Float64}(undef, N, 2)\n",
    "    x, y = view(X, :, 1), view(X, :, 2)\n",
    "    inversions = 0\n",
    "    for i in 1:N\n",
    "        if i ≤ max_A\n",
    "            # The first 'max_A' samples are from Class A\n",
    "            (class, k, n, θ) = (\"A\", i, max_A, angle_start)\n",
    "            noise = 0.1\n",
    "        elseif i ≤ max_A + max_B\n",
    "            # The next 'max_B' samples are from Class B\n",
    "            (class, k, n, θ) = (\"B\", i-max_A+1, max_B, angle_start + 2π/3)\n",
    "            noise = 0.2\n",
    "        else\n",
    "            # The last 'max_C' samples are from Class C\n",
    "            (class, k, n, θ) = (\"C\", i-max_A-max_B+1, max_C, angle_start + 4π/3)\n",
    "            noise = 0.3\n",
    "        end\n",
    "\n",
    "        # Compute coordinates.\n",
    "        angle = θ + π * k / n\n",
    "        radius = max_radius * (1 - k / (n + n / 5))\n",
    "\n",
    "        x[i] = x0 + radius*cos(angle) + noise*randn(rng)\n",
    "        y[i] = y0 + radius*sin(angle) + noise*randn(rng)\n",
    "        if rand(rng) < prob\n",
    "            L[i] = class\n",
    "        else\n",
    "            L[i] = rand(rng, setdiff([\"A\", \"B\", \"C\"], [class]))\n",
    "            inversions += 1\n",
    "        end\n",
    "    end\n",
    "\n",
    "    println()\n",
    "    println(\"[  spirals: $(N) instances / 2 features / 3 classes  ]\")\n",
    "    println(\"  ∘ Pr(y | x) = $(prob)\")\n",
    "    println(\"  ∘ $inversions class inversions ($(inversions/N) Bayes error)\")\n",
    "    println()\n",
    "    \n",
    "    return L, X\n",
    "end"
   ]
  },
  {
   "cell_type": "code",
   "execution_count": 25,
   "id": "efae0a5c",
   "metadata": {},
   "outputs": [
    {
     "name": "stdout",
     "output_type": "stream",
     "text": [
      "\n",
      "[  spirals: 300 instances / 2 features / 3 classes  ]\n",
      "  ∘ Pr(y | x) = 1.0\n",
      "  ∘ 0 class inversions (0.0 Bayes error)\n",
      "\n"
     ]
    },
    {
     "data": {
      "image/png": "[encoded data removed]",
      "text/plain": [
       "FigureAxisPlot()"
      ]
     },
     "execution_count": 25,
     "metadata": {},
     "output_type": "execute_result"
    }
   ],
   "source": [
    "L, X = spirals([100, 100, 100])\n",
    "label2int = Dict(\"A\" => 1, \"B\" => 2, \"C\" => 3)\n",
    "class_colors = [label2int[li] for li in L]\n",
    "\n",
    "scatter(X[:,1], X[:,2], color=class_colors)"
   ]
  },
  {
   "cell_type": "code",
   "execution_count": 26,
   "id": "7dbe829c",
   "metadata": {},
   "outputs": [
    {
     "data": {
      "text/plain": [
       "DataDep{String, String, var\"#9#11\", typeof(identity)}(\"spirals\", \"unused\", \"42d5c3404511db5ab48ab2224ac2d2959c82a47dd4b108fbabb3dfb27631d782\", var\"#9#11\"(), identity, \"Dataset: spirals\\nCredit: https://smorbieu.gitlab.io/generate-datasets-to-understand-some-clustering-algorithms-behavior/\\n\\nA simulated dataset of three noisy spirals. Bayes error is approximately 0%.\\n\\nObservations: 1000\\nFeatures:     2\\nClasses:      3\\n\")"
      ]
     },
     "execution_count": 26,
     "metadata": {},
     "output_type": "execute_result"
    }
   ],
   "source": [
    "register(DataDep(\n",
    "    # 1. Set the DataDep's name.\n",
    "    \"spirals\",\n",
    "    # 2. Set the message to display when downloading.\n",
    "    \"\"\"\n",
    "    Dataset: spirals\n",
    "    Credit: https://smorbieu.gitlab.io/generate-datasets-to-understand-some-clustering-algorithms-behavior/\n",
    "\n",
    "    A simulated dataset of three noisy spirals. Bayes error is approximately 0%.\n",
    "\n",
    "    Observations: 1000\n",
    "    Features:     2\n",
    "    Classes:      3\n",
    "    \"\"\",\n",
    "    # 3. There is nothing to download, so this argument is not used.\n",
    "    \"unused\",\n",
    "    # 4. Specify the checksum of the simulation file, before running post_fetch_method.\n",
    "    \"42d5c3404511db5ab48ab2224ac2d2959c82a47dd4b108fbabb3dfb27631d782\";\n",
    "    # 5. Write a fetch_method that calls our simulation routine and creates a local file.\n",
    "    fetch_method = function(unused, localdir)\n",
    "        # Simulate the data. Note that we are forced to specify a RNG, its seed, and simulation parameters.\n",
    "        rng = StableRNG(1903)\n",
    "        L, X = spirals((600, 300, 100);\n",
    "            rng=rng,\n",
    "            max_radius=7.0,\n",
    "            x0=-3.5,\n",
    "            y0=3.5,\n",
    "            angle_start=pi/8,\n",
    "            prob=1.0,\n",
    "        )\n",
    "\n",
    "        # Put everything in a DataFrame.\n",
    "        x, y = view(X, :, 1), view(X, :, 2)\n",
    "        df = DataFrame(class=L, x=x, y=y)\n",
    "        \n",
    "        # Shuffle the rows of the DataFrame and write to file.\n",
    "        local_file = joinpath(localdir, \"data.csv\")\n",
    "        perm = Random.randperm(rng, size(df, 1))\n",
    "        foreach(col -> permute!(col, perm), eachcol(df))\n",
    "        CSV.write(local_file, df)\n",
    "        \n",
    "        return local_file\n",
    "    end,\n",
    "))"
   ]
  },
  {
   "cell_type": "code",
   "execution_count": 27,
   "id": "5fff546b",
   "metadata": {},
   "outputs": [
    {
     "name": "stdout",
     "output_type": "stream",
     "text": [
      "This program has requested access to the data dependency spirals.\n",
      "which is not currently installed. It can be installed automatically, and you will not see this message again.\n",
      "\n",
      "Dataset: spirals\n",
      "Credit: https://smorbieu.gitlab.io/generate-datasets-to-understand-some-clustering-algorithms-behavior/\n",
      "\n",
      "A simulated dataset of three noisy spirals. Bayes error is approximately 0%.\n",
      "\n",
      "Observations: 1000\n",
      "Features:     2\n",
      "Classes:      3\n",
      "\n",
      "\n",
      "\n",
      "Do you want to download the dataset from unused to \"/home/alanderos/jl_i51M0P/spirals\"?\n",
      "[y/n]\n",
      "stdin> y\n",
      "\n",
      "[  spirals: 1000 instances / 2 features / 3 classes  ]\n",
      "  ∘ Pr(y | x) = 1.0\n",
      "  ∘ 0 class inversions (0.0 Bayes error)\n",
      "\n"
     ]
    },
    {
     "data": {
      "text/plain": [
       "\"/home/alanderos/jl_i51M0P/spirals\""
      ]
     },
     "execution_count": 27,
     "metadata": {},
     "output_type": "execute_result"
    }
   ],
   "source": [
    "@datadep_str \"spirals\""
   ]
  },
  {
   "cell_type": "code",
   "execution_count": 28,
   "id": "4f8ee9dc",
   "metadata": {},
   "outputs": [
    {
     "data": {
      "image/png": "[encoded data removed]",
      "text/plain": [
       "FigureAxisPlot()"
      ]
     },
     "execution_count": 28,
     "metadata": {},
     "output_type": "execute_result"
    }
   ],
   "source": [
    "df = CSV.read(@datadep_str(\"spirals/data.csv\"), DataFrame)\n",
    "label2int = Dict(\"A\" => 1, \"B\" => 2, \"C\" => 3)\n",
    "class_colors = [label2int[li] for li in df.class]\n",
    "\n",
    "scatter(df.x, df.y, color=class_colors)"
   ]
  },
  {
   "cell_type": "markdown",
   "id": "a41cb25c",
   "metadata": {},
   "source": [
    "### Aside: Random Number Generation"
   ]
  },
  {
   "cell_type": "markdown",
   "id": "fb4762d6",
   "metadata": {},
   "source": [
    "Random Number Generators (RNGs) on a computer are often *Pseudo*-Random Number Generators (PRNGs) in that the streams they generate are deterministic given you know some initial state.\n",
    "\n",
    "This property is great for making certain kinds of programs reproducible; for example simulations, probabilistic methods, and so on.\n",
    "\n",
    "**However, the implementation of a particular RNG algorithm may affect the random streams it generates!**\n",
    "\n",
    "- Minor bug fixes and/or speed improvements may affect streams.\n",
    "- This is acknowledged in the Julia documentation [here](https://docs.julialang.org/en/v1/stdlib/Random/#Random-Numbers).\n",
    "\n",
    "**Example**: At some point in the development of Julia, the default RNG was based on [Mersenne Twister](https://en.wikipedia.org/wiki/Mersenne_Twister). The default is now Xoshiro256++ from the [xoshiro/xoroshiro](https://en.wikipedia.org/wiki/Xorshift#xoshiro_and_xoroshiro) family. Scripts run in Julia versions from before the change that seeded the global RNG produce different sequences of values compared to more recent versions.\n",
    "\n",
    "- Your results should not depend on a particular stream of random numbers... but that reproducibility could be useful in diagnosing issues in an analysis or computational method.\n",
    "\n",
    "**If you absolutely need reproducibility of random numbers in a script, use a RNG that promises stability.**\n",
    "\n",
    "- In Julia: [StableRNGs](https://github.com/JuliaRandom/StableRNGs.jl) promises stability across Julia versions.\n",
    "- Other languages?"
   ]
  },
  {
   "cell_type": "markdown",
   "id": "d8f87796",
   "metadata": {},
   "source": [
    "# Appendix"
   ]
  },
  {
   "cell_type": "code",
   "execution_count": 29,
   "id": "d8c588dd",
   "metadata": {},
   "outputs": [
    {
     "name": "stdout",
     "output_type": "stream",
     "text": [
      "\u001b[32m\u001b[1m      Status\u001b[22m\u001b[39m `~/Projects/2022-July-Workshop/module2-04-prdsj/Project.toml`\n",
      " \u001b[90m [336ed68f] \u001b[39mCSV v0.10.4\n",
      " \u001b[90m [944b1d66] \u001b[39mCodecZlib v0.7.0\n",
      " \u001b[90m [124859b0] \u001b[39mDataDeps v0.7.9\n",
      " \u001b[90m [a93c6f00] \u001b[39mDataFrames v1.3.4\n",
      " \u001b[90m [860ef19b] \u001b[39mStableRNGs v1.0.0\n",
      " \u001b[90m [9a3f8284] \u001b[39mRandom\n",
      " \u001b[90m [10745b16] \u001b[39mStatistics\n"
     ]
    }
   ],
   "source": [
    "import Pkg; Pkg.status()"
   ]
  }
 ],
 "metadata": {
  "kernelspec": {
   "display_name": "Julia 1.7.3",
   "language": "julia",
   "name": "julia-1.7"
  },
  "language_info": {
   "file_extension": ".jl",
   "mimetype": "application/julia",
   "name": "julia",
   "version": "1.7.3"
  }
 },
 "nbformat": 4,
 "nbformat_minor": 5
}
