{
 "cells": [
  {
   "cell_type": "markdown",
   "id": "f5aeab52",
   "metadata": {},
   "source": [
    "# Python for Data Science"
   ]
  },
  {
   "cell_type": "markdown",
   "id": "1380993c",
   "metadata": {},
   "source": [
    "## Why Python?\n",
    "\n",
    "- Python: general-purpose programming language $\\rightarrow$ large user base from diverse disciplines\n",
    "    - cf. R: specializes in statistical computing/data analytics (more domain-specific)\n",
    "Unlike R, which specializes in statistical computing/data analytics (more domain-specific)\n",
    "\n",
    "    - Rich pool of scientific libraries with strong community support\n",
    "    - Many useful libraries beyond scientific computing \n",
    "        - Natural to directly utilize scientific computing results in diverse applications such as image processing, natural language processing, gaming, etc.\n",
    "    - Disciplines like machine learning: \n",
    "        - Python became the de facto standard language in many companies, and you may be required to use it sometimes. \n",
    "        - tensorflow, pytorch for deep learning, etc. and they are all in Python.\n",
    "\n",
    "### Scientific Python (SciPy) Ecosystem\n",
    "\n",
    "Libraries are important characteristic of how Python works: each application has its libraries. For scientific computing, one can use a combination of the following packages that meets the need. \n",
    "\n",
    "\n",
    "\n",
    "\n",
    "| Package | Description | Logo |\n",
    "|:---:|:---|:---:|\n",
    "| __Numpy__ | Numerical arrays | <img src=\"https://numpy.org/doc/stable/_static/numpylogo.svg\" width=\"300\"/> |\n",
    "| Scipy | User-friendly and efficient numerical routines:<br> numerical integration, interpolation, optimization, linear algebra, and statistics | <img src=\"https://scipy.org/images/logo.svg\" width=\"200\"/> |\n",
    "| __Jupyter Notebook__ | Interactive programming environment | <img src=\"https://jupyter.org/assets/homepage/main-logo.svg\" width=\"200\"/> |\n",
    "| __Matplotlib__ | Plotting | <img src=\"https://matplotlib.org/_static/logo2_compressed.svg\" width=\"300\"/>|\n",
    "| __Pandas__ | Data analytics <br> R-like data frames | <img src=\"https://upload.wikimedia.org/wikipedia/commons/thumb/e/ed/Pandas_logo.svg/1024px-Pandas_logo.svg.png\" width=\"300\"/> |\n",
    "| Scikit-learn | Machine learning | <img src=\"https://upload.wikimedia.org/wikipedia/commons/thumb/0/05/Scikit_learn_logo_small.svg/2880px-Scikit_learn_logo_small.svg.png\" width=\"300\"/> | \n",
    "\n",
    "All the packages above are included in the [Anaconda distribution](https://www.anaconda.com/products/distribution) of Python. If you download Anaconda, it comes with all the useful scientific programming packages. Packages used in this workshop are in bold.\n",
    "\n",
    "\n"
   ]
  },
  {
   "cell_type": "code",
   "execution_count": 1,
   "id": "4813ef46",
   "metadata": {},
   "outputs": [
    {
     "name": "stdout",
     "output_type": "stream",
     "text": [
      "{'commit_hash': '3813660de',\n",
      " 'commit_source': 'installation',\n",
      " 'default_encoding': 'utf-8',\n",
      " 'ipython_path': '/Users/kose/opt/anaconda3/lib/python3.9/site-packages/IPython',\n",
      " 'ipython_version': '7.29.0',\n",
      " 'os_name': 'posix',\n",
      " 'platform': 'macOS-10.16-x86_64-i386-64bit',\n",
      " 'sys_executable': '/Users/kose/opt/anaconda3/bin/python',\n",
      " 'sys_platform': 'darwin',\n",
      " 'sys_version': '3.9.7 (default, Sep 16 2021, 08:50:36) \\n[Clang 10.0.0 ]'}\n"
     ]
    }
   ],
   "source": [
    "import IPython\n",
    "print(IPython.sys_info())"
   ]
  },
  {
   "cell_type": "markdown",
   "id": "34c9a9d8",
   "metadata": {},
   "source": [
    "## Before We move on...\n",
    "\n",
    "We have limited resources for each user on the cloud. Don't forget to shut down the kernels you are not using. \n",
    "\n",
    "![](shutdown_kernel.png)"
   ]
  },
  {
   "cell_type": "markdown",
   "id": "7c5beedf",
   "metadata": {},
   "source": [
    "## Pandas\n",
    "\n",
    "Pandas is a Python library for working with datasets. It supports data frame structure like in R. "
   ]
  },
  {
   "cell_type": "code",
   "execution_count": 2,
   "id": "5c509007",
   "metadata": {},
   "outputs": [],
   "source": [
    "# load the pandas library\n",
    "import pandas as pd\n",
    "# we also load numpy for array computation for convenience\n",
    "import numpy as np\n",
    "import platform\n",
    "mimic_path = \"/Users/huazhou/Desktop/mimic-iv-1.0\" if platform.uname().node == \"RELMDOMFAC30610\" else \"/home/shared/1.0\""
   ]
  },
  {
   "cell_type": "markdown",
   "id": "8f89e8bc",
   "metadata": {},
   "source": [
    "### Loading data"
   ]
  },
  {
   "cell_type": "markdown",
   "id": "f190a22b",
   "metadata": {},
   "source": [
    "Let's load `icustays.csv.gz` file as a pandas data frame. We need to predetermine the columnes with date-time values."
   ]
  },
  {
   "cell_type": "code",
   "execution_count": 3,
   "id": "b8fb15c0",
   "metadata": {},
   "outputs": [
    {
     "name": "stdout",
     "output_type": "stream",
     "text": [
      "       subject_id   hadm_id   stay_id  \\\n",
      "0        17867402  24528534  31793211   \n",
      "1        14435996  28960964  31983544   \n",
      "2        17609946  27385897  33183475   \n",
      "3        18966770  23483021  34131444   \n",
      "4        12776735  20817525  34547665   \n",
      "...           ...       ...       ...   \n",
      "76535    15368898  27299174  39990887   \n",
      "76536    15721773  28911582  39991872   \n",
      "76537    12275003  22562812  39992247   \n",
      "76538    17577670  24221219  39993265   \n",
      "76539    17840864  22695803  39999810   \n",
      "\n",
      "                                         first_careunit  \\\n",
      "0                                   Trauma SICU (TSICU)   \n",
      "1                                   Trauma SICU (TSICU)   \n",
      "2                                   Trauma SICU (TSICU)   \n",
      "3                                   Trauma SICU (TSICU)   \n",
      "4                                        Neuro Stepdown   \n",
      "...                                                 ...   \n",
      "76535                               Trauma SICU (TSICU)   \n",
      "76536                Medical Intensive Care Unit (MICU)   \n",
      "76537      Cardiac Vascular Intensive Care Unit (CVICU)   \n",
      "76538  Medical/Surgical Intensive Care Unit (MICU/SICU)   \n",
      "76539                                Neuro Intermediate   \n",
      "\n",
      "                                          last_careunit              intime  \\\n",
      "0                                   Trauma SICU (TSICU) 2154-03-03 04:11:00   \n",
      "1                                   Trauma SICU (TSICU) 2150-06-19 17:57:00   \n",
      "2                                   Trauma SICU (TSICU) 2138-02-05 18:54:00   \n",
      "3                                   Trauma SICU (TSICU) 2123-10-25 10:35:00   \n",
      "4                                        Neuro Stepdown 2200-07-12 00:33:00   \n",
      "...                                                 ...                 ...   \n",
      "76535                               Trauma SICU (TSICU) 2126-06-13 01:00:00   \n",
      "76536                Medical Intensive Care Unit (MICU) 2177-11-08 14:09:00   \n",
      "76537      Cardiac Vascular Intensive Care Unit (CVICU) 2182-08-15 09:37:33   \n",
      "76538  Medical/Surgical Intensive Care Unit (MICU/SICU) 2154-01-03 22:50:26   \n",
      "76539                                Neuro Intermediate 2115-12-01 00:37:00   \n",
      "\n",
      "                  outtime       los  \n",
      "0     2154-03-04 18:16:56  1.587454  \n",
      "1     2150-06-22 18:33:54  3.025625  \n",
      "2     2138-02-15 12:42:05  9.741725  \n",
      "3     2123-10-25 18:59:47  0.350544  \n",
      "4     2200-07-13 16:44:40  1.674769  \n",
      "...                   ...       ...  \n",
      "76535 2126-06-13 20:28:35  0.811516  \n",
      "76536 2177-11-10 00:24:54  1.427708  \n",
      "76537 2182-08-16 17:25:44  1.325127  \n",
      "76538 2154-01-06 12:44:43  2.579363  \n",
      "76539 2115-12-05 18:27:57  4.743715  \n",
      "\n",
      "[76540 rows x 8 columns]\n"
     ]
    }
   ],
   "source": [
    "icustays_df = pd.read_csv(mimic_path + \"/icu/icustays.csv.gz\", parse_dates=[\"intime\", \"outtime\"])\n",
    "print(icustays_df)"
   ]
  },
  {
   "cell_type": "markdown",
   "id": "5ac4dbce-1b22-4cdb-bd47-33839dbb617d",
   "metadata": {},
   "source": [
    "You may press `Shift-Tab` to see the function documentation interactively, or typing `?pd.read_csv` in the code cell. "
   ]
  },
  {
   "cell_type": "code",
   "execution_count": 4,
   "id": "00b258da",
   "metadata": {},
   "outputs": [
    {
     "data": {
      "text/plain": [
       "pandas.core.frame.DataFrame"
      ]
     },
     "execution_count": 4,
     "metadata": {},
     "output_type": "execute_result"
    }
   ],
   "source": [
    "icustays_df.__class__"
   ]
  },
  {
   "cell_type": "markdown",
   "id": "60a0d7a2-42df-4a55-bfb5-ebc3b685b5b1",
   "metadata": {},
   "source": [
    "The variable read in is an instance of `DataFrame`. Let's talk a little bit about what this means. "
   ]
  },
  {
   "cell_type": "markdown",
   "id": "9e62fab6-52b4-4cd7-8dba-ccd1ff9aa3ad",
   "metadata": {},
   "source": [
    "#### Note: Object-Oriented Programming\n",
    "\n",
    "Python has built-in object-oriented programming (OOP) support. The OOP paradigm is based on \"objects\", which is bundled with data representing properties of the object and code in the form of method. \n",
    "\n",
    "- __Class__: defines data format (attributes) and available procdeures (methods) for an object. `DataFrame`.\n",
    "- __Object__: An instance of a class. `icustays_df`. \n",
    "- __Attributes__: Properties like column names, number of rows, number of columns, etc. __syntax: `df.attribute`__\n",
    "- __Methods__: \"Actions\" (or procedures/functions) applied to or performed on the object. __syntax: `df.method(arg1, arg2, etc.)`__"
   ]
  },
  {
   "cell_type": "markdown",
   "id": "7e9da902",
   "metadata": {},
   "source": [
    "Now `admissions.csv.gz`:"
   ]
  },
  {
   "cell_type": "code",
   "execution_count": 5,
   "id": "d5d92363",
   "metadata": {},
   "outputs": [
    {
     "name": "stdout",
     "output_type": "stream",
     "text": [
      "        subject_id   hadm_id           admittime           dischtime  \\\n",
      "0         14679932  21038362 2139-09-26 14:16:00 2139-09-28 11:30:00   \n",
      "1         15585972  24941086 2123-10-07 23:56:00 2123-10-12 11:22:00   \n",
      "2         11989120  21965160 2147-01-14 09:00:00 2147-01-17 14:25:00   \n",
      "3         17817079  24709883 2165-12-27 17:33:00 2165-12-31 21:18:00   \n",
      "4         15078341  23272159 2122-08-28 08:48:00 2122-08-30 12:32:00   \n",
      "...            ...       ...                 ...                 ...   \n",
      "523735    17892964  20786062 2180-09-17 00:00:00 2180-09-18 13:37:00   \n",
      "523736    17137572  20943099 2147-08-01 17:41:00 2147-08-02 17:30:00   \n",
      "523737    19389857  23176714 2189-03-01 00:58:00 2189-03-02 15:22:00   \n",
      "523738    12298845  22347500 2138-05-31 00:00:00 2138-06-04 16:50:00   \n",
      "523739    11211939  24981356 2147-08-02 15:49:00 2147-08-05 16:30:00   \n",
      "\n",
      "       deathtime               admission_type      admission_location  \\\n",
      "0            NaT                     ELECTIVE                     NaN   \n",
      "1            NaT                     ELECTIVE                     NaN   \n",
      "2            NaT                     ELECTIVE                     NaN   \n",
      "3            NaT                     ELECTIVE                     NaN   \n",
      "4            NaT                     ELECTIVE                     NaN   \n",
      "...          ...                          ...                     ...   \n",
      "523735       NaT  SURGICAL SAME DAY ADMISSION      PHYSICIAN REFERRAL   \n",
      "523736       NaT                     EW EMER.  TRANSFER FROM HOSPITAL   \n",
      "523737       NaT  SURGICAL SAME DAY ADMISSION      PHYSICIAN REFERRAL   \n",
      "523738       NaT  SURGICAL SAME DAY ADMISSION      PHYSICIAN REFERRAL   \n",
      "523739       NaT                     EW EMER.          EMERGENCY ROOM   \n",
      "\n",
      "       discharge_location insurance language marital_status  \\\n",
      "0                    HOME     Other  ENGLISH         SINGLE   \n",
      "1                    HOME     Other  ENGLISH            NaN   \n",
      "2                    HOME     Other  ENGLISH            NaN   \n",
      "3                    HOME     Other  ENGLISH            NaN   \n",
      "4                    HOME     Other  ENGLISH            NaN   \n",
      "...                   ...       ...      ...            ...   \n",
      "523735               HOME  Medicare  ENGLISH         SINGLE   \n",
      "523736               HOME     Other  ENGLISH       DIVORCED   \n",
      "523737               HOME     Other  ENGLISH        MARRIED   \n",
      "523738   HOME HEALTH CARE     Other  ENGLISH        MARRIED   \n",
      "523739   HOME HEALTH CARE  Medicare        ?        WIDOWED   \n",
      "\n",
      "                     ethnicity           edregtime           edouttime  \\\n",
      "0                      UNKNOWN                 NaT                 NaT   \n",
      "1                        WHITE                 NaT                 NaT   \n",
      "2                      UNKNOWN                 NaT                 NaT   \n",
      "3                        OTHER                 NaT                 NaT   \n",
      "4       BLACK/AFRICAN AMERICAN                 NaT                 NaT   \n",
      "...                        ...                 ...                 ...   \n",
      "523735                   WHITE                 NaT                 NaT   \n",
      "523736         HISPANIC/LATINO 2147-07-31 23:55:00 2147-08-01 19:37:00   \n",
      "523737                   WHITE                 NaT                 NaT   \n",
      "523738                   WHITE                 NaT                 NaT   \n",
      "523739                   WHITE 2147-08-02 14:27:00 2147-08-02 17:38:00   \n",
      "\n",
      "        hospital_expire_flag  \n",
      "0                          0  \n",
      "1                          0  \n",
      "2                          0  \n",
      "3                          0  \n",
      "4                          0  \n",
      "...                      ...  \n",
      "523735                     0  \n",
      "523736                     0  \n",
      "523737                     0  \n",
      "523738                     0  \n",
      "523739                     0  \n",
      "\n",
      "[523740 rows x 15 columns]\n"
     ]
    }
   ],
   "source": [
    "admissions_df = pd.read_csv(mimic_path + \"/core/admissions.csv.gz\",\n",
    "                           parse_dates = [\"admittime\", \"dischtime\", \"deathtime\", \"edregtime\", \"edouttime\"])\n",
    "print(admissions_df)"
   ]
  },
  {
   "cell_type": "markdown",
   "id": "b4646d9f",
   "metadata": {},
   "source": [
    "And `patients.csv.gz`:"
   ]
  },
  {
   "cell_type": "code",
   "execution_count": 6,
   "id": "6393a23d",
   "metadata": {},
   "outputs": [
    {
     "name": "stdout",
     "output_type": "stream",
     "text": [
      "        subject_id gender  anchor_age  anchor_year anchor_year_group  dod\n",
      "0         10000048      F          23         2126       2008 - 2010  NaN\n",
      "1         10002723      F           0         2128       2017 - 2019  NaN\n",
      "2         10003939      M           0         2184       2008 - 2010  NaN\n",
      "3         10004222      M           0         2161       2014 - 2016  NaN\n",
      "4         10005325      F           0         2154       2011 - 2013  NaN\n",
      "...            ...    ...         ...          ...               ...  ...\n",
      "382273    19998203      M          29         2132       2011 - 2013  NaN\n",
      "382274    19998350      M          52         2127       2011 - 2013  NaN\n",
      "382275    19999068      M          63         2161       2011 - 2013  NaN\n",
      "382276    19999270      M          33         2184       2014 - 2016  NaN\n",
      "382277    19999298      M          20         2177       2011 - 2013  NaN\n",
      "\n",
      "[382278 rows x 6 columns]\n"
     ]
    }
   ],
   "source": [
    "patients_df = pd.read_csv(mimic_path + \"/core/patients.csv.gz\")\n",
    "print(patients_df)"
   ]
  },
  {
   "cell_type": "markdown",
   "id": "e3e6f7d5",
   "metadata": {},
   "source": [
    "For `chartevents_filtered_itemid.csv.gz`, we learn how to read in only selected columns."
   ]
  },
  {
   "cell_type": "code",
   "execution_count": 7,
   "id": "b5794f98",
   "metadata": {},
   "outputs": [],
   "source": [
    "from timeit import default_timer as timer"
   ]
  },
  {
   "cell_type": "code",
   "execution_count": 8,
   "id": "075d4dcb",
   "metadata": {},
   "outputs": [
    {
     "name": "stdout",
     "output_type": "stream",
     "text": [
      "Elapsed time:  39.48315167\n"
     ]
    }
   ],
   "source": [
    "start = timer()\n",
    "chartevents_df = pd.read_csv(\n",
    "    mimic_path + \"/icu/chartevents_filtered_itemid.csv.gz\",\n",
    "    usecols = [\"stay_id\", \"itemid\", \"charttime\", \"valuenum\"],\n",
    "    dtype = {\"stay_id\" : np.float64, \"itemid\" : np.float64, \"charttime\" : \"str\", \"valuenum\" : np.float64},\n",
    "    parse_dates = [\"charttime\"]\n",
    "    )\n",
    "end = timer()\n",
    "print(\"Elapsed time: \", end - start)"
   ]
  },
  {
   "cell_type": "code",
   "execution_count": 9,
   "id": "a043a839",
   "metadata": {},
   "outputs": [
    {
     "name": "stdout",
     "output_type": "stream",
     "text": [
      "             stay_id           charttime    itemid  valuenum\n",
      "0         30600691.0 2165-04-24 05:28:00  220179.0     152.0\n",
      "1         30600691.0 2165-04-24 05:28:00  220181.0     110.0\n",
      "2         30600691.0 2165-04-24 05:30:00  220045.0      65.0\n",
      "3         30600691.0 2165-04-24 05:30:00  220210.0      14.0\n",
      "4         30600691.0 2165-04-24 05:38:00  223761.0      97.6\n",
      "...              ...                 ...       ...       ...\n",
      "23679053  30143796.0 2161-08-30 20:00:00  223761.0      97.5\n",
      "23679054  30143796.0 2161-08-30 21:00:00  220045.0      88.0\n",
      "23679055  30143796.0 2161-08-30 21:00:00  220179.0     129.0\n",
      "23679056  30143796.0 2161-08-30 21:00:00  220181.0      95.0\n",
      "23679057  30143796.0 2161-08-30 21:00:00  220210.0      15.0\n",
      "\n",
      "[23679058 rows x 4 columns]\n"
     ]
    }
   ],
   "source": [
    "print(chartevents_df)"
   ]
  },
  {
   "cell_type": "markdown",
   "id": "c905204c",
   "metadata": {},
   "source": [
    "For filtering, we can use the `query` method. "
   ]
  },
  {
   "cell_type": "code",
   "execution_count": 10,
   "id": "fb380953",
   "metadata": {},
   "outputs": [
    {
     "data": {
      "text/html": [
       "<div>\n",
       "<style scoped>\n",
       "    .dataframe tbody tr th:only-of-type {\n",
       "        vertical-align: middle;\n",
       "    }\n",
       "\n",
       "    .dataframe tbody tr th {\n",
       "        vertical-align: top;\n",
       "    }\n",
       "\n",
       "    .dataframe thead th {\n",
       "        text-align: right;\n",
       "    }\n",
       "</style>\n",
       "<table border=\"1\" class=\"dataframe\">\n",
       "  <thead>\n",
       "    <tr style=\"text-align: right;\">\n",
       "      <th></th>\n",
       "      <th>stay_id</th>\n",
       "      <th>charttime</th>\n",
       "      <th>itemid</th>\n",
       "      <th>valuenum</th>\n",
       "    </tr>\n",
       "  </thead>\n",
       "  <tbody>\n",
       "    <tr>\n",
       "      <th>2</th>\n",
       "      <td>30600691.0</td>\n",
       "      <td>2165-04-24 05:30:00</td>\n",
       "      <td>220045.0</td>\n",
       "      <td>65.0</td>\n",
       "    </tr>\n",
       "    <tr>\n",
       "      <th>5</th>\n",
       "      <td>30600691.0</td>\n",
       "      <td>2165-04-24 06:00:00</td>\n",
       "      <td>220045.0</td>\n",
       "      <td>56.0</td>\n",
       "    </tr>\n",
       "    <tr>\n",
       "      <th>9</th>\n",
       "      <td>30600691.0</td>\n",
       "      <td>2165-04-24 06:09:00</td>\n",
       "      <td>220045.0</td>\n",
       "      <td>55.0</td>\n",
       "    </tr>\n",
       "    <tr>\n",
       "      <th>11</th>\n",
       "      <td>30600691.0</td>\n",
       "      <td>2165-04-24 07:00:00</td>\n",
       "      <td>220045.0</td>\n",
       "      <td>57.0</td>\n",
       "    </tr>\n",
       "    <tr>\n",
       "      <th>16</th>\n",
       "      <td>30600691.0</td>\n",
       "      <td>2165-04-24 08:00:00</td>\n",
       "      <td>220045.0</td>\n",
       "      <td>56.0</td>\n",
       "    </tr>\n",
       "  </tbody>\n",
       "</table>\n",
       "</div>"
      ],
      "text/plain": [
       "       stay_id           charttime    itemid  valuenum\n",
       "2   30600691.0 2165-04-24 05:30:00  220045.0      65.0\n",
       "5   30600691.0 2165-04-24 06:00:00  220045.0      56.0\n",
       "9   30600691.0 2165-04-24 06:09:00  220045.0      55.0\n",
       "11  30600691.0 2165-04-24 07:00:00  220045.0      57.0\n",
       "16  30600691.0 2165-04-24 08:00:00  220045.0      56.0"
      ]
     },
     "execution_count": 10,
     "metadata": {},
     "output_type": "execute_result"
    }
   ],
   "source": [
    "chartevents_df.query(\"stay_id == 30600691 and itemid == 220045\")"
   ]
  },
  {
   "cell_type": "markdown",
   "id": "7413459a",
   "metadata": {},
   "source": [
    "And for plotting, we use the package `matplotlib`."
   ]
  },
  {
   "cell_type": "code",
   "execution_count": 11,
   "id": "004ae9ef",
   "metadata": {},
   "outputs": [],
   "source": [
    "import matplotlib.pyplot as plt\n",
    "%matplotlib inline"
   ]
  },
  {
   "cell_type": "code",
   "execution_count": 12,
   "id": "467785e9",
   "metadata": {},
   "outputs": [
    {
     "data": {
      "text/plain": [
       "<AxesSubplot:xlabel='charttime', ylabel='valuenum'>"
      ]
     },
     "execution_count": 12,
     "metadata": {},
     "output_type": "execute_result"
    },
    {
     "data": {
      "image/png": "[encoded data removed]",
      "text/plain": [
       "<Figure size 432x288 with 1 Axes>"
      ]
     },
     "metadata": {
      "needs_background": "light"
     },
     "output_type": "display_data"
    }
   ],
   "source": [
    "(\n",
    "    chartevents_df.query(\"stay_id == 30600691 and itemid == 220045\").\n",
    "        plot.scatter(x=\"charttime\", y=\"valuenum\")\n",
    ")"
   ]
  },
  {
   "cell_type": "markdown",
   "id": "57b6f7d1",
   "metadata": {},
   "source": [
    "#### Note: Method Chaining\n",
    "One may use method chaining for linearizing method calls, as above. As the dot operator(`.`) is evaluated from left to right, one may \"chain\" another method call or attribute access right after obtaining the result of the previous method call or attribute access. This is a \"pythonic\" way of avoiding nested calls.\n",
    "\n",
    "One limitation is that we can only do this for methods or attributes of a class. In this case, `print()` is not a method of `DataFrame`, we cannot chain `print` as what we did in R. One may use [`pandas.DataFrame.pipe()`](https://pandas.pydata.org/docs/reference/api/pandas.DataFrame.pipe.html) method for such operations. \n",
    "There are packages that implement pipe by overloading other operator (e.g., the bitwise or (`|`) operator). "
   ]
  },
  {
   "cell_type": "markdown",
   "id": "69b8032a",
   "metadata": {},
   "source": [
    "## Target cohort (from R section)\n",
    "\n",
    "Let's continue on with the task we did with R. We aim to develop a predictive model, which computes the chance of dying within 30 days of ICU stay `intime` based on baseline features  \n",
    "- `first_careunit`  \n",
    "- `age` at `intime`  \n",
    "- `gender`  \n",
    "- `ethnicity`  \n",
    "- first measurement of the following vitals since ICU stay `intime`  \n",
    "    - 220045 for heart rate  \n",
    "    - 220181 for Non Invasive Blood Pressure mean  \n",
    "    - 220179 for Non Invasive Blood Pressure systolic  \n",
    "    - 223761 for Temperature Fahrenheit  \n",
    "    - 220210 for Respiratory Rate  \n",
    "\n",
    "We restrict to the first ICU stays of each unique patient. "
   ]
  },
  {
   "cell_type": "markdown",
   "id": "d4bcb299",
   "metadata": {},
   "source": [
    "## Wrangling and merging data frames\n",
    "\n",
    "Our stragegy is\n",
    "\n",
    "1. Identify and keep the first ICU stay of each patient. \n",
    "\n",
    "2. Identify and keep the first vital measurements during the first ICU stay of each patient.\n",
    "\n",
    "3. Join four data frames into a single data frame.\n",
    "\n",
    "Important data wrangling concepts: group_by, sort, slice, joins, and pivot."
   ]
  },
  {
   "cell_type": "markdown",
   "id": "2d9fe947",
   "metadata": {},
   "source": [
    "### Step 1: restrict to the first ICU stay of each patient\n",
    "\n",
    "`icustays_df` has 76,540 rows, which is reduced to 53,150 unique ICU stays."
   ]
  },
  {
   "cell_type": "code",
   "execution_count": 13,
   "id": "7c825e61",
   "metadata": {},
   "outputs": [
    {
     "name": "stdout",
     "output_type": "stream",
     "text": [
      "       subject_id   hadm_id   stay_id  \\\n",
      "66220    10000032  29079034  39553978   \n",
      "57004    10000980  26913865  39765666   \n",
      "25744    10001217  24597018  37067082   \n",
      "10776    10001725  25563031  31205490   \n",
      "45299    10001884  26184834  37510196   \n",
      "...           ...       ...       ...   \n",
      "40352    19999442  26785317  32336619   \n",
      "20152    19999625  25304202  31070865   \n",
      "24802    19999828  25744818  36075953   \n",
      "56278    19999840  21033226  38978960   \n",
      "53712    19999987  23865745  36195440   \n",
      "\n",
      "                                         first_careunit  \\\n",
      "66220                Medical Intensive Care Unit (MICU)   \n",
      "57004                Medical Intensive Care Unit (MICU)   \n",
      "25744               Surgical Intensive Care Unit (SICU)   \n",
      "10776  Medical/Surgical Intensive Care Unit (MICU/SICU)   \n",
      "45299                Medical Intensive Care Unit (MICU)   \n",
      "...                                                 ...   \n",
      "40352               Surgical Intensive Care Unit (SICU)   \n",
      "20152  Medical/Surgical Intensive Care Unit (MICU/SICU)   \n",
      "24802                Medical Intensive Care Unit (MICU)   \n",
      "56278                               Trauma SICU (TSICU)   \n",
      "53712                               Trauma SICU (TSICU)   \n",
      "\n",
      "                                          last_careunit              intime  \\\n",
      "66220                Medical Intensive Care Unit (MICU) 2180-07-23 14:00:00   \n",
      "57004                Medical Intensive Care Unit (MICU) 2189-06-27 08:42:00   \n",
      "25744               Surgical Intensive Care Unit (SICU) 2157-11-20 19:18:02   \n",
      "10776  Medical/Surgical Intensive Care Unit (MICU/SICU) 2110-04-11 15:52:22   \n",
      "45299                Medical Intensive Care Unit (MICU) 2131-01-11 04:20:05   \n",
      "...                                                 ...                 ...   \n",
      "40352               Surgical Intensive Care Unit (SICU) 2148-11-19 14:23:43   \n",
      "20152  Medical/Surgical Intensive Care Unit (MICU/SICU) 2139-10-10 19:18:00   \n",
      "24802                Medical Intensive Care Unit (MICU) 2149-01-08 18:12:00   \n",
      "56278               Surgical Intensive Care Unit (SICU) 2164-09-12 09:26:28   \n",
      "53712                               Trauma SICU (TSICU) 2145-11-02 22:59:00   \n",
      "\n",
      "                  outtime       los  \n",
      "66220 2180-07-23 23:50:47  0.410266  \n",
      "57004 2189-06-27 20:38:27  0.497535  \n",
      "25744 2157-11-21 22:08:00  1.118032  \n",
      "10776 2110-04-12 23:59:56  1.338588  \n",
      "45299 2131-01-20 08:27:30  9.171817  \n",
      "...                   ...       ...  \n",
      "40352 2148-11-26 13:12:15  6.950370  \n",
      "20152 2139-10-11 18:21:28  0.960741  \n",
      "24802 2149-01-10 13:11:02  1.790995  \n",
      "56278 2164-09-17 16:35:15  5.297766  \n",
      "53712 2145-11-04 21:29:30  1.937847  \n",
      "\n",
      "[53150 rows x 8 columns]\n"
     ]
    }
   ],
   "source": [
    "icustays_df_1ststay = (icustays_df.sort_values([\"subject_id\", \"intime\"]).\n",
    "                       groupby(\"subject_id\").\n",
    "                       head(1)) # head() is much faster than slice_head(n) in dplyr\n",
    "print(icustays_df_1ststay)"
   ]
  },
  {
   "cell_type": "markdown",
   "id": "f4fab110",
   "metadata": {},
   "source": [
    "### Step 2: restrict to the first vital measurements during the ICU stay\n",
    "\n",
    "Key data wrangling concepts: selecting columns, left_join, right_join, group_by, sort, pivot"
   ]
  },
  {
   "cell_type": "code",
   "execution_count": 14,
   "id": "d6e3364c",
   "metadata": {},
   "outputs": [],
   "source": [
    "chartevents_df_1ststay = (\n",
    "    chartevents_df.\n",
    "    merge(\n",
    "        icustays_df_1ststay[[\"stay_id\", \"intime\", \"outtime\"]],\n",
    "        how = \"right\",\n",
    "        on = \"stay_id\"). # 15738363 rows\n",
    "    query(\"charttime >= intime and charttime <= outtime\"). # 15700234 rows\n",
    "    sort_values([\"stay_id\", \"itemid\", \"charttime\"]).\n",
    "    groupby([\"stay_id\", \"itemid\"]).\n",
    "    head(1). # 263332 rows\n",
    "    drop([\"charttime\", \"intime\", \"outtime\"], axis=\"columns\"). # remove unnecessary columns\n",
    "    astype({\"itemid\": str}). # change it to string for easier renaming\n",
    "    pivot(index=\"stay_id\", columns=\"itemid\", values=\"valuenum\").\n",
    "    rename(columns={\"220045.0\": \"heart_rate\",\n",
    "            \"220179.0\": \"bp_mean\",\n",
    "            \"220181.0\": \"bp_syst\",\n",
    "            \"223761.0\": \"temp_f\",\n",
    "            \"220210.0\": \"resp_rate\"})\n",
    ")"
   ]
  },
  {
   "cell_type": "code",
   "execution_count": 15,
   "id": "bb66eaf5",
   "metadata": {},
   "outputs": [
    {
     "data": {
      "text/html": [
       "<div>\n",
       "<style scoped>\n",
       "    .dataframe tbody tr th:only-of-type {\n",
       "        vertical-align: middle;\n",
       "    }\n",
       "\n",
       "    .dataframe tbody tr th {\n",
       "        vertical-align: top;\n",
       "    }\n",
       "\n",
       "    .dataframe thead th {\n",
       "        text-align: right;\n",
       "    }\n",
       "</style>\n",
       "<table border=\"1\" class=\"dataframe\">\n",
       "  <thead>\n",
       "    <tr style=\"text-align: right;\">\n",
       "      <th>itemid</th>\n",
       "      <th>heart_rate</th>\n",
       "      <th>bp_mean</th>\n",
       "      <th>bp_syst</th>\n",
       "      <th>resp_rate</th>\n",
       "      <th>temp_f</th>\n",
       "    </tr>\n",
       "    <tr>\n",
       "      <th>stay_id</th>\n",
       "      <th></th>\n",
       "      <th></th>\n",
       "      <th></th>\n",
       "      <th></th>\n",
       "      <th></th>\n",
       "    </tr>\n",
       "  </thead>\n",
       "  <tbody>\n",
       "    <tr>\n",
       "      <th>30000153.0</th>\n",
       "      <td>104.0</td>\n",
       "      <td>113.0</td>\n",
       "      <td>84.0</td>\n",
       "      <td>18.0</td>\n",
       "      <td>99.1</td>\n",
       "    </tr>\n",
       "    <tr>\n",
       "      <th>30000646.0</th>\n",
       "      <td>100.0</td>\n",
       "      <td>107.0</td>\n",
       "      <td>75.0</td>\n",
       "      <td>28.0</td>\n",
       "      <td>98.8</td>\n",
       "    </tr>\n",
       "    <tr>\n",
       "      <th>30001148.0</th>\n",
       "      <td>80.0</td>\n",
       "      <td>102.0</td>\n",
       "      <td>62.0</td>\n",
       "      <td>7.0</td>\n",
       "      <td>95.6</td>\n",
       "    </tr>\n",
       "    <tr>\n",
       "      <th>30001336.0</th>\n",
       "      <td>65.0</td>\n",
       "      <td>110.0</td>\n",
       "      <td>65.0</td>\n",
       "      <td>30.0</td>\n",
       "      <td>98.5</td>\n",
       "    </tr>\n",
       "    <tr>\n",
       "      <th>30001396.0</th>\n",
       "      <td>86.0</td>\n",
       "      <td>169.0</td>\n",
       "      <td>115.0</td>\n",
       "      <td>19.0</td>\n",
       "      <td>98.8</td>\n",
       "    </tr>\n",
       "    <tr>\n",
       "      <th>...</th>\n",
       "      <td>...</td>\n",
       "      <td>...</td>\n",
       "      <td>...</td>\n",
       "      <td>...</td>\n",
       "      <td>...</td>\n",
       "    </tr>\n",
       "    <tr>\n",
       "      <th>39999286.0</th>\n",
       "      <td>125.0</td>\n",
       "      <td>130.0</td>\n",
       "      <td>71.0</td>\n",
       "      <td>17.0</td>\n",
       "      <td>98.9</td>\n",
       "    </tr>\n",
       "    <tr>\n",
       "      <th>39999384.0</th>\n",
       "      <td>77.0</td>\n",
       "      <td>156.0</td>\n",
       "      <td>81.0</td>\n",
       "      <td>17.0</td>\n",
       "      <td>98.2</td>\n",
       "    </tr>\n",
       "    <tr>\n",
       "      <th>39999552.0</th>\n",
       "      <td>66.0</td>\n",
       "      <td>106.0</td>\n",
       "      <td>70.0</td>\n",
       "      <td>14.0</td>\n",
       "      <td>98.2</td>\n",
       "    </tr>\n",
       "    <tr>\n",
       "      <th>39999562.0</th>\n",
       "      <td>93.0</td>\n",
       "      <td>101.0</td>\n",
       "      <td>87.0</td>\n",
       "      <td>15.0</td>\n",
       "      <td>98.4</td>\n",
       "    </tr>\n",
       "    <tr>\n",
       "      <th>39999810.0</th>\n",
       "      <td>71.0</td>\n",
       "      <td>136.0</td>\n",
       "      <td>98.0</td>\n",
       "      <td>20.0</td>\n",
       "      <td>98.1</td>\n",
       "    </tr>\n",
       "  </tbody>\n",
       "</table>\n",
       "<p>53136 rows × 5 columns</p>\n",
       "</div>"
      ],
      "text/plain": [
       "itemid      heart_rate  bp_mean  bp_syst  resp_rate  temp_f\n",
       "stay_id                                                    \n",
       "30000153.0       104.0    113.0     84.0       18.0    99.1\n",
       "30000646.0       100.0    107.0     75.0       28.0    98.8\n",
       "30001148.0        80.0    102.0     62.0        7.0    95.6\n",
       "30001336.0        65.0    110.0     65.0       30.0    98.5\n",
       "30001396.0        86.0    169.0    115.0       19.0    98.8\n",
       "...                ...      ...      ...        ...     ...\n",
       "39999286.0       125.0    130.0     71.0       17.0    98.9\n",
       "39999384.0        77.0    156.0     81.0       17.0    98.2\n",
       "39999552.0        66.0    106.0     70.0       14.0    98.2\n",
       "39999562.0        93.0    101.0     87.0       15.0    98.4\n",
       "39999810.0        71.0    136.0     98.0       20.0    98.1\n",
       "\n",
       "[53136 rows x 5 columns]"
      ]
     },
     "execution_count": 15,
     "metadata": {},
     "output_type": "execute_result"
    }
   ],
   "source": [
    "chartevents_df_1ststay"
   ]
  },
  {
   "cell_type": "markdown",
   "id": "789da434",
   "metadata": {},
   "source": [
    "### Step 3: merge DataFrames\n",
    "\n",
    "New data wrangling concept: mutate. Pandas equivalent is `assign`. "
   ]
  },
  {
   "cell_type": "code",
   "execution_count": 16,
   "id": "006c49f0",
   "metadata": {},
   "outputs": [],
   "source": [
    "mimic_icu_cohort = (\n",
    "    icustays_df_1ststay.\n",
    "    # merge dataframes\n",
    "    merge(admissions_df, on=[\"subject_id\", \"hadm_id\"], how=\"left\").\n",
    "    merge(patients_df, on=[\"subject_id\"], how=\"left\").\n",
    "    merge(chartevents_df_1ststay, on=[\"stay_id\"], how=\"left\").\n",
    "    # age_intime is the age at the ICU stay intime\n",
    "    assign(age_intime = lambda df: \n",
    "           df[\"anchor_age\"] + df[\"intime\"].map(lambda x : x.year) - df[\"anchor_year\"]).\n",
    "    # whether the patient died within 30 days of ICU stay intime\n",
    "    assign(hadm_to_death = lambda df: \n",
    "           np.where(np.isnan(df[\"deathtime\"]), \n",
    "                    np.inf, \n",
    "                    (df[\"deathtime\"] - df[\"intime\"]).dt.total_seconds())).\n",
    "    assign(thirty_day_mort = lambda df: df[\"hadm_to_death\"] <= 2592000)   \n",
    ")"
   ]
  },
  {
   "cell_type": "code",
   "execution_count": 17,
   "id": "e2c386e8",
   "metadata": {},
   "outputs": [
    {
     "data": {
      "text/html": [
       "<div>\n",
       "<style scoped>\n",
       "    .dataframe tbody tr th:only-of-type {\n",
       "        vertical-align: middle;\n",
       "    }\n",
       "\n",
       "    .dataframe tbody tr th {\n",
       "        vertical-align: top;\n",
       "    }\n",
       "\n",
       "    .dataframe thead th {\n",
       "        text-align: right;\n",
       "    }\n",
       "</style>\n",
       "<table border=\"1\" class=\"dataframe\">\n",
       "  <thead>\n",
       "    <tr style=\"text-align: right;\">\n",
       "      <th></th>\n",
       "      <th>subject_id</th>\n",
       "      <th>hadm_id</th>\n",
       "      <th>stay_id</th>\n",
       "      <th>first_careunit</th>\n",
       "      <th>last_careunit</th>\n",
       "      <th>intime</th>\n",
       "      <th>outtime</th>\n",
       "      <th>los</th>\n",
       "      <th>admittime</th>\n",
       "      <th>dischtime</th>\n",
       "      <th>...</th>\n",
       "      <th>anchor_year_group</th>\n",
       "      <th>dod</th>\n",
       "      <th>heart_rate</th>\n",
       "      <th>bp_mean</th>\n",
       "      <th>bp_syst</th>\n",
       "      <th>resp_rate</th>\n",
       "      <th>temp_f</th>\n",
       "      <th>age_intime</th>\n",
       "      <th>hadm_to_death</th>\n",
       "      <th>thirty_day_mort</th>\n",
       "    </tr>\n",
       "  </thead>\n",
       "  <tbody>\n",
       "    <tr>\n",
       "      <th>0</th>\n",
       "      <td>10000032</td>\n",
       "      <td>29079034</td>\n",
       "      <td>39553978</td>\n",
       "      <td>Medical Intensive Care Unit (MICU)</td>\n",
       "      <td>Medical Intensive Care Unit (MICU)</td>\n",
       "      <td>2180-07-23 14:00:00</td>\n",
       "      <td>2180-07-23 23:50:47</td>\n",
       "      <td>0.410266</td>\n",
       "      <td>2180-07-23 12:35:00</td>\n",
       "      <td>2180-07-25 17:55:00</td>\n",
       "      <td>...</td>\n",
       "      <td>2014 - 2016</td>\n",
       "      <td>NaN</td>\n",
       "      <td>91.0</td>\n",
       "      <td>84.0</td>\n",
       "      <td>56.0</td>\n",
       "      <td>24.0</td>\n",
       "      <td>98.7</td>\n",
       "      <td>52</td>\n",
       "      <td>inf</td>\n",
       "      <td>False</td>\n",
       "    </tr>\n",
       "    <tr>\n",
       "      <th>1</th>\n",
       "      <td>10000980</td>\n",
       "      <td>26913865</td>\n",
       "      <td>39765666</td>\n",
       "      <td>Medical Intensive Care Unit (MICU)</td>\n",
       "      <td>Medical Intensive Care Unit (MICU)</td>\n",
       "      <td>2189-06-27 08:42:00</td>\n",
       "      <td>2189-06-27 20:38:27</td>\n",
       "      <td>0.497535</td>\n",
       "      <td>2189-06-27 07:38:00</td>\n",
       "      <td>2189-07-03 03:00:00</td>\n",
       "      <td>...</td>\n",
       "      <td>2008 - 2010</td>\n",
       "      <td>NaN</td>\n",
       "      <td>77.0</td>\n",
       "      <td>150.0</td>\n",
       "      <td>92.0</td>\n",
       "      <td>23.0</td>\n",
       "      <td>98.0</td>\n",
       "      <td>76</td>\n",
       "      <td>inf</td>\n",
       "      <td>False</td>\n",
       "    </tr>\n",
       "    <tr>\n",
       "      <th>2</th>\n",
       "      <td>10001217</td>\n",
       "      <td>24597018</td>\n",
       "      <td>37067082</td>\n",
       "      <td>Surgical Intensive Care Unit (SICU)</td>\n",
       "      <td>Surgical Intensive Care Unit (SICU)</td>\n",
       "      <td>2157-11-20 19:18:02</td>\n",
       "      <td>2157-11-21 22:08:00</td>\n",
       "      <td>1.118032</td>\n",
       "      <td>2157-11-18 22:56:00</td>\n",
       "      <td>2157-11-25 18:00:00</td>\n",
       "      <td>...</td>\n",
       "      <td>2011 - 2013</td>\n",
       "      <td>NaN</td>\n",
       "      <td>86.0</td>\n",
       "      <td>151.0</td>\n",
       "      <td>104.0</td>\n",
       "      <td>18.0</td>\n",
       "      <td>98.5</td>\n",
       "      <td>55</td>\n",
       "      <td>inf</td>\n",
       "      <td>False</td>\n",
       "    </tr>\n",
       "    <tr>\n",
       "      <th>3</th>\n",
       "      <td>10001725</td>\n",
       "      <td>25563031</td>\n",
       "      <td>31205490</td>\n",
       "      <td>Medical/Surgical Intensive Care Unit (MICU/SICU)</td>\n",
       "      <td>Medical/Surgical Intensive Care Unit (MICU/SICU)</td>\n",
       "      <td>2110-04-11 15:52:22</td>\n",
       "      <td>2110-04-12 23:59:56</td>\n",
       "      <td>1.338588</td>\n",
       "      <td>2110-04-11 15:08:00</td>\n",
       "      <td>2110-04-14 15:00:00</td>\n",
       "      <td>...</td>\n",
       "      <td>2011 - 2013</td>\n",
       "      <td>NaN</td>\n",
       "      <td>55.0</td>\n",
       "      <td>73.0</td>\n",
       "      <td>59.0</td>\n",
       "      <td>19.0</td>\n",
       "      <td>97.7</td>\n",
       "      <td>46</td>\n",
       "      <td>inf</td>\n",
       "      <td>False</td>\n",
       "    </tr>\n",
       "    <tr>\n",
       "      <th>4</th>\n",
       "      <td>10001884</td>\n",
       "      <td>26184834</td>\n",
       "      <td>37510196</td>\n",
       "      <td>Medical Intensive Care Unit (MICU)</td>\n",
       "      <td>Medical Intensive Care Unit (MICU)</td>\n",
       "      <td>2131-01-11 04:20:05</td>\n",
       "      <td>2131-01-20 08:27:30</td>\n",
       "      <td>9.171817</td>\n",
       "      <td>2131-01-07 20:39:00</td>\n",
       "      <td>2131-01-20 05:15:00</td>\n",
       "      <td>...</td>\n",
       "      <td>2008 - 2010</td>\n",
       "      <td>2131-01-20</td>\n",
       "      <td>38.0</td>\n",
       "      <td>180.0</td>\n",
       "      <td>46.0</td>\n",
       "      <td>10.0</td>\n",
       "      <td>98.1</td>\n",
       "      <td>77</td>\n",
       "      <td>780895.0</td>\n",
       "      <td>True</td>\n",
       "    </tr>\n",
       "    <tr>\n",
       "      <th>...</th>\n",
       "      <td>...</td>\n",
       "      <td>...</td>\n",
       "      <td>...</td>\n",
       "      <td>...</td>\n",
       "      <td>...</td>\n",
       "      <td>...</td>\n",
       "      <td>...</td>\n",
       "      <td>...</td>\n",
       "      <td>...</td>\n",
       "      <td>...</td>\n",
       "      <td>...</td>\n",
       "      <td>...</td>\n",
       "      <td>...</td>\n",
       "      <td>...</td>\n",
       "      <td>...</td>\n",
       "      <td>...</td>\n",
       "      <td>...</td>\n",
       "      <td>...</td>\n",
       "      <td>...</td>\n",
       "      <td>...</td>\n",
       "      <td>...</td>\n",
       "    </tr>\n",
       "    <tr>\n",
       "      <th>53145</th>\n",
       "      <td>19999442</td>\n",
       "      <td>26785317</td>\n",
       "      <td>32336619</td>\n",
       "      <td>Surgical Intensive Care Unit (SICU)</td>\n",
       "      <td>Surgical Intensive Care Unit (SICU)</td>\n",
       "      <td>2148-11-19 14:23:43</td>\n",
       "      <td>2148-11-26 13:12:15</td>\n",
       "      <td>6.950370</td>\n",
       "      <td>2148-11-19 10:00:00</td>\n",
       "      <td>2148-12-04 16:25:00</td>\n",
       "      <td>...</td>\n",
       "      <td>2008 - 2010</td>\n",
       "      <td>NaN</td>\n",
       "      <td>88.0</td>\n",
       "      <td>150.0</td>\n",
       "      <td>103.0</td>\n",
       "      <td>15.0</td>\n",
       "      <td>98.3</td>\n",
       "      <td>43</td>\n",
       "      <td>inf</td>\n",
       "      <td>False</td>\n",
       "    </tr>\n",
       "    <tr>\n",
       "      <th>53146</th>\n",
       "      <td>19999625</td>\n",
       "      <td>25304202</td>\n",
       "      <td>31070865</td>\n",
       "      <td>Medical/Surgical Intensive Care Unit (MICU/SICU)</td>\n",
       "      <td>Medical/Surgical Intensive Care Unit (MICU/SICU)</td>\n",
       "      <td>2139-10-10 19:18:00</td>\n",
       "      <td>2139-10-11 18:21:28</td>\n",
       "      <td>0.960741</td>\n",
       "      <td>2139-10-10 18:06:00</td>\n",
       "      <td>2139-10-16 03:30:00</td>\n",
       "      <td>...</td>\n",
       "      <td>2008 - 2010</td>\n",
       "      <td>NaN</td>\n",
       "      <td>96.0</td>\n",
       "      <td>152.0</td>\n",
       "      <td>91.0</td>\n",
       "      <td>19.0</td>\n",
       "      <td>98.9</td>\n",
       "      <td>82</td>\n",
       "      <td>inf</td>\n",
       "      <td>False</td>\n",
       "    </tr>\n",
       "    <tr>\n",
       "      <th>53147</th>\n",
       "      <td>19999828</td>\n",
       "      <td>25744818</td>\n",
       "      <td>36075953</td>\n",
       "      <td>Medical Intensive Care Unit (MICU)</td>\n",
       "      <td>Medical Intensive Care Unit (MICU)</td>\n",
       "      <td>2149-01-08 18:12:00</td>\n",
       "      <td>2149-01-10 13:11:02</td>\n",
       "      <td>1.790995</td>\n",
       "      <td>2149-01-08 16:44:00</td>\n",
       "      <td>2149-01-18 17:00:00</td>\n",
       "      <td>...</td>\n",
       "      <td>2017 - 2019</td>\n",
       "      <td>NaN</td>\n",
       "      <td>104.0</td>\n",
       "      <td>113.0</td>\n",
       "      <td>96.0</td>\n",
       "      <td>16.0</td>\n",
       "      <td>98.7</td>\n",
       "      <td>48</td>\n",
       "      <td>inf</td>\n",
       "      <td>False</td>\n",
       "    </tr>\n",
       "    <tr>\n",
       "      <th>53148</th>\n",
       "      <td>19999840</td>\n",
       "      <td>21033226</td>\n",
       "      <td>38978960</td>\n",
       "      <td>Trauma SICU (TSICU)</td>\n",
       "      <td>Surgical Intensive Care Unit (SICU)</td>\n",
       "      <td>2164-09-12 09:26:28</td>\n",
       "      <td>2164-09-17 16:35:15</td>\n",
       "      <td>5.297766</td>\n",
       "      <td>2164-09-10 13:47:00</td>\n",
       "      <td>2164-09-17 13:42:00</td>\n",
       "      <td>...</td>\n",
       "      <td>2008 - 2010</td>\n",
       "      <td>2164-09-17</td>\n",
       "      <td>100.0</td>\n",
       "      <td>114.0</td>\n",
       "      <td>76.0</td>\n",
       "      <td>16.0</td>\n",
       "      <td>99.3</td>\n",
       "      <td>58</td>\n",
       "      <td>447332.0</td>\n",
       "      <td>True</td>\n",
       "    </tr>\n",
       "    <tr>\n",
       "      <th>53149</th>\n",
       "      <td>19999987</td>\n",
       "      <td>23865745</td>\n",
       "      <td>36195440</td>\n",
       "      <td>Trauma SICU (TSICU)</td>\n",
       "      <td>Trauma SICU (TSICU)</td>\n",
       "      <td>2145-11-02 22:59:00</td>\n",
       "      <td>2145-11-04 21:29:30</td>\n",
       "      <td>1.937847</td>\n",
       "      <td>2145-11-02 21:38:00</td>\n",
       "      <td>2145-11-11 12:57:00</td>\n",
       "      <td>...</td>\n",
       "      <td>2011 - 2013</td>\n",
       "      <td>NaN</td>\n",
       "      <td>94.0</td>\n",
       "      <td>115.0</td>\n",
       "      <td>81.0</td>\n",
       "      <td>21.0</td>\n",
       "      <td>99.6</td>\n",
       "      <td>57</td>\n",
       "      <td>inf</td>\n",
       "      <td>False</td>\n",
       "    </tr>\n",
       "  </tbody>\n",
       "</table>\n",
       "<p>53150 rows × 34 columns</p>\n",
       "</div>"
      ],
      "text/plain": [
       "       subject_id   hadm_id   stay_id  \\\n",
       "0        10000032  29079034  39553978   \n",
       "1        10000980  26913865  39765666   \n",
       "2        10001217  24597018  37067082   \n",
       "3        10001725  25563031  31205490   \n",
       "4        10001884  26184834  37510196   \n",
       "...           ...       ...       ...   \n",
       "53145    19999442  26785317  32336619   \n",
       "53146    19999625  25304202  31070865   \n",
       "53147    19999828  25744818  36075953   \n",
       "53148    19999840  21033226  38978960   \n",
       "53149    19999987  23865745  36195440   \n",
       "\n",
       "                                         first_careunit  \\\n",
       "0                    Medical Intensive Care Unit (MICU)   \n",
       "1                    Medical Intensive Care Unit (MICU)   \n",
       "2                   Surgical Intensive Care Unit (SICU)   \n",
       "3      Medical/Surgical Intensive Care Unit (MICU/SICU)   \n",
       "4                    Medical Intensive Care Unit (MICU)   \n",
       "...                                                 ...   \n",
       "53145               Surgical Intensive Care Unit (SICU)   \n",
       "53146  Medical/Surgical Intensive Care Unit (MICU/SICU)   \n",
       "53147                Medical Intensive Care Unit (MICU)   \n",
       "53148                               Trauma SICU (TSICU)   \n",
       "53149                               Trauma SICU (TSICU)   \n",
       "\n",
       "                                          last_careunit              intime  \\\n",
       "0                    Medical Intensive Care Unit (MICU) 2180-07-23 14:00:00   \n",
       "1                    Medical Intensive Care Unit (MICU) 2189-06-27 08:42:00   \n",
       "2                   Surgical Intensive Care Unit (SICU) 2157-11-20 19:18:02   \n",
       "3      Medical/Surgical Intensive Care Unit (MICU/SICU) 2110-04-11 15:52:22   \n",
       "4                    Medical Intensive Care Unit (MICU) 2131-01-11 04:20:05   \n",
       "...                                                 ...                 ...   \n",
       "53145               Surgical Intensive Care Unit (SICU) 2148-11-19 14:23:43   \n",
       "53146  Medical/Surgical Intensive Care Unit (MICU/SICU) 2139-10-10 19:18:00   \n",
       "53147                Medical Intensive Care Unit (MICU) 2149-01-08 18:12:00   \n",
       "53148               Surgical Intensive Care Unit (SICU) 2164-09-12 09:26:28   \n",
       "53149                               Trauma SICU (TSICU) 2145-11-02 22:59:00   \n",
       "\n",
       "                  outtime       los           admittime           dischtime  \\\n",
       "0     2180-07-23 23:50:47  0.410266 2180-07-23 12:35:00 2180-07-25 17:55:00   \n",
       "1     2189-06-27 20:38:27  0.497535 2189-06-27 07:38:00 2189-07-03 03:00:00   \n",
       "2     2157-11-21 22:08:00  1.118032 2157-11-18 22:56:00 2157-11-25 18:00:00   \n",
       "3     2110-04-12 23:59:56  1.338588 2110-04-11 15:08:00 2110-04-14 15:00:00   \n",
       "4     2131-01-20 08:27:30  9.171817 2131-01-07 20:39:00 2131-01-20 05:15:00   \n",
       "...                   ...       ...                 ...                 ...   \n",
       "53145 2148-11-26 13:12:15  6.950370 2148-11-19 10:00:00 2148-12-04 16:25:00   \n",
       "53146 2139-10-11 18:21:28  0.960741 2139-10-10 18:06:00 2139-10-16 03:30:00   \n",
       "53147 2149-01-10 13:11:02  1.790995 2149-01-08 16:44:00 2149-01-18 17:00:00   \n",
       "53148 2164-09-17 16:35:15  5.297766 2164-09-10 13:47:00 2164-09-17 13:42:00   \n",
       "53149 2145-11-04 21:29:30  1.937847 2145-11-02 21:38:00 2145-11-11 12:57:00   \n",
       "\n",
       "       ... anchor_year_group         dod heart_rate bp_mean bp_syst resp_rate  \\\n",
       "0      ...       2014 - 2016         NaN       91.0    84.0    56.0      24.0   \n",
       "1      ...       2008 - 2010         NaN       77.0   150.0    92.0      23.0   \n",
       "2      ...       2011 - 2013         NaN       86.0   151.0   104.0      18.0   \n",
       "3      ...       2011 - 2013         NaN       55.0    73.0    59.0      19.0   \n",
       "4      ...       2008 - 2010  2131-01-20       38.0   180.0    46.0      10.0   \n",
       "...    ...               ...         ...        ...     ...     ...       ...   \n",
       "53145  ...       2008 - 2010         NaN       88.0   150.0   103.0      15.0   \n",
       "53146  ...       2008 - 2010         NaN       96.0   152.0    91.0      19.0   \n",
       "53147  ...       2017 - 2019         NaN      104.0   113.0    96.0      16.0   \n",
       "53148  ...       2008 - 2010  2164-09-17      100.0   114.0    76.0      16.0   \n",
       "53149  ...       2011 - 2013         NaN       94.0   115.0    81.0      21.0   \n",
       "\n",
       "      temp_f age_intime hadm_to_death thirty_day_mort  \n",
       "0       98.7         52           inf           False  \n",
       "1       98.0         76           inf           False  \n",
       "2       98.5         55           inf           False  \n",
       "3       97.7         46           inf           False  \n",
       "4       98.1         77      780895.0            True  \n",
       "...      ...        ...           ...             ...  \n",
       "53145   98.3         43           inf           False  \n",
       "53146   98.9         82           inf           False  \n",
       "53147   98.7         48           inf           False  \n",
       "53148   99.3         58      447332.0            True  \n",
       "53149   99.6         57           inf           False  \n",
       "\n",
       "[53150 rows x 34 columns]"
      ]
     },
     "execution_count": 17,
     "metadata": {},
     "output_type": "execute_result"
    }
   ],
   "source": [
    "mimic_icu_cohort"
   ]
  },
  {
   "cell_type": "markdown",
   "id": "6f77efa3",
   "metadata": {},
   "source": [
    "## Data visualization\n",
    "\n",
    "\n",
    "Remember we want to model: \n",
    "\n",
    "thirty_day_mort ~ first_careunit + age_intime + gender + ethnicity + heart_rate + bp_mean + bp_syst + temp_f + resp_rate\n",
    "\n",
    "Let's start with a numerical summary of variables of interest.\n",
    "\n",
    "For numerical column, we can obtain mean, standard deviation, and quartiles using the method `describe()`. For a categorical column, we obtain number of unique values, value with the most appearance, and its frequency. "
   ]
  },
  {
   "cell_type": "code",
   "execution_count": 18,
   "id": "8e05a328",
   "metadata": {},
   "outputs": [
    {
     "data": {
      "text/html": [
       "<div>\n",
       "<style scoped>\n",
       "    .dataframe tbody tr th:only-of-type {\n",
       "        vertical-align: middle;\n",
       "    }\n",
       "\n",
       "    .dataframe tbody tr th {\n",
       "        vertical-align: top;\n",
       "    }\n",
       "\n",
       "    .dataframe thead th {\n",
       "        text-align: right;\n",
       "    }\n",
       "</style>\n",
       "<table border=\"1\" class=\"dataframe\">\n",
       "  <thead>\n",
       "    <tr style=\"text-align: right;\">\n",
       "      <th></th>\n",
       "      <th>first_careunit</th>\n",
       "      <th>gender</th>\n",
       "      <th>ethnicity</th>\n",
       "      <th>age_intime</th>\n",
       "      <th>heart_rate</th>\n",
       "      <th>bp_mean</th>\n",
       "      <th>bp_syst</th>\n",
       "      <th>temp_f</th>\n",
       "      <th>resp_rate</th>\n",
       "    </tr>\n",
       "  </thead>\n",
       "  <tbody>\n",
       "    <tr>\n",
       "      <th>count</th>\n",
       "      <td>53150</td>\n",
       "      <td>53150</td>\n",
       "      <td>53150</td>\n",
       "      <td>53150.000000</td>\n",
       "      <td>53135.000000</td>\n",
       "      <td>52467.000000</td>\n",
       "      <td>52446.000000</td>\n",
       "      <td>52196.000000</td>\n",
       "      <td>53088.000000</td>\n",
       "    </tr>\n",
       "    <tr>\n",
       "      <th>unique</th>\n",
       "      <td>9</td>\n",
       "      <td>2</td>\n",
       "      <td>8</td>\n",
       "      <td>NaN</td>\n",
       "      <td>NaN</td>\n",
       "      <td>NaN</td>\n",
       "      <td>NaN</td>\n",
       "      <td>NaN</td>\n",
       "      <td>NaN</td>\n",
       "    </tr>\n",
       "    <tr>\n",
       "      <th>top</th>\n",
       "      <td>Medical Intensive Care Unit (MICU)</td>\n",
       "      <td>M</td>\n",
       "      <td>WHITE</td>\n",
       "      <td>NaN</td>\n",
       "      <td>NaN</td>\n",
       "      <td>NaN</td>\n",
       "      <td>NaN</td>\n",
       "      <td>NaN</td>\n",
       "      <td>NaN</td>\n",
       "    </tr>\n",
       "    <tr>\n",
       "      <th>freq</th>\n",
       "      <td>10233</td>\n",
       "      <td>29797</td>\n",
       "      <td>35668</td>\n",
       "      <td>NaN</td>\n",
       "      <td>NaN</td>\n",
       "      <td>NaN</td>\n",
       "      <td>NaN</td>\n",
       "      <td>NaN</td>\n",
       "      <td>NaN</td>\n",
       "    </tr>\n",
       "    <tr>\n",
       "      <th>mean</th>\n",
       "      <td>NaN</td>\n",
       "      <td>NaN</td>\n",
       "      <td>NaN</td>\n",
       "      <td>64.470461</td>\n",
       "      <td>87.466660</td>\n",
       "      <td>123.793718</td>\n",
       "      <td>87.420261</td>\n",
       "      <td>98.034339</td>\n",
       "      <td>18.686257</td>\n",
       "    </tr>\n",
       "    <tr>\n",
       "      <th>std</th>\n",
       "      <td>NaN</td>\n",
       "      <td>NaN</td>\n",
       "      <td>NaN</td>\n",
       "      <td>17.315514</td>\n",
       "      <td>20.170132</td>\n",
       "      <td>58.321131</td>\n",
       "      <td>806.055322</td>\n",
       "      <td>3.345850</td>\n",
       "      <td>6.211814</td>\n",
       "    </tr>\n",
       "    <tr>\n",
       "      <th>min</th>\n",
       "      <td>NaN</td>\n",
       "      <td>NaN</td>\n",
       "      <td>NaN</td>\n",
       "      <td>18.000000</td>\n",
       "      <td>0.000000</td>\n",
       "      <td>0.000000</td>\n",
       "      <td>0.000000</td>\n",
       "      <td>0.000000</td>\n",
       "      <td>0.000000</td>\n",
       "    </tr>\n",
       "    <tr>\n",
       "      <th>25%</th>\n",
       "      <td>NaN</td>\n",
       "      <td>NaN</td>\n",
       "      <td>NaN</td>\n",
       "      <td>54.000000</td>\n",
       "      <td>74.000000</td>\n",
       "      <td>106.000000</td>\n",
       "      <td>70.000000</td>\n",
       "      <td>97.600000</td>\n",
       "      <td>15.000000</td>\n",
       "    </tr>\n",
       "    <tr>\n",
       "      <th>50%</th>\n",
       "      <td>NaN</td>\n",
       "      <td>NaN</td>\n",
       "      <td>NaN</td>\n",
       "      <td>66.000000</td>\n",
       "      <td>85.000000</td>\n",
       "      <td>122.000000</td>\n",
       "      <td>81.000000</td>\n",
       "      <td>98.100000</td>\n",
       "      <td>18.000000</td>\n",
       "    </tr>\n",
       "    <tr>\n",
       "      <th>75%</th>\n",
       "      <td>NaN</td>\n",
       "      <td>NaN</td>\n",
       "      <td>NaN</td>\n",
       "      <td>78.000000</td>\n",
       "      <td>99.000000</td>\n",
       "      <td>139.000000</td>\n",
       "      <td>93.000000</td>\n",
       "      <td>98.700000</td>\n",
       "      <td>22.000000</td>\n",
       "    </tr>\n",
       "    <tr>\n",
       "      <th>max</th>\n",
       "      <td>NaN</td>\n",
       "      <td>NaN</td>\n",
       "      <td>NaN</td>\n",
       "      <td>102.000000</td>\n",
       "      <td>941.000000</td>\n",
       "      <td>12262.000000</td>\n",
       "      <td>140119.000000</td>\n",
       "      <td>106.000000</td>\n",
       "      <td>180.000000</td>\n",
       "    </tr>\n",
       "  </tbody>\n",
       "</table>\n",
       "</div>"
      ],
      "text/plain": [
       "                            first_careunit gender ethnicity    age_intime  \\\n",
       "count                                53150  53150     53150  53150.000000   \n",
       "unique                                   9      2         8           NaN   \n",
       "top     Medical Intensive Care Unit (MICU)      M     WHITE           NaN   \n",
       "freq                                 10233  29797     35668           NaN   \n",
       "mean                                   NaN    NaN       NaN     64.470461   \n",
       "std                                    NaN    NaN       NaN     17.315514   \n",
       "min                                    NaN    NaN       NaN     18.000000   \n",
       "25%                                    NaN    NaN       NaN     54.000000   \n",
       "50%                                    NaN    NaN       NaN     66.000000   \n",
       "75%                                    NaN    NaN       NaN     78.000000   \n",
       "max                                    NaN    NaN       NaN    102.000000   \n",
       "\n",
       "          heart_rate       bp_mean        bp_syst        temp_f     resp_rate  \n",
       "count   53135.000000  52467.000000   52446.000000  52196.000000  53088.000000  \n",
       "unique           NaN           NaN            NaN           NaN           NaN  \n",
       "top              NaN           NaN            NaN           NaN           NaN  \n",
       "freq             NaN           NaN            NaN           NaN           NaN  \n",
       "mean       87.466660    123.793718      87.420261     98.034339     18.686257  \n",
       "std        20.170132     58.321131     806.055322      3.345850      6.211814  \n",
       "min         0.000000      0.000000       0.000000      0.000000      0.000000  \n",
       "25%        74.000000    106.000000      70.000000     97.600000     15.000000  \n",
       "50%        85.000000    122.000000      81.000000     98.100000     18.000000  \n",
       "75%        99.000000    139.000000      93.000000     98.700000     22.000000  \n",
       "max       941.000000  12262.000000  140119.000000    106.000000    180.000000  "
      ]
     },
     "execution_count": 18,
     "metadata": {},
     "output_type": "execute_result"
    }
   ],
   "source": [
    "(\n",
    "    mimic_icu_cohort[[\"first_careunit\", \n",
    "        \"gender\", \n",
    "        \"ethnicity\", \n",
    "        \"age_intime\", \n",
    "        \"heart_rate\", \n",
    "        \"bp_mean\", \n",
    "        \"bp_syst\", \n",
    "        \"temp_f\", \n",
    "        \"resp_rate\"]].\n",
    "    describe(include=\"all\")\n",
    ")\n"
   ]
  },
  {
   "cell_type": "markdown",
   "id": "abc4ddcd",
   "metadata": {},
   "source": [
    "Do you spot anything unusual?"
   ]
  },
  {
   "cell_type": "markdown",
   "id": "fc85b3b4",
   "metadata": {},
   "source": [
    "To obtain counts of each value for categorical column, we use `value_counts()` method."
   ]
  },
  {
   "cell_type": "code",
   "execution_count": 19,
   "id": "5b9e5899",
   "metadata": {},
   "outputs": [
    {
     "data": {
      "text/plain": [
       "Medical Intensive Care Unit (MICU)                  10233\n",
       "Cardiac Vascular Intensive Care Unit (CVICU)         9450\n",
       "Medical/Surgical Intensive Care Unit (MICU/SICU)     8833\n",
       "Surgical Intensive Care Unit (SICU)                  8249\n",
       "Trauma SICU (TSICU)                                  6965\n",
       "Coronary Care Unit (CCU)                             6100\n",
       "Neuro Surgical Intensive Care Unit (Neuro SICU)      1381\n",
       "Neuro Intermediate                                   1312\n",
       "Neuro Stepdown                                        627\n",
       "Name: first_careunit, dtype: int64"
      ]
     },
     "execution_count": 19,
     "metadata": {},
     "output_type": "execute_result"
    }
   ],
   "source": [
    "mimic_icu_cohort[\"first_careunit\"].value_counts()"
   ]
  },
  {
   "cell_type": "code",
   "execution_count": 20,
   "id": "1ba82f5c",
   "metadata": {},
   "outputs": [
    {
     "data": {
      "text/plain": [
       "M    29797\n",
       "F    23353\n",
       "Name: gender, dtype: int64"
      ]
     },
     "execution_count": 20,
     "metadata": {},
     "output_type": "execute_result"
    }
   ],
   "source": [
    "mimic_icu_cohort[\"gender\"].value_counts()"
   ]
  },
  {
   "cell_type": "code",
   "execution_count": 21,
   "id": "46bf2337",
   "metadata": {},
   "outputs": [
    {
     "data": {
      "text/plain": [
       "WHITE                            35668\n",
       "UNKNOWN                           5827\n",
       "BLACK/AFRICAN AMERICAN            4874\n",
       "OTHER                             2537\n",
       "HISPANIC/LATINO                   1827\n",
       "ASIAN                             1564\n",
       "UNABLE TO OBTAIN                   759\n",
       "AMERICAN INDIAN/ALASKA NATIVE       94\n",
       "Name: ethnicity, dtype: int64"
      ]
     },
     "execution_count": 21,
     "metadata": {},
     "output_type": "execute_result"
    }
   ],
   "source": [
    "mimic_icu_cohort[\"ethnicity\"].value_counts()"
   ]
  },
  {
   "cell_type": "markdown",
   "id": "1d7d115c",
   "metadata": {},
   "source": [
    "### Univariate summaries"
   ]
  },
  {
   "cell_type": "markdown",
   "id": "4abf1436",
   "metadata": {},
   "source": [
    "Before we start, let's import the `seaborn` package for styling the figures a little bit (looking like ggplot2). This package is for statistical data visualization."
   ]
  },
  {
   "cell_type": "code",
   "execution_count": 22,
   "id": "250f373b",
   "metadata": {},
   "outputs": [],
   "source": [
    "import seaborn as sns\n",
    "sns.set()"
   ]
  },
  {
   "cell_type": "markdown",
   "id": "70d39c19",
   "metadata": {},
   "source": [
    "Bar plot of `first_careunit`"
   ]
  },
  {
   "cell_type": "code",
   "execution_count": 23,
   "id": "fc0e306e",
   "metadata": {},
   "outputs": [
    {
     "data": {
      "text/plain": [
       "<AxesSubplot:>"
      ]
     },
     "execution_count": 23,
     "metadata": {},
     "output_type": "execute_result"
    },
    {
     "data": {
      "image/png": "[encoded data removed]",
      "text/plain": [
       "<Figure size 432x288 with 1 Axes>"
      ]
     },
     "metadata": {},
     "output_type": "display_data"
    }
   ],
   "source": [
    "mimic_icu_cohort[\"first_careunit\"].value_counts(sort=False).plot.bar()"
   ]
  },
  {
   "cell_type": "code",
   "execution_count": 24,
   "id": "64807bae",
   "metadata": {},
   "outputs": [
    {
     "data": {
      "text/plain": [
       "<AxesSubplot:ylabel='Frequency'>"
      ]
     },
     "execution_count": 24,
     "metadata": {},
     "output_type": "execute_result"
    },
    {
     "data": {
      "image/png": "[encoded data removed]",
      "text/plain": [
       "<Figure size 432x288 with 1 Axes>"
      ]
     },
     "metadata": {},
     "output_type": "display_data"
    }
   ],
   "source": [
    "mimic_icu_cohort[\"age_intime\"].plot.hist()"
   ]
  },
  {
   "cell_type": "code",
   "execution_count": 25,
   "id": "dcfd4d7c",
   "metadata": {},
   "outputs": [
    {
     "data": {
      "text/plain": [
       "<AxesSubplot:>"
      ]
     },
     "execution_count": 25,
     "metadata": {},
     "output_type": "execute_result"
    },
    {
     "data": {
      "image/png": "[encoded data removed]",
      "text/plain": [
       "<Figure size 432x288 with 1 Axes>"
      ]
     },
     "metadata": {},
     "output_type": "display_data"
    }
   ],
   "source": [
    "mimic_icu_cohort[\"age_intime\"].plot.box()"
   ]
  },
  {
   "cell_type": "markdown",
   "id": "adff8023",
   "metadata": {},
   "source": [
    "Histogram and boxplot of `age_intime`"
   ]
  },
  {
   "cell_type": "markdown",
   "id": "58a337bf",
   "metadata": {},
   "source": [
    "#### Exercises\n",
    "\n",
    "1. Summarize discrete variables: `gender`, `ethnicity`.  \n",
    "2. Summarize continuous variables: `heart_rate`, `bp_mean`, `bp_syst`, `temp_f`, `resp_rate`.\n",
    "3. Is there anything unusual about `temp_f`?"
   ]
  },
  {
   "cell_type": "markdown",
   "id": "13fb0147",
   "metadata": {},
   "source": [
    "### Bivariate summaries"
   ]
  },
  {
   "cell_type": "markdown",
   "id": "ef10fa93",
   "metadata": {},
   "source": [
    "Tally of `thirty_day_mort` vs `first_careunit`. \n",
    "\n",
    "We need to be a little more verbose for plotting frequencies in stacked barplot in Python. "
   ]
  },
  {
   "cell_type": "code",
   "execution_count": 26,
   "id": "9beee688",
   "metadata": {},
   "outputs": [
    {
     "data": {
      "text/plain": [
       "<AxesSubplot:xlabel='first_careunit'>"
      ]
     },
     "execution_count": 26,
     "metadata": {},
     "output_type": "execute_result"
    },
    {
     "data": {
      "image/png": "[encoded data removed]",
      "text/plain": [
       "<Figure size 432x288 with 1 Axes>"
      ]
     },
     "metadata": {},
     "output_type": "display_data"
    }
   ],
   "source": [
    "(mimic_icu_cohort.\n",
    "     groupby(\"first_careunit\")[\"thirty_day_mort\"].value_counts().\n",
    "     unstack(\"thirty_day_mort\").iloc[:, ::-1]. # reversing column order to make True come first\n",
    " plot.bar(stacked=True)\n",
    ")"
   ]
  },
  {
   "cell_type": "code",
   "execution_count": 27,
   "id": "f718e73d",
   "metadata": {},
   "outputs": [
    {
     "data": {
      "text/plain": [
       "<AxesSubplot:xlabel='first_careunit'>"
      ]
     },
     "execution_count": 27,
     "metadata": {},
     "output_type": "execute_result"
    },
    {
     "data": {
      "image/png": "[encoded data removed]",
      "text/plain": [
       "<Figure size 432x288 with 1 Axes>"
      ]
     },
     "metadata": {},
     "output_type": "display_data"
    }
   ],
   "source": [
    "(mimic_icu_cohort.\n",
    "     groupby(\"first_careunit\")[\"thirty_day_mort\"].value_counts(normalize=True).\n",
    "     unstack(\"thirty_day_mort\").iloc[:, ::-1].\n",
    "     plot.bar(stacked=True)\n",
    ")"
   ]
  },
  {
   "cell_type": "markdown",
   "id": "fb9d472c",
   "metadata": {},
   "source": [
    "Tally of `thirty_day_mort` vs `gender`"
   ]
  },
  {
   "cell_type": "code",
   "execution_count": 28,
   "id": "35cfec00",
   "metadata": {},
   "outputs": [
    {
     "data": {
      "text/plain": [
       "<AxesSubplot:xlabel='gender'>"
      ]
     },
     "execution_count": 28,
     "metadata": {},
     "output_type": "execute_result"
    },
    {
     "data": {
      "image/png": "[encoded data removed]",
      "text/plain": [
       "<Figure size 432x288 with 1 Axes>"
      ]
     },
     "metadata": {},
     "output_type": "display_data"
    }
   ],
   "source": [
    "(mimic_icu_cohort.\n",
    "     groupby(\"gender\")[\"thirty_day_mort\"].value_counts(normalize=False).\n",
    "     unstack(\"thirty_day_mort\").iloc[:, ::-1].\n",
    "     plot.bar(stacked=True)\n",
    ")"
   ]
  },
  {
   "cell_type": "code",
   "execution_count": 29,
   "id": "7ecbb45f",
   "metadata": {},
   "outputs": [
    {
     "data": {
      "text/plain": [
       "<AxesSubplot:xlabel='gender'>"
      ]
     },
     "execution_count": 29,
     "metadata": {},
     "output_type": "execute_result"
    },
    {
     "data": {
      "image/png": "[encoded data removed]",
      "text/plain": [
       "<Figure size 432x288 with 1 Axes>"
      ]
     },
     "metadata": {},
     "output_type": "display_data"
    }
   ],
   "source": [
    "(mimic_icu_cohort.\n",
    "     groupby(\"gender\")[\"thirty_day_mort\"].value_counts(normalize=True).\n",
    "     unstack(\"thirty_day_mort\").iloc[:, ::-1].\n",
    "     plot.bar(stacked=True)\n",
    ")"
   ]
  },
  {
   "cell_type": "code",
   "execution_count": 30,
   "id": "5f18642a",
   "metadata": {},
   "outputs": [
    {
     "data": {
      "text/html": [
       "<div>\n",
       "<style scoped>\n",
       "    .dataframe tbody tr th:only-of-type {\n",
       "        vertical-align: middle;\n",
       "    }\n",
       "\n",
       "    .dataframe tbody tr th {\n",
       "        vertical-align: top;\n",
       "    }\n",
       "\n",
       "    .dataframe thead th {\n",
       "        text-align: right;\n",
       "    }\n",
       "</style>\n",
       "<table border=\"1\" class=\"dataframe\">\n",
       "  <thead>\n",
       "    <tr style=\"text-align: right;\">\n",
       "      <th>thirty_day_mort</th>\n",
       "      <th>False</th>\n",
       "      <th>True</th>\n",
       "    </tr>\n",
       "    <tr>\n",
       "      <th>gender</th>\n",
       "      <th></th>\n",
       "      <th></th>\n",
       "    </tr>\n",
       "  </thead>\n",
       "  <tbody>\n",
       "    <tr>\n",
       "      <th>F</th>\n",
       "      <td>0.895088</td>\n",
       "      <td>0.104912</td>\n",
       "    </tr>\n",
       "    <tr>\n",
       "      <th>M</th>\n",
       "      <td>0.904420</td>\n",
       "      <td>0.095580</td>\n",
       "    </tr>\n",
       "  </tbody>\n",
       "</table>\n",
       "</div>"
      ],
      "text/plain": [
       "thirty_day_mort     False      True\n",
       "gender                             \n",
       "F                0.895088  0.104912\n",
       "M                0.904420  0.095580"
      ]
     },
     "execution_count": 30,
     "metadata": {},
     "output_type": "execute_result"
    }
   ],
   "source": [
    "mimic_icu_cohort.groupby(\"gender\")[\"thirty_day_mort\"].value_counts(normalize=True).unstack(\"thirty_day_mort\")"
   ]
  },
  {
   "cell_type": "markdown",
   "id": "cb607182",
   "metadata": {},
   "source": [
    "#### Exercises\n",
    "\n",
    "1. Graphical summaries of `thirty_day_mort` vs other predictors."
   ]
  },
  {
   "cell_type": "markdown",
   "id": "54b81545-8b43-4d5b-9954-4391b3a09b09",
   "metadata": {},
   "source": [
    "## Pros and Cons of Python for Data Science\n",
    "\n",
    "\n",
    "__Pros__: \n",
    "- General purpose $\\rightarrow$ can directly use the data analysis result to different disciplines\n",
    "- Wide user base $\\rightarrow$ rich package ecosystem\n",
    "- Readable and fast\n",
    "\n",
    "__Cons__: \n",
    "- Less statistical analysis packages\n",
    "- Libraries may be more hard to understand\n",
    "- Visualization is more convoluted than R"
   ]
  }
 ],
 "metadata": {
  "kernelspec": {
   "display_name": "Python 3 (ipykernel)",
   "language": "python",
   "name": "python3"
  },
  "language_info": {
   "codemirror_mode": {
    "name": "ipython",
    "version": 3
   },
   "file_extension": ".py",
   "mimetype": "text/x-python",
   "name": "python",
   "nbconvert_exporter": "python",
   "pygments_lexer": "ipython3",
   "version": "3.9.7"
  }
 },
 "nbformat": 4,
 "nbformat_minor": 5
}
