{
 "cells": [
  {
   "cell_type": "markdown",
   "id": "c2f58935",
   "metadata": {},
   "source": [
    "# GeneticsMakie.jl"
   ]
  },
  {
   "cell_type": "code",
   "execution_count": 1,
   "id": "d1c832c9",
   "metadata": {},
   "outputs": [
    {
     "name": "stdout",
     "output_type": "stream",
     "text": [
      "Julia Version 1.7.0\n",
      "Commit 3bf9d17731 (2021-11-30 12:12 UTC)\n",
      "Platform Info:\n",
      "  OS: macOS (x86_64-apple-darwin19.5.0)\n",
      "  CPU: Intel(R) Core(TM) i9-9880H CPU @ 2.30GHz\n",
      "  WORD_SIZE: 64\n",
      "  LIBM: libopenlibm\n",
      "  LLVM: libLLVM-12.0.1 (ORCJIT, skylake)\n"
     ]
    }
   ],
   "source": [
    "versioninfo()"
   ]
  },
  {
   "cell_type": "markdown",
   "id": "bfdc2842",
   "metadata": {},
   "source": [
    "# Why Makie.jl?"
   ]
  },
  {
   "cell_type": "markdown",
   "id": "45158d6a",
   "metadata": {},
   "source": [
    "### *1. Plotting millions of data points is easy*\n",
    "\n",
    "   <p align=\"center\">\n",
    "   <img src=\"./MHC-LD.png\" width=\"400\">\n",
    "   </p>\n",
    "   \n",
    "*LD structure for ~66,000 SNPs in MHC region → ≈2 billion unique data points*"
   ]
  },
  {
   "cell_type": "markdown",
   "id": "5cf8a2f4",
   "metadata": {},
   "source": [
    "### *2. Plotting figures with complex layouts is easy*\n",
    "   <p align=\"center\">\n",
    "   <img src=\"./complex-layout.png\" width=\"600\">\n",
    "   </p>\n",
    "   \n",
    "*Raw publication-quality figure using Makie.jl's default layout tools w/o further modifications*\n",
    "\n",
    "### Looks interesting? Check out Makie.jl [documentation](https://makie.juliaplots.org/stable/)!"
   ]
  },
  {
   "cell_type": "markdown",
   "id": "1701cec8",
   "metadata": {},
   "source": [
    "# Why GeneticsMakie.jl?"
   ]
  },
  {
   "cell_type": "markdown",
   "id": "91ac81a4",
   "metadata": {},
   "source": [
    "+ The purpose of GeneticsMakie.jl is to facilitate visualization and interpretation of genetic association results\n",
    "+ This is achieved by visualizing $\\geq 100$s of genetic and genomic data simultaneously\n",
    "+ GeneticsMakie.jl is supposed to work with other OpenMendel and Julia Data Science packages"
   ]
  },
  {
   "cell_type": "markdown",
   "id": "d85ef8a5",
   "metadata": {},
   "source": [
    "### Example phenome-scale LocusZoom plots\n",
    "   <p align=\"center\">\n",
    "   <img src=\"./GRIN2A-locuszoom.png\" width=\"800\">\n",
    "   </p>\n",
    "   \n",
    "*GRIN2A is a high-confidence schizophrenia risk gene*\n",
    "\n",
    "   <p align=\"center\">\n",
    "   <img src=\"./MHC-locuszoom.png\" width=\"800\">\n",
    "   </p>\n",
    "\n",
    "*MHC region is one of the most pleiotropic regions in the human genome*\n",
    "\n",
    "### Looks intriguing? Check out GeneticsMakie.jl [documentation](https://minsookim.info/GeneticsMakie.jl/dev/)!"
   ]
  },
  {
   "cell_type": "markdown",
   "id": "48ed5891",
   "metadata": {},
   "source": [
    "# Example code for ADAMTSL3 locus in inguinal hernia"
   ]
  },
  {
   "cell_type": "markdown",
   "id": "2a58697f",
   "metadata": {},
   "source": [
    "   <p align=\"center\">\n",
    "   <img src=\"./hernia.png\" width=\"600\">\n",
    "   </p>"
   ]
  },
  {
   "cell_type": "markdown",
   "id": "1c8d37c3",
   "metadata": {},
   "source": [
    "Visualizing the backbone of a LocusZoom plot requires genetic association data, gene annotation data, and LD reference panel. "
   ]
  },
  {
   "cell_type": "code",
   "execution_count": 2,
   "id": "45dfa69b",
   "metadata": {
    "scrolled": true
   },
   "outputs": [
    {
     "name": "stderr",
     "output_type": "stream",
     "text": [
      "┌ Info: Precompiling GeneticsMakie [8ca62643-82d8-47b5-a233-a06d1654fb35]\n",
      "└ @ Base loading.jl:1423\n",
      "\u001b[33m\u001b[1m┌ \u001b[22m\u001b[39m\u001b[33m\u001b[1mWarning: \u001b[22m\u001b[39munknown command \\Join\n",
      "\u001b[33m\u001b[1m└ \u001b[22m\u001b[39m\u001b[90m@ MathTeXEngine ~/.julia/packages/MathTeXEngine/ZP0gS/src/parser/commands_registration.jl:48\u001b[39m\n",
      "\u001b[36m\u001b[1m[ \u001b[22m\u001b[39m\u001b[36m\u001b[1mInfo: \u001b[22m\u001b[39mCompiling VCF parser...\n"
     ]
    }
   ],
   "source": [
    "using GeneticsMakie, CairoMakie, CSV, DataFrames, SnpArrays"
   ]
  },
  {
   "cell_type": "code",
   "execution_count": 3,
   "id": "0aebdda9",
   "metadata": {},
   "outputs": [
    {
     "name": "stdout",
     "output_type": "stream",
     "text": [
      "  6.749336 seconds (3.57 M allocations: 269.635 MiB, 1.25% gc time, 94.20% compilation time)\n"
     ]
    },
    {
     "name": "stderr",
     "output_type": "stream",
     "text": [
      "┌ Info: Loading GENCODE v39 annotation for chromosome 15\n",
      "└ @ Main In[3]:2\n"
     ]
    },
    {
     "data": {
      "text/plain": [
       "117418-element Vector{String}:\n",
       " \"gene_id \\\"ENSG00000215567.5_1\\\"; \" ⋯ 454 bytes ⋯ \"\\\"; remap_status \\\"full_contig\\\";\"\n",
       " \"gene_id \\\"ENSG00000215567.5_1\\\"; \" ⋯ 454 bytes ⋯ \"\\\"; remap_status \\\"full_contig\\\";\"\n",
       " \"gene_id \\\"ENSG00000215567.5_1\\\"; \" ⋯ 454 bytes ⋯ \"\\\"; remap_status \\\"full_contig\\\";\"\n",
       " \"gene_id \\\"ENSG00000201241.1\\\"; ge\" ⋯ 122 bytes ⋯ \"stituted_missing_target \\\"V38\\\";\"\n",
       " \"gene_id \\\"ENSG00000201241.1\\\"; tr\" ⋯ 255 bytes ⋯ \"stituted_missing_target \\\"V38\\\";\"\n",
       " \"gene_id \\\"ENSG00000201241.1\\\"; tr\" ⋯ 299 bytes ⋯ \"stituted_missing_target \\\"V38\\\";\"\n",
       " \"gene_id \\\"ENSG00000258463.1_1\\\"; \" ⋯ 160 bytes ⋯ \"remap_target_status \\\"overlap\\\";\"\n",
       " \"gene_id \\\"ENSG00000258463.1_1\\\"; \" ⋯ 404 bytes ⋯ \"remap_target_status \\\"overlap\\\";\"\n",
       " \"gene_id \\\"ENSG00000258463.1_1\\\"; \" ⋯ 450 bytes ⋯ \"\\\"; remap_status \\\"full_contig\\\";\"\n",
       " \"gene_id \\\"ENSG00000274347.1_1\\\"; \" ⋯ 158 bytes ⋯ \" 1; remap_target_status \\\"new\\\";\"\n",
       " \"gene_id \\\"ENSG00000274347.1_1\\\"; \" ⋯ 404 bytes ⋯ \"g\\\"; remap_target_status \\\"new\\\";\"\n",
       " \"gene_id \\\"ENSG00000274347.1_1\\\"; \" ⋯ 454 bytes ⋯ \"\\\"; remap_status \\\"full_contig\\\";\"\n",
       " \"gene_id \\\"ENSG00000188403.7_1\\\"; \" ⋯ 166 bytes ⋯ \"remap_target_status \\\"overlap\\\";\"\n",
       " ⋮\n",
       " \"gene_id \\\"ENSG00000248472.8_1\\\"; \" ⋯ 429 bytes ⋯ \"\\\"; remap_status \\\"full_contig\\\";\"\n",
       " \"gene_id \\\"ENSG00000248472.8_1\\\"; \" ⋯ 429 bytes ⋯ \"\\\"; remap_status \\\"full_contig\\\";\"\n",
       " \"gene_id \\\"ENSG00000248472.8_1\\\"; \" ⋯ 381 bytes ⋯ \"remap_target_status \\\"overlap\\\";\"\n",
       " \"gene_id \\\"ENSG00000248472.8_1\\\"; \" ⋯ 429 bytes ⋯ \"\\\"; remap_status \\\"full_contig\\\";\"\n",
       " \"gene_id \\\"ENSG00000248472.8_1\\\"; \" ⋯ 429 bytes ⋯ \"\\\"; remap_status \\\"full_contig\\\";\"\n",
       " \"gene_id \\\"ENSG00000248472.8_1\\\"; \" ⋯ 429 bytes ⋯ \"\\\"; remap_status \\\"full_contig\\\";\"\n",
       " \"gene_id \\\"ENSG00000248472.8_1\\\"; \" ⋯ 461 bytes ⋯ \"remap_target_status \\\"overlap\\\";\"\n",
       " \"gene_id \\\"ENSG00000248472.8_1\\\"; \" ⋯ 509 bytes ⋯ \"\\\"; remap_status \\\"full_contig\\\";\"\n",
       " \"gene_id \\\"ENSG00000248472.8_1\\\"; \" ⋯ 509 bytes ⋯ \"\\\"; remap_status \\\"full_contig\\\";\"\n",
       " \"gene_id \\\"ENSG00000248472.8_1\\\"; \" ⋯ 509 bytes ⋯ \"\\\"; remap_status \\\"full_contig\\\";\"\n",
       " \"gene_id \\\"ENSG00000248472.8_1\\\"; \" ⋯ 509 bytes ⋯ \"\\\"; remap_status \\\"full_contig\\\";\"\n",
       " \"gene_id \\\"ENSG00000248472.8_1\\\"; \" ⋯ 509 bytes ⋯ \"\\\"; remap_status \\\"full_contig\\\";\""
      ]
     },
     "execution_count": 3,
     "metadata": {},
     "output_type": "execute_result"
    }
   ],
   "source": [
    "set_theme!(font = \"Arial\")\n",
    "@info \"Loading GENCODE v39 annotation for chromosome 15\"\n",
    "@time gencode = CSV.read(\"./gencode.v39lift37.annotation.chr15.gtf.gz\", DataFrame,\n",
    "    header = [\"seqnames\", \"source\", \"feature\", \"start\", \"end\", \"score\", \"strand\", \"phase\", \"info\"],\n",
    "    delim = \"\\t\", skipto = 6)\n",
    "gencode[!, :info]"
   ]
  },
  {
   "cell_type": "code",
   "execution_count": 4,
   "id": "5ccc8fed",
   "metadata": {},
   "outputs": [
    {
     "data": {
      "text/plain": [
       "14-element Vector{String}:\n",
       " \"seqnames\"\n",
       " \"source\"\n",
       " \"feature\"\n",
       " \"start\"\n",
       " \"end\"\n",
       " \"score\"\n",
       " \"strand\"\n",
       " \"phase\"\n",
       " \"info\"\n",
       " \"gene_id\"\n",
       " \"gene_name\"\n",
       " \"gene_type\"\n",
       " \"transcript_id\"\n",
       " \"transcript_support_level\""
      ]
     },
     "execution_count": 4,
     "metadata": {},
     "output_type": "execute_result"
    }
   ],
   "source": [
    "GeneticsMakie.parsegtf!(gencode)\n",
    "names(gencode)"
   ]
  },
  {
   "cell_type": "code",
   "execution_count": 5,
   "id": "4ef3d46b",
   "metadata": {},
   "outputs": [],
   "source": [
    "select!(gencode, :seqnames, :feature, :start, :end, :strand, :gene_id, :gene_name, :gene_type, :transcript_id)\n",
    "@assert size(gencode) == (117_418, 9)"
   ]
  },
  {
   "cell_type": "code",
   "execution_count": 6,
   "id": "8e93ff10",
   "metadata": {},
   "outputs": [
    {
     "name": "stderr",
     "output_type": "stream",
     "text": [
      "┌ Info: Loading 1000 Genomes European reference panel for chromosome 15\n",
      "└ @ Main In[6]:1\n"
     ]
    }
   ],
   "source": [
    "@info \"Loading 1000 Genomes European reference panel for chromosome 15\"\n",
    "kgp = SnpData(\"./kgp.chr15\")\n",
    "@assert (503, 200_311) == size(kgp)"
   ]
  },
  {
   "cell_type": "code",
   "execution_count": 7,
   "id": "f7270907",
   "metadata": {},
   "outputs": [
    {
     "name": "stderr",
     "output_type": "stream",
     "text": [
      "┌ Info: Loading GWAS results for chromosome 15\n",
      "└ @ Main In[7]:1\n"
     ]
    },
    {
     "data": {
      "text/html": [
       "<div class=\"data-frame\"><p>299,624 rows × 8 columns</p><table class=\"data-frame\"><thead><tr><th></th><th>CHR</th><th>POS</th><th>SNPID</th><th>Allele1</th><th>Allele2</th><th>AFAllele2</th><th>BETA</th><th>p</th></tr><tr><th></th><th title=\"Int64\">Int64</th><th title=\"Int64\">Int64</th><th title=\"String\">String</th><th title=\"String\">String</th><th title=\"String\">String</th><th title=\"Float64\">Float64</th><th title=\"Float64\">Float64</th><th title=\"Float64\">Float64</th></tr></thead><tbody><tr><th>1</th><td>15</td><td>20001226</td><td>rs28896870</td><td>C</td><td>T</td><td>0.113114</td><td>0.0110027</td><td>0.487073</td></tr><tr><th>2</th><td>15</td><td>20001774</td><td>rs28812614</td><td>T</td><td>C</td><td>0.257554</td><td>0.0216504</td><td>0.0621705</td></tr><tr><th>3</th><td>15</td><td>20004721</td><td>rs145629091</td><td>A</td><td>G</td><td>0.137294</td><td>0.0259993</td><td>0.0793635</td></tr><tr><th>4</th><td>15</td><td>20014120</td><td>rs12594432</td><td>G</td><td>A</td><td>0.138131</td><td>0.0267138</td><td>0.0689262</td></tr><tr><th>5</th><td>15</td><td>20017513</td><td>rs12900040</td><td>T</td><td>C</td><td>0.118101</td><td>0.0100042</td><td>0.522537</td></tr><tr><th>6</th><td>15</td><td>20021591</td><td>rs11535026</td><td>T</td><td>A</td><td>0.116481</td><td>0.00981448</td><td>0.531855</td></tr><tr><th>7</th><td>15</td><td>20021749</td><td>rs12595413</td><td>C</td><td>T</td><td>0.137905</td><td>0.0264183</td><td>0.0724226</td></tr><tr><th>8</th><td>15</td><td>20026191</td><td>rs533345786</td><td>A</td><td>AAAG</td><td>0.111671</td><td>0.0109291</td><td>0.504701</td></tr><tr><th>9</th><td>15</td><td>20026200</td><td>rs543944619</td><td>A</td><td>C</td><td>0.112151</td><td>0.010696</td><td>0.511987</td></tr><tr><th>10</th><td>15</td><td>20026202</td><td>rs565344963</td><td>G</td><td>A</td><td>0.112151</td><td>0.010696</td><td>0.511987</td></tr><tr><th>11</th><td>15</td><td>20026205</td><td>rs533002721</td><td>A</td><td>T</td><td>0.112476</td><td>0.0107821</td><td>0.507315</td></tr><tr><th>12</th><td>15</td><td>20026208</td><td>rs12900467</td><td>T</td><td>C</td><td>0.112476</td><td>0.0107821</td><td>0.507315</td></tr><tr><th>13</th><td>15</td><td>20027647</td><td>rs8029999</td><td>C</td><td>G</td><td>0.122335</td><td>0.00816835</td><td>0.817027</td></tr><tr><th>14</th><td>15</td><td>20028363</td><td>rs74485484</td><td>A</td><td>G</td><td>0.117248</td><td>0.0102801</td><td>0.50935</td></tr><tr><th>15</th><td>15</td><td>20028762</td><td>rs12903976</td><td>C</td><td>T</td><td>0.114862</td><td>0.00984186</td><td>0.535829</td></tr><tr><th>16</th><td>15</td><td>20029688</td><td>rs34390178</td><td>C</td><td>G</td><td>0.134265</td><td>0.0296249</td><td>0.0493136</td></tr><tr><th>17</th><td>15</td><td>20030951</td><td>rs35979813</td><td>T</td><td>C</td><td>0.116333</td><td>0.0104721</td><td>0.489063</td></tr><tr><th>18</th><td>15</td><td>20031739</td><td>rs12442841</td><td>T</td><td>G</td><td>0.115869</td><td>0.0106059</td><td>0.485068</td></tr><tr><th>19</th><td>15</td><td>20034803</td><td>rs144043507</td><td>C</td><td>T</td><td>0.13777</td><td>0.0270265</td><td>0.0665972</td></tr><tr><th>20</th><td>15</td><td>20034919</td><td>rs78737532</td><td>T</td><td>C</td><td>0.115742</td><td>0.010556</td><td>0.487632</td></tr><tr><th>21</th><td>15</td><td>20039239</td><td>rs12439778</td><td>A</td><td>G</td><td>0.116222</td><td>0.0099177</td><td>0.509795</td></tr><tr><th>22</th><td>15</td><td>20039935</td><td>rs71464559</td><td>T</td><td>A</td><td>0.258699</td><td>0.0223527</td><td>0.0491104</td></tr><tr><th>23</th><td>15</td><td>20040322</td><td>rs199772085</td><td>A</td><td>G</td><td>0.10038</td><td>0.0129446</td><td>0.442101</td></tr><tr><th>24</th><td>15</td><td>20040573</td><td>rs12439263</td><td>T</td><td>A</td><td>0.117796</td><td>0.0093258</td><td>0.534502</td></tr><tr><th>25</th><td>15</td><td>20040668</td><td>rs193121394</td><td>G</td><td>A</td><td>0.138654</td><td>0.0268971</td><td>0.065546</td></tr><tr><th>26</th><td>15</td><td>20042094</td><td>rs12592301</td><td>C</td><td>T</td><td>0.256431</td><td>0.0219884</td><td>0.0644688</td></tr><tr><th>27</th><td>15</td><td>20044198</td><td>rs28535042</td><td>T</td><td>C</td><td>0.259195</td><td>0.0222399</td><td>0.0619445</td></tr><tr><th>28</th><td>15</td><td>20044342</td><td>rs117764863</td><td>G</td><td>A</td><td>0.0568624</td><td>0.00119022</td><td>0.955402</td></tr><tr><th>29</th><td>15</td><td>20044383</td><td>rs35261146</td><td>C</td><td>T</td><td>0.116351</td><td>0.00980477</td><td>0.511018</td></tr><tr><th>30</th><td>15</td><td>20045025</td><td>rs36028981</td><td>G</td><td>A</td><td>0.116646</td><td>0.00983351</td><td>0.510217</td></tr><tr><th>&vellip;</th><td>&vellip;</td><td>&vellip;</td><td>&vellip;</td><td>&vellip;</td><td>&vellip;</td><td>&vellip;</td><td>&vellip;</td><td>&vellip;</td></tr></tbody></table></div>"
      ],
      "text/latex": [
       "\\begin{tabular}{r|cccccccc}\n",
       "\t& CHR & POS & SNPID & Allele1 & Allele2 & AFAllele2 & BETA & p\\\\\n",
       "\t\\hline\n",
       "\t& Int64 & Int64 & String & String & String & Float64 & Float64 & Float64\\\\\n",
       "\t\\hline\n",
       "\t1 & 15 & 20001226 & rs28896870 & C & T & 0.113114 & 0.0110027 & 0.487073 \\\\\n",
       "\t2 & 15 & 20001774 & rs28812614 & T & C & 0.257554 & 0.0216504 & 0.0621705 \\\\\n",
       "\t3 & 15 & 20004721 & rs145629091 & A & G & 0.137294 & 0.0259993 & 0.0793635 \\\\\n",
       "\t4 & 15 & 20014120 & rs12594432 & G & A & 0.138131 & 0.0267138 & 0.0689262 \\\\\n",
       "\t5 & 15 & 20017513 & rs12900040 & T & C & 0.118101 & 0.0100042 & 0.522537 \\\\\n",
       "\t6 & 15 & 20021591 & rs11535026 & T & A & 0.116481 & 0.00981448 & 0.531855 \\\\\n",
       "\t7 & 15 & 20021749 & rs12595413 & C & T & 0.137905 & 0.0264183 & 0.0724226 \\\\\n",
       "\t8 & 15 & 20026191 & rs533345786 & A & AAAG & 0.111671 & 0.0109291 & 0.504701 \\\\\n",
       "\t9 & 15 & 20026200 & rs543944619 & A & C & 0.112151 & 0.010696 & 0.511987 \\\\\n",
       "\t10 & 15 & 20026202 & rs565344963 & G & A & 0.112151 & 0.010696 & 0.511987 \\\\\n",
       "\t11 & 15 & 20026205 & rs533002721 & A & T & 0.112476 & 0.0107821 & 0.507315 \\\\\n",
       "\t12 & 15 & 20026208 & rs12900467 & T & C & 0.112476 & 0.0107821 & 0.507315 \\\\\n",
       "\t13 & 15 & 20027647 & rs8029999 & C & G & 0.122335 & 0.00816835 & 0.817027 \\\\\n",
       "\t14 & 15 & 20028363 & rs74485484 & A & G & 0.117248 & 0.0102801 & 0.50935 \\\\\n",
       "\t15 & 15 & 20028762 & rs12903976 & C & T & 0.114862 & 0.00984186 & 0.535829 \\\\\n",
       "\t16 & 15 & 20029688 & rs34390178 & C & G & 0.134265 & 0.0296249 & 0.0493136 \\\\\n",
       "\t17 & 15 & 20030951 & rs35979813 & T & C & 0.116333 & 0.0104721 & 0.489063 \\\\\n",
       "\t18 & 15 & 20031739 & rs12442841 & T & G & 0.115869 & 0.0106059 & 0.485068 \\\\\n",
       "\t19 & 15 & 20034803 & rs144043507 & C & T & 0.13777 & 0.0270265 & 0.0665972 \\\\\n",
       "\t20 & 15 & 20034919 & rs78737532 & T & C & 0.115742 & 0.010556 & 0.487632 \\\\\n",
       "\t21 & 15 & 20039239 & rs12439778 & A & G & 0.116222 & 0.0099177 & 0.509795 \\\\\n",
       "\t22 & 15 & 20039935 & rs71464559 & T & A & 0.258699 & 0.0223527 & 0.0491104 \\\\\n",
       "\t23 & 15 & 20040322 & rs199772085 & A & G & 0.10038 & 0.0129446 & 0.442101 \\\\\n",
       "\t24 & 15 & 20040573 & rs12439263 & T & A & 0.117796 & 0.0093258 & 0.534502 \\\\\n",
       "\t25 & 15 & 20040668 & rs193121394 & G & A & 0.138654 & 0.0268971 & 0.065546 \\\\\n",
       "\t26 & 15 & 20042094 & rs12592301 & C & T & 0.256431 & 0.0219884 & 0.0644688 \\\\\n",
       "\t27 & 15 & 20044198 & rs28535042 & T & C & 0.259195 & 0.0222399 & 0.0619445 \\\\\n",
       "\t28 & 15 & 20044342 & rs117764863 & G & A & 0.0568624 & 0.00119022 & 0.955402 \\\\\n",
       "\t29 & 15 & 20044383 & rs35261146 & C & T & 0.116351 & 0.00980477 & 0.511018 \\\\\n",
       "\t30 & 15 & 20045025 & rs36028981 & G & A & 0.116646 & 0.00983351 & 0.510217 \\\\\n",
       "\t$\\dots$ & $\\dots$ & $\\dots$ & $\\dots$ & $\\dots$ & $\\dots$ & $\\dots$ & $\\dots$ & $\\dots$ \\\\\n",
       "\\end{tabular}\n"
      ],
      "text/plain": [
       "\u001b[1m299624×8 DataFrame\u001b[0m\n",
       "\u001b[1m    Row \u001b[0m│\u001b[1m CHR   \u001b[0m\u001b[1m POS       \u001b[0m\u001b[1m SNPID       \u001b[0m\u001b[1m Allele1 \u001b[0m\u001b[1m Allele2 \u001b[0m\u001b[1m AFAllele2  \u001b[0m\u001b[1m BETA   \u001b[0m ⋯\n",
       "\u001b[1m        \u001b[0m│\u001b[90m Int64 \u001b[0m\u001b[90m Int64     \u001b[0m\u001b[90m String      \u001b[0m\u001b[90m String  \u001b[0m\u001b[90m String  \u001b[0m\u001b[90m Float64    \u001b[0m\u001b[90m Float64\u001b[0m ⋯\n",
       "────────┼───────────────────────────────────────────────────────────────────────\n",
       "      1 │    15   20001226  rs28896870   C        T        0.113114     0.0110 ⋯\n",
       "      2 │    15   20001774  rs28812614   T        C        0.257554     0.0216\n",
       "      3 │    15   20004721  rs145629091  A        G        0.137294     0.0259\n",
       "      4 │    15   20014120  rs12594432   G        A        0.138131     0.0267\n",
       "      5 │    15   20017513  rs12900040   T        C        0.118101     0.0100 ⋯\n",
       "      6 │    15   20021591  rs11535026   T        A        0.116481     0.0098\n",
       "      7 │    15   20021749  rs12595413   C        T        0.137905     0.0264\n",
       "      8 │    15   20026191  rs533345786  A        AAAG     0.111671     0.0109\n",
       "      9 │    15   20026200  rs543944619  A        C        0.112151     0.0106 ⋯\n",
       "     10 │    15   20026202  rs565344963  G        A        0.112151     0.0106\n",
       "     11 │    15   20026205  rs533002721  A        T        0.112476     0.0107\n",
       "   ⋮    │   ⋮        ⋮           ⋮          ⋮        ⋮         ⋮            ⋮  ⋱\n",
       " 299615 │    15  102429991  rs61158621   C        G        0.624626     0.0149\n",
       " 299616 │    15  102430068  rs72763633   G        A        0.471893     0.0159 ⋯\n",
       " 299617 │    15  102430469  rs538224847  G        C        0.108547     0.0103\n",
       " 299618 │    15  102430698  rs559044234  A        C        0.0116644   -0.0795\n",
       " 299619 │    15  102430775  rs139316410  A        G        0.00662201   0.0844\n",
       " 299620 │    15  102431031  rs541663373  G        A        0.00800324   0.0559 ⋯\n",
       " 299621 │    15  102431166  rs62030445   G        T        0.45813      0.0188\n",
       " 299622 │    15  102432136  rs62030446   G        A        0.440092     0.0172\n",
       " 299623 │    15  102454841  rs28570604   C        T        0.0108157   -0.0754\n",
       " 299624 │    15  102461014  rs1177507    T        C        0.594261     0.0176 ⋯\n",
       "\u001b[36m                                               2 columns and 299603 rows omitted\u001b[0m"
      ]
     },
     "execution_count": 7,
     "metadata": {},
     "output_type": "execute_result"
    }
   ],
   "source": [
    "@info \"Loading GWAS results for chromosome 15\"\n",
    "gwas = CSV.read(\"./hernia.chr15.gz\", DataFrame, comment = \"##\", missingstring = \"NA\")"
   ]
  },
  {
   "cell_type": "code",
   "execution_count": 8,
   "id": "acc2b6bb",
   "metadata": {},
   "outputs": [],
   "source": [
    "GeneticsMakie.mungesumstats!(gwas)"
   ]
  },
  {
   "cell_type": "code",
   "execution_count": 9,
   "id": "f1464cd7",
   "metadata": {},
   "outputs": [
    {
     "data": {
      "text/html": [
       "<div class=\"data-frame\"><p>1 rows × 3 columns</p><table class=\"data-frame\"><thead><tr><th></th><th>CHR</th><th>BP</th><th>P</th></tr><tr><th></th><th title=\"String\">String</th><th title=\"Int64\">Int64</th><th title=\"Float64\">Float64</th></tr></thead><tbody><tr><th>1</th><td>15</td><td>84419314</td><td>4.24936e-8</td></tr></tbody></table></div>"
      ],
      "text/latex": [
       "\\begin{tabular}{r|ccc}\n",
       "\t& CHR & BP & P\\\\\n",
       "\t\\hline\n",
       "\t& String & Int64 & Float64\\\\\n",
       "\t\\hline\n",
       "\t1 & 15 & 84419314 & 4.24936e-8 \\\\\n",
       "\\end{tabular}\n"
      ],
      "text/plain": [
       "\u001b[1m1×3 DataFrame\u001b[0m\n",
       "\u001b[1m Row \u001b[0m│\u001b[1m CHR    \u001b[0m\u001b[1m BP       \u001b[0m\u001b[1m P          \u001b[0m\n",
       "\u001b[1m     \u001b[0m│\u001b[90m String \u001b[0m\u001b[90m Int64    \u001b[0m\u001b[90m Float64    \u001b[0m\n",
       "─────┼──────────────────────────────\n",
       "   1 │ 15      84419314  4.24936e-8"
      ]
     },
     "execution_count": 9,
     "metadata": {},
     "output_type": "execute_result"
    }
   ],
   "source": [
    "loci = GeneticsMakie.findgwasloci(gwas)"
   ]
  },
  {
   "cell_type": "code",
   "execution_count": 10,
   "id": "55dc5d9e",
   "metadata": {
    "scrolled": true
   },
   "outputs": [
    {
     "data": {
      "text/html": [
       "<div class=\"data-frame\"><p>2 rows × 3 columns</p><table class=\"data-frame\"><thead><tr><th></th><th>CHR</th><th>BP</th><th>P</th></tr><tr><th></th><th title=\"String\">String</th><th title=\"Int64\">Int64</th><th title=\"Float64\">Float64</th></tr></thead><tbody><tr><th>1</th><td>15</td><td>84419314</td><td>4.24936e-8</td></tr><tr><th>2</th><td>15</td><td>67467297</td><td>2.48762e-7</td></tr></tbody></table></div>"
      ],
      "text/latex": [
       "\\begin{tabular}{r|ccc}\n",
       "\t& CHR & BP & P\\\\\n",
       "\t\\hline\n",
       "\t& String & Int64 & Float64\\\\\n",
       "\t\\hline\n",
       "\t1 & 15 & 84419314 & 4.24936e-8 \\\\\n",
       "\t2 & 15 & 67467297 & 2.48762e-7 \\\\\n",
       "\\end{tabular}\n"
      ],
      "text/plain": [
       "\u001b[1m2×3 DataFrame\u001b[0m\n",
       "\u001b[1m Row \u001b[0m│\u001b[1m CHR    \u001b[0m\u001b[1m BP       \u001b[0m\u001b[1m P          \u001b[0m\n",
       "\u001b[1m     \u001b[0m│\u001b[90m String \u001b[0m\u001b[90m Int64    \u001b[0m\u001b[90m Float64    \u001b[0m\n",
       "─────┼──────────────────────────────\n",
       "   1 │ 15      84419314  4.24936e-8\n",
       "   2 │ 15      67467297  2.48762e-7"
      ]
     },
     "execution_count": 10,
     "metadata": {},
     "output_type": "execute_result"
    }
   ],
   "source": [
    "GeneticsMakie.findgwasloci(gwas; p = 1e-6)"
   ]
  },
  {
   "cell_type": "code",
   "execution_count": 11,
   "id": "28d3c259",
   "metadata": {},
   "outputs": [
    {
     "data": {
      "text/html": [
       "<div class=\"data-frame\"><p>1 rows × 4 columns</p><table class=\"data-frame\"><thead><tr><th></th><th>CHR</th><th>BP</th><th>gene</th><th>distance</th></tr><tr><th></th><th title=\"String\">String</th><th title=\"Int64\">Int64</th><th title=\"String\">String</th><th title=\"Int64\">Int64</th></tr></thead><tbody><tr><th>1</th><td>15</td><td>84419314</td><td>TUBAP4</td><td>10363</td></tr></tbody></table></div>"
      ],
      "text/latex": [
       "\\begin{tabular}{r|cccc}\n",
       "\t& CHR & BP & gene & distance\\\\\n",
       "\t\\hline\n",
       "\t& String & Int64 & String & Int64\\\\\n",
       "\t\\hline\n",
       "\t1 & 15 & 84419314 & TUBAP4 & 10363 \\\\\n",
       "\\end{tabular}\n"
      ],
      "text/plain": [
       "\u001b[1m1×4 DataFrame\u001b[0m\n",
       "\u001b[1m Row \u001b[0m│\u001b[1m CHR    \u001b[0m\u001b[1m BP       \u001b[0m\u001b[1m gene   \u001b[0m\u001b[1m distance \u001b[0m\n",
       "\u001b[1m     \u001b[0m│\u001b[90m String \u001b[0m\u001b[90m Int64    \u001b[0m\u001b[90m String \u001b[0m\u001b[90m Int64    \u001b[0m\n",
       "─────┼────────────────────────────────────\n",
       "   1 │ 15      84419314  TUBAP4     10363"
      ]
     },
     "execution_count": 11,
     "metadata": {},
     "output_type": "execute_result"
    }
   ],
   "source": [
    "GeneticsMakie.findclosestgene(loci, gencode)"
   ]
  },
  {
   "cell_type": "code",
   "execution_count": 12,
   "id": "483a1849",
   "metadata": {},
   "outputs": [
    {
     "data": {
      "text/html": [
       "<div class=\"data-frame\"><p>1 rows × 4 columns</p><table class=\"data-frame\"><thead><tr><th></th><th>CHR</th><th>BP</th><th>gene</th><th>distance</th></tr><tr><th></th><th title=\"String\">String</th><th title=\"Int64\">Int64</th><th title=\"String\">String</th><th title=\"Int64\">Int64</th></tr></thead><tbody><tr><th>1</th><td>15</td><td>84419314</td><td>TUBAP4</td><td>10778</td></tr></tbody></table></div>"
      ],
      "text/latex": [
       "\\begin{tabular}{r|cccc}\n",
       "\t& CHR & BP & gene & distance\\\\\n",
       "\t\\hline\n",
       "\t& String & Int64 & String & Int64\\\\\n",
       "\t\\hline\n",
       "\t1 & 15 & 84419314 & TUBAP4 & 10778 \\\\\n",
       "\\end{tabular}\n"
      ],
      "text/plain": [
       "\u001b[1m1×4 DataFrame\u001b[0m\n",
       "\u001b[1m Row \u001b[0m│\u001b[1m CHR    \u001b[0m\u001b[1m BP       \u001b[0m\u001b[1m gene   \u001b[0m\u001b[1m distance \u001b[0m\n",
       "\u001b[1m     \u001b[0m│\u001b[90m String \u001b[0m\u001b[90m Int64    \u001b[0m\u001b[90m String \u001b[0m\u001b[90m Int64    \u001b[0m\n",
       "─────┼────────────────────────────────────\n",
       "   1 │ 15      84419314  TUBAP4     10778"
      ]
     },
     "execution_count": 12,
     "metadata": {},
     "output_type": "execute_result"
    }
   ],
   "source": [
    "GeneticsMakie.findclosestgene(loci, gencode; start = true)"
   ]
  },
  {
   "cell_type": "code",
   "execution_count": 13,
   "id": "4c45b78f",
   "metadata": {},
   "outputs": [
    {
     "data": {
      "text/html": [
       "<div class=\"data-frame\"><p>1 rows × 4 columns</p><table class=\"data-frame\"><thead><tr><th></th><th>CHR</th><th>BP</th><th>gene</th><th>distance</th></tr><tr><th></th><th title=\"String\">String</th><th title=\"Int64\">Int64</th><th title=\"String\">String</th><th title=\"Int64\">Int64</th></tr></thead><tbody><tr><th>1</th><td>15</td><td>84419314</td><td>ADAMTSL3</td><td>96474</td></tr></tbody></table></div>"
      ],
      "text/latex": [
       "\\begin{tabular}{r|cccc}\n",
       "\t& CHR & BP & gene & distance\\\\\n",
       "\t\\hline\n",
       "\t& String & Int64 & String & Int64\\\\\n",
       "\t\\hline\n",
       "\t1 & 15 & 84419314 & ADAMTSL3 & 96474 \\\\\n",
       "\\end{tabular}\n"
      ],
      "text/plain": [
       "\u001b[1m1×4 DataFrame\u001b[0m\n",
       "\u001b[1m Row \u001b[0m│\u001b[1m CHR    \u001b[0m\u001b[1m BP       \u001b[0m\u001b[1m gene     \u001b[0m\u001b[1m distance \u001b[0m\n",
       "\u001b[1m     \u001b[0m│\u001b[90m String \u001b[0m\u001b[90m Int64    \u001b[0m\u001b[90m String   \u001b[0m\u001b[90m Int64    \u001b[0m\n",
       "─────┼──────────────────────────────────────\n",
       "   1 │ 15      84419314  ADAMTSL3     96474"
      ]
     },
     "execution_count": 13,
     "metadata": {},
     "output_type": "execute_result"
    }
   ],
   "source": [
    "GeneticsMakie.findclosestgene(loci, gencode; proteincoding = true)"
   ]
  },
  {
   "cell_type": "code",
   "execution_count": 14,
   "id": "ae1495e0",
   "metadata": {},
   "outputs": [
    {
     "data": {
      "text/html": [
       "<div class=\"data-frame\"><p>1 rows × 4 columns</p><table class=\"data-frame\"><thead><tr><th></th><th>CHR</th><th>BP</th><th>gene</th><th>distance</th></tr><tr><th></th><th title=\"String\">String</th><th title=\"Int64\">Int64</th><th title=\"String\">String</th><th title=\"Int64\">Int64</th></tr></thead><tbody><tr><th>1</th><td>15</td><td>84419314</td><td>ADAMTSL3</td><td>96474</td></tr></tbody></table></div>"
      ],
      "text/latex": [
       "\\begin{tabular}{r|cccc}\n",
       "\t& CHR & BP & gene & distance\\\\\n",
       "\t\\hline\n",
       "\t& String & Int64 & String & Int64\\\\\n",
       "\t\\hline\n",
       "\t1 & 15 & 84419314 & ADAMTSL3 & 96474 \\\\\n",
       "\\end{tabular}\n"
      ],
      "text/plain": [
       "\u001b[1m1×4 DataFrame\u001b[0m\n",
       "\u001b[1m Row \u001b[0m│\u001b[1m CHR    \u001b[0m\u001b[1m BP       \u001b[0m\u001b[1m gene     \u001b[0m\u001b[1m distance \u001b[0m\n",
       "\u001b[1m     \u001b[0m│\u001b[90m String \u001b[0m\u001b[90m Int64    \u001b[0m\u001b[90m String   \u001b[0m\u001b[90m Int64    \u001b[0m\n",
       "─────┼──────────────────────────────────────\n",
       "   1 │ 15      84419314  ADAMTSL3     96474"
      ]
     },
     "execution_count": 14,
     "metadata": {},
     "output_type": "execute_result"
    }
   ],
   "source": [
    "loci = GeneticsMakie.findclosestgene(loci, gencode; start = true, proteincoding = true)"
   ]
  },
  {
   "cell_type": "code",
   "execution_count": 15,
   "id": "45d423e2",
   "metadata": {},
   "outputs": [
    {
     "name": "stdout",
     "output_type": "stream",
     "text": [
      " 73.789035 seconds (245.55 M allocations: 12.107 GiB, 3.41% gc time, 84.40% compilation time)\n"
     ]
    },
    {
     "name": "stderr",
     "output_type": "stream",
     "text": [
      "┌ Info: Working on ADAMTSL3 gene\n",
      "└ @ Main In[15]:3\n",
      "┌ Info: Subsetting GWAS results\n",
      "└ @ Main In[15]:7\n",
      "┌ Info: Plotting LocusZoom\n",
      "└ @ Main In[15]:9\n"
     ]
    }
   ],
   "source": [
    "function locuszoom(genes)\n",
    "    for gene in genes\n",
    "        @info \"Working on $gene gene\"\n",
    "        window = 1e6\n",
    "        chr, start, stop = GeneticsMakie.findgene(gene, gencode)\n",
    "        range1, range2 = start - window, stop + window\n",
    "        @info \"Subsetting GWAS results\"\n",
    "        gwas_subset = gwas[findall((gwas.CHR .== chr) .& (gwas.BP .>= range1) .& (gwas.BP .<= range2)), :]\n",
    "        @info \"Plotting LocusZoom\"\n",
    "        f = Figure(resolution = (306, 1500))\n",
    "        axs = [Axis(f[i, 1]) for i in 1:3]\n",
    "        GeneticsMakie.plotlocus!(axs[1], chr, range1, range2, gwas_subset)\n",
    "        GeneticsMakie.plotlocus!(axs[2], chr, range1, range2, gwas_subset; ld = kgp)\n",
    "        for i in 1:2\n",
    "            Label(f[i, 1, Top()], \"Inguinal hernia (2022)\", textsize = 6, halign = :left, padding = (7.5, 0, -5, 0))\n",
    "            rowsize!(f.layout, i, 30)\n",
    "        end\n",
    "        rs = GeneticsMakie.plotgenes!(axs[3], chr, range1, range2, gencode; height = 0.1)\n",
    "        rowsize!(f.layout, 3, rs)\n",
    "        GeneticsMakie.labelgenome(f[3, 1, Bottom()], chr, range1, range2)\n",
    "        Colorbar(f[1:2, 2], limits = (0, 1), ticks = 0:1:1, height = 20,\n",
    "            colormap = (:gray60, :red2), label = \"LD\", ticksize = 0, tickwidth = 0,\n",
    "            tickalign = 0, ticklabelsize = 6, flip_vertical_label = true,\n",
    "            labelsize = 6, width = 5, spinewidth = 0.5)\n",
    "        Label(f[1:2, 0], text = \"-log[p]\", textsize = 6, rotation = pi / 2)\n",
    "        for i in 1:3\n",
    "            vlines!(axs[i], start, color = (:gold, 0.5), linewidth = 0.5)\n",
    "            vlines!(axs[i], stop, color = (:gold, 0.5), linewidth = 0.5)\n",
    "        end\n",
    "        for i in 1:2\n",
    "            lines!(axs[i], [range1, range2], fill(-log(10, 5e-8), 2), color = (:purple, 0.5), linewidth = 0.5)\n",
    "        end\n",
    "        rowgap!(f.layout, 5)\n",
    "        colgap!(f.layout, 5)\n",
    "        resize_to_layout!(f)\n",
    "        save(\"./$(gene)-locuszoom.png\", f, px_per_unit = 4)\n",
    "    end\n",
    "end\n",
    "\n",
    "@time locuszoom(loci.gene)"
   ]
  },
  {
   "cell_type": "code",
   "execution_count": 16,
   "id": "6e8bd4b3",
   "metadata": {},
   "outputs": [
    {
     "name": "stdout",
     "output_type": "stream",
     "text": [
      " 10.403400 seconds (57.06 M allocations: 2.102 GiB, 3.55% gc time)\n"
     ]
    },
    {
     "name": "stderr",
     "output_type": "stream",
     "text": [
      "┌ Info: Working on ADAMTSL3 gene\n",
      "└ @ Main In[15]:3\n",
      "┌ Info: Subsetting GWAS results\n",
      "└ @ Main In[15]:7\n",
      "┌ Info: Plotting LocusZoom\n",
      "└ @ Main In[15]:9\n"
     ]
    }
   ],
   "source": [
    "@time locuszoom(loci.gene)"
   ]
  },
  {
   "cell_type": "markdown",
   "id": "8231a923",
   "metadata": {},
   "source": [
    "   <p align=\"center\">\n",
    "   <img src=\"./ADAMTSL3-locuszoom.png\" width=\"600\">\n",
    "   </p>"
   ]
  },
  {
   "cell_type": "markdown",
   "id": "768494b5",
   "metadata": {},
   "source": [
    "# An example workflow for phenome-scale LocusZoom\n",
    "Hypothetical scenario: you have run a GWAS and would like to visualize genome-wide significant loci automatically with other GWAS results and functional genomic annotations\n",
    "\n",
    "1. Munge GWAS summary statistics (using mungesumstats! function)\n",
    "2. Save each GWAS result as an Arrow or Parquet file (using Arrow.jl or Parquet.jl packages)\n",
    "3. Find GWAS loci for your phenotypes of interest (using findgwasloci function)\n",
    "4. Iterate through GWAS loci, subsetting genomic regions from Arrow or Parquet files\n",
    "5. Add other functional genomic data as separate layers as needed\n",
    "\n",
    "Checkout example code in https://github.com/mmkim1210/GeneticsMakieExamples!"
   ]
  },
  {
   "cell_type": "markdown",
   "id": "fa3bddee",
   "metadata": {},
   "source": [
    "# Other functionalities\n",
    " \n",
    "   <p align=\"center\">\n",
    "   <img src=\"./manhattan.png\" width=\"800\">\n",
    "   </p>"
   ]
  }
 ],
 "metadata": {
  "kernelspec": {
   "display_name": "Julia 1.7.0",
   "language": "julia",
   "name": "julia-1.7"
  },
  "language_info": {
   "file_extension": ".jl",
   "mimetype": "application/julia",
   "name": "julia",
   "version": "1.7.0"
  },
  "toc": {
   "base_numbering": 1,
   "nav_menu": {},
   "number_sections": false,
   "sideBar": true,
   "skip_h1_title": false,
   "title_cell": "Table of Contents",
   "title_sidebar": "Contents",
   "toc_cell": false,
   "toc_position": {},
   "toc_section_display": true,
   "toc_window_display": false
  }
 },
 "nbformat": 4,
 "nbformat_minor": 5
}
