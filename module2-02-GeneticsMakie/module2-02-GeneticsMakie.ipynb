{
 "cells": [
  {
   "cell_type": "markdown",
   "id": "c2f58935",
   "metadata": {},
   "source": [
    "# GeneticsMakie.jl"
   ]
  },
  {
   "cell_type": "code",
   "execution_count": 2,
   "id": "d1c832c9",
   "metadata": {},
   "outputs": [
    {
     "name": "stdout",
     "output_type": "stream",
     "text": [
      "Julia Version 1.7.0\n",
      "Commit 3bf9d17731 (2021-11-30 12:12 UTC)\n",
      "Platform Info:\n",
      "  OS: macOS (x86_64-apple-darwin19.5.0)\n",
      "  CPU: Intel(R) Core(TM) i9-9880H CPU @ 2.30GHz\n",
      "  WORD_SIZE: 64\n",
      "  LIBM: libopenlibm\n",
      "  LLVM: libLLVM-12.0.1 (ORCJIT, skylake)\n"
     ]
    }
   ],
   "source": [
    "versioninfo()"
   ]
  },
  {
   "cell_type": "markdown",
   "id": "bfdc2842",
   "metadata": {},
   "source": [
    "# Why Makie.jl?"
   ]
  },
  {
   "cell_type": "markdown",
   "id": "45158d6a",
   "metadata": {},
   "source": [
    "### *1. Plotting millions of data points is easy*\n",
    "\n",
    "   <p align=\"center\">\n",
    "   <img src=\"./MHC-LD.png\" width=\"400\">\n",
    "   </p>\n",
    "   \n",
    "*LD structure for ~66,000 SNPs in MHC region → ≈2 billion unique data points*"
   ]
  },
  {
   "cell_type": "markdown",
   "id": "5cf8a2f4",
   "metadata": {},
   "source": [
    "### *2. Plotting figures with complex layouts is easy*\n",
    "   <p align=\"center\">\n",
    "   <img src=\"./complex-layout.png\" width=\"600\">\n",
    "   </p>\n",
    "   \n",
    "*Raw publication-quality figure using Makie.jl's default layout tools w/o further modifications*\n",
    "\n",
    "### Looks interesting? Check out Makie.jl [documentation](https://makie.juliaplots.org/stable/)!"
   ]
  },
  {
   "cell_type": "markdown",
   "id": "1701cec8",
   "metadata": {},
   "source": [
    "# Why GeneticsMakie.jl?"
   ]
  },
  {
   "cell_type": "markdown",
   "id": "91ac81a4",
   "metadata": {},
   "source": [
    "+ The purpose of GeneticsMakie.jl is to facilitate visualization and interpretation of genetic association results\n",
    "+ This is achieved by visualizing $\\geq 100$s of genetic and genomic data simultaneously\n",
    "+ GeneticsMakie.jl is supposed to work with other OpenMendel and Julia Data Science packages"
   ]
  },
  {
   "cell_type": "markdown",
   "id": "d85ef8a5",
   "metadata": {},
   "source": [
    "### Example phenome-scale LocusZoom plots\n",
    "   <p align=\"center\">\n",
    "   <img src=\"./GRIN2A-locuszoom.png\" width=\"800\">\n",
    "   </p>\n",
    "   \n",
    "*GRIN2A is a high-confidence schizophrenia risk gene*\n",
    "\n",
    "   <p align=\"center\">\n",
    "   <img src=\"./MHC-locuszoom.png\" width=\"800\">\n",
    "   </p>\n",
    "\n",
    "*MHC region is one of the most pleiotropic regions in the human genome*\n",
    "\n",
    "### Looks intriguing? Check out GeneticsMakie.jl [documentation](https://minsookim.info/GeneticsMakie.jl/dev/)!"
   ]
  },
  {
   "cell_type": "markdown",
   "id": "48ed5891",
   "metadata": {},
   "source": [
    "# Example code for "
   ]
  },
  {
   "cell_type": "code",
   "execution_count": 2,
   "id": "45dfa69b",
   "metadata": {
    "scrolled": true
   },
   "outputs": [],
   "source": [
    "using GeneticsMakie, CairoMakie, CSV, DataFrames, SnpArrays, Arrow"
   ]
  },
  {
   "cell_type": "code",
   "execution_count": null,
   "id": "45d423e2",
   "metadata": {},
   "outputs": [],
   "source": [
    "const GM = GeneticsMakie\n",
    "\n",
    "CairoMakie.activate!(type = \"png\")\n",
    "set_theme!(font = \"Arial\")\n",
    "\n",
    "@info \"Loading GENCODE annotation\"\n",
    "ispath(joinpath(@__DIR__, \"../data\")) || mkpath(joinpath(@__DIR__, \"../data\"))\n",
    "if !isfile(joinpath(@__DIR__, \"../data/gencode.v19.annotation.parsed.gtf.arrow\"))\n",
    "    @info \"Downloading GENCODE\"\n",
    "    run(`curl https://ftp.ebi.ac.uk/pub/databases/gencode/Gencode_human/release_39/GRCh37_mapping/gencode.v39lift37.annotation.gtf.gz --output ./data/gencode.v39lift37.annotation.gtf.gz`)\n",
    "    @time gencode = CSV.read(joinpath(@__DIR__, \"../data/gencode.v39lift37.annotation.gtf.gz\"), DataFrame,\n",
    "        header = [\"seqnames\", \"source\", \"feature\", \"start\", \"end\", \"score\", \"strand\", \"phase\", \"info\"],\n",
    "        delim = \"\\t\", skipto = 6)\n",
    "    GM.parsegtf!(gencode)\n",
    "    select!(gencode, :seqnames, :feature, :start, :end, :strand, :gene_id, :gene_name, :gene_type, :transcript_id)\n",
    "    @time Arrow.write(joinpath(@__DIR__, \"../data/gencode.v39lift37.annotation.parsed.gtf.arrow\"), gencode)\n",
    "    run(`rm ./data/gencode.v39lift37.annotation.gtf.gz`)\n",
    "end\n",
    "@time gencode = Arrow.Table(joinpath(@__DIR__, \"../data/gencode.v39lift37.annotation.parsed.gtf.arrow\"))|> DataFrame\n",
    "@assert (3_247_110, 9) == size(gencode)\n",
    "\n",
    "@info \"Loading 1000 Genomes reference panel\"\n",
    "@time kgp = SnpData(joinpath(@__DIR__, \"../data/kgp\"))\n",
    "\n",
    "function subsetref(ref::SnpData, chr::AbstractString, range1::Real, range2::Real, path::AbstractString)\n",
    "    SnpArrays.filter(ref, trues(size(ref)[1]), GM.findlocus(ref, chr, range1, range2); des = path)\n",
    "    SnpData(path)\n",
    "end\n",
    "\n",
    "@info \"Loading GWAS results\"\n",
    "phenotypes = [\"scz\", \"bd\", \"asd\", \"adhd\", \"neuroticism\", \"alz\", \"menopause\", \"weight\", \"height\"]\n",
    "gwas = []\n",
    "for p in phenotypes\n",
    "    if !isfile(joinpath(@__DIR__, \"../data/\", p * \".gwas.arrow\"))\n",
    "        @time GM.downloadgwas(joinpath(@__DIR__, \"../data/\"), pheno = p)\n",
    "        @time sumstat = CSV.read(joinpath(@__DIR__, \"../data\", GM.gwas[p].file), DataFrame, comment = \"##\", missingstring = [\"NA\"])\n",
    "        @time GeneticsMakie.mungesumstats!(sumstat)\n",
    "        @time Arrow.write(joinpath(@__DIR__, \"../data\", p * \".gwas.arrow\"), sumstat)\n",
    "        rm(joinpath(@__DIR__, \"../data\", GM.gwas[p].file))\n",
    "    end\n",
    "    push!(gwas, DataFrame(Arrow.Table(joinpath(@__DIR__, \"../data\", p * \".gwas.arrow\"))))\n",
    "end\n",
    "\n",
    "function subsetgwas(gwas, chr::AbstractString, range1::Real, range2::Real)\n",
    "    gwas_subset = Vector{DataFrame}(undef, length(gwas))\n",
    "    for i in 1:length(gwas)\n",
    "        gwas_subset[i] = gwas[i][GM.findlocus(gwas[i], chr, range1, range2), :]\n",
    "    end\n",
    "    gwas_subset\n",
    "end\n",
    "\n",
    "issig(P::AbstractVector; p = 5e-8) = any(P .< p)\n",
    "issig(df::DataFrame; p = 5e-8) = issig(df.P; p = p)\n",
    "\n",
    "@info \"Working on visualization\"\n",
    "ispath(joinpath(@__DIR__, \"../figs\")) || mkpath(joinpath(@__DIR__, \"../figs\"))\n",
    "function locuszoom(genes)\n",
    "    for gene in genes\n",
    "        @info \"Working on $gene gene\"\n",
    "        window = 1e6\n",
    "        chr, start, stop = GM.findgene(gene, gencode)\n",
    "        range1, range2 = start - window, stop + window\n",
    "        @info \"Subsetting 1000 Genomes\"\n",
    "        @time kgp_subset = subsetref(kgp, chr, range1, range2, \"./data/kgp.filtered\")\n",
    "        @info \"Subsetting GWAS results.\"\n",
    "        @time gwas_subset = subsetgwas(gwas, chr, range1, range2)\n",
    "        titles = [GM.gwas[p].title for p in phenotypes]\n",
    "        @info \"Plotting phenome-wide LocusZoom.\"\n",
    "        n = length(titles)\n",
    "        f = Figure(resolution = (306, 1500))\n",
    "        axs = [Axis(f[i, 1]) for i in 1:(n + 1)]\n",
    "        for i in 1:n\n",
    "            if issig(gwas_subset[i])\n",
    "                GM.plotlocus!(axs[i], chr, range1, range2, gwas_subset[i]; ld = kgp_subset)\n",
    "                if gwas_subset[i].BP[argmin(gwas_subset[i].P)] < (range1 + range2) / 2\n",
    "                    Label(f[i, 1, Top()], \"$(titles[i])\", textsize = 6, halign = :right, padding = (0, 7.5, -5, 0))\n",
    "                else\n",
    "                    Label(f[i, 1, Top()], \"$(titles[i])\", textsize = 6, halign = :left, padding = (7.5, 0, -5, 0))\n",
    "                end    \n",
    "            else\n",
    "                GM.plotlocus!(axs[i], chr, range1, range2, gwas_subset[i])\n",
    "                Label(f[i, 1, Top()], \"$(titles[i])\", textsize = 6, halign = :left, padding = (7.5, 0, -5, 0))\n",
    "            end\n",
    "            rowsize!(f.layout, i, 30)\n",
    "        end\n",
    "        rs = GM.plotgenes!(axs[n + 1], chr, range1, range2, gencode; height = 0.1)\n",
    "        rowsize!(f.layout, n + 1, rs)\n",
    "        GM.labelgenome(f[n + 1, 1, Bottom()], chr, range1, range2)\n",
    "        Colorbar(f[1:n, 2], limits = (0, 1), ticks = 0:1:1, height = 20,\n",
    "            colormap = (:gray60, :red2), label = \"LD\", ticksize = 0, tickwidth = 0,\n",
    "            tickalign = 0, ticklabelsize = 6, flip_vertical_label = true,\n",
    "            labelsize = 6, width = 5, spinewidth = 0.5)\n",
    "        Label(f[1:n, 0], text = \"-log[p]\", textsize = 6, rotation = pi / 2)\n",
    "        for i in 1:(n + 1)\n",
    "            vlines!(axs[i], start, color = (:gold, 0.5), linewidth = 0.5)\n",
    "            vlines!(axs[i], stop, color = (:gold, 0.5), linewidth = 0.5)\n",
    "        end\n",
    "        for i in 1:n\n",
    "            lines!(axs[i], [range1, range2], fill(-log(10, 5e-8), 2), color = (:purple, 0.5), linewidth = 0.5)\n",
    "        end\n",
    "        rowgap!(f.layout, 5)\n",
    "        colgap!(f.layout, 5)\n",
    "        resize_to_layout!(f)\n",
    "        save(joinpath(@__DIR__, \"../figs/$(gene)-locuszoom.png\"), f, px_per_unit = 4)\n",
    "        for ext in [\"bed\", \"bim\", \"fam\"]\n",
    "            rm(joinpath(@__DIR__, \"../data/kgp.filtered.\" * ext))\n",
    "        end\n",
    "    end\n",
    "end\n",
    "\n",
    "genes = [\"CHRNA5\", \"XRN2\"]\n",
    "locuszoom(genes)\n"
   ]
  },
  {
   "cell_type": "markdown",
   "id": "768494b5",
   "metadata": {},
   "source": [
    "# An example workflow for phenome-scale LocusZoom\n",
    "Hypothetical scenario: you have run a GWAS and would like to visualize genome-wide significant loci automatically with other GWAS results and functional genomic annotations\n",
    "\n",
    "1. Munge GWAS summary statistics (using mungesumstats! function)\n",
    "2. Save each GWAS result as an Arrow or Parquet file (using Arrow.jl or Parquet.jl packages)\n",
    "3. Find GWAS loci for your phenotypes of interest (using findgwasloci function)\n",
    "4. Iterate through GWAS loci, subsetting genomic regions from Arrow or Parquet files\n",
    "5. Add other functional genomic data as separate layers as needed"
   ]
  },
  {
   "cell_type": "markdown",
   "id": "fa3bddee",
   "metadata": {},
   "source": [
    "# Other functionalities\n",
    " \n",
    "   <p align=\"center\">\n",
    "   <img src=\"./manhattan.png\" width=\"800\">\n",
    "   </p>"
   ]
  }
 ],
 "metadata": {
  "kernelspec": {
   "display_name": "Julia 1.7.0",
   "language": "julia",
   "name": "julia-1.7"
  },
  "language_info": {
   "file_extension": ".jl",
   "mimetype": "application/julia",
   "name": "julia",
   "version": "1.7.0"
  },
  "toc": {
   "base_numbering": 1,
   "nav_menu": {},
   "number_sections": false,
   "sideBar": true,
   "skip_h1_title": false,
   "title_cell": "Table of Contents",
   "title_sidebar": "Contents",
   "toc_cell": false,
   "toc_position": {},
   "toc_section_display": true,
   "toc_window_display": false
  }
 },
 "nbformat": 4,
 "nbformat_minor": 5
}
